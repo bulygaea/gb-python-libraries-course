{
 "cells":[
  {
   "cell_type":"code",
   "source":[
    "import pandas as pd\n",
    "import numpy as np\n",
    "import sklearn\n",
    "import sklearn.model_selection\n",
    "import matplotlib.pyplot as plt\n",
    "%matplotlib inline"
   ],
   "execution_count":1,
   "outputs":[
    
   ],
   "metadata":{
    "datalore":{
     "node_id":"PbvYqLqB3bAmw1nNOOmrGg",
     "type":"CODE",
     "hide_input_from_viewers":true,
     "hide_output_from_viewers":true
    }
   }
  },
  {
   "cell_type":"markdown",
   "source":[
    "# Задание 1"
   ],
   "attachments":{
    
   },
   "metadata":{
    "datalore":{
     "node_id":"4HUBhVonoIJEZsaG0vLdkO",
     "type":"MD",
     "hide_input_from_viewers":true,
     "hide_output_from_viewers":true
    }
   }
  },
  {
   "cell_type":"markdown",
   "source":[
    "Загрузите `\"Boston House Prices dataset\"` из встроенных наборов данных библиотеки sklearn. Создайте датафреймы `X` и `y` из этих данных.\n",
    "\n",
    "Разбейте эти датафреймы на тренировочные `(X_train, y_train)` и тестовые `(X_test, y_test)` с помощью функции `train_test_split` так, чтобы размер тестовой выборки составлял `30%` от всех данных, при этом аргумент `random_state` должен быть равен `42`.\n",
    "\n",
    "Создайте модель линейной регрессии под названием `lr` с помощью класса `LinearRegression` из модуля `sklearn.linear_model`.\n",
    "\n",
    "Обучите модель на тренировочных данных (используйте все признаки) и сделайте предсказание на тестовых.\n",
    "\n",
    "Вычислите `R2` полученных предсказаний с помощью `r2_score` из модуля `sklearn.metrics`."
   ],
   "attachments":{
    
   },
   "metadata":{
    "datalore":{
     "node_id":"r9ivnSQyjTB3XkivrTDadl",
     "type":"MD",
     "hide_input_from_viewers":true,
     "hide_output_from_viewers":true
    }
   }
  },
  {
   "cell_type":"code",
   "source":[
    "data_url = \"http:\/\/lib.stat.cmu.edu\/datasets\/boston\"\n",
    "raw_df = pd.read_csv(data_url, sep=\"\\s+\", skiprows=22, header=None)\n",
    "X = pd.DataFrame(np.hstack([raw_df.values[::2, :], raw_df.values[1::2, :2]]))\n",
    "y = pd.DataFrame(raw_df.values[1::2, 2])\n",
    "X.columns = ['CRIM', 'ZN', 'INDUS', 'CHAS',\n",
    "                'NOX', 'RM', 'AGE', 'DIS', 'RAD',\n",
    "                'TAX', 'PTRATIO', 'B', 'LSTAT']\n",
    "y.columns = ['MEDV']\n",
    "\n",
    "X.head()"
   ],
   "execution_count":2,
   "outputs":[
    {
     "data":{
      "text\/html":[
       "<div>\n",
       "<style scoped>\n",
       "    .dataframe tbody tr th:only-of-type {\n",
       "        vertical-align: middle;\n",
       "    }\n",
       "\n",
       "    .dataframe tbody tr th {\n",
       "        vertical-align: top;\n",
       "    }\n",
       "\n",
       "    .dataframe thead th {\n",
       "        text-align: right;\n",
       "    }\n",
       "<\/style>\n",
       "<table border=\"1\" class=\"dataframe\">\n",
       "  <thead>\n",
       "    <tr style=\"text-align: right;\">\n",
       "      <th><\/th>\n",
       "      <th>CRIM<\/th>\n",
       "      <th>ZN<\/th>\n",
       "      <th>INDUS<\/th>\n",
       "      <th>CHAS<\/th>\n",
       "      <th>NOX<\/th>\n",
       "      <th>RM<\/th>\n",
       "      <th>AGE<\/th>\n",
       "      <th>DIS<\/th>\n",
       "      <th>RAD<\/th>\n",
       "      <th>TAX<\/th>\n",
       "      <th>PTRATIO<\/th>\n",
       "      <th>B<\/th>\n",
       "      <th>LSTAT<\/th>\n",
       "    <\/tr>\n",
       "  <\/thead>\n",
       "  <tbody>\n",
       "    <tr>\n",
       "      <th>0<\/th>\n",
       "      <td>0.00632<\/td>\n",
       "      <td>18.0<\/td>\n",
       "      <td>2.31<\/td>\n",
       "      <td>0.0<\/td>\n",
       "      <td>0.538<\/td>\n",
       "      <td>6.575<\/td>\n",
       "      <td>65.2<\/td>\n",
       "      <td>4.0900<\/td>\n",
       "      <td>1.0<\/td>\n",
       "      <td>296.0<\/td>\n",
       "      <td>15.3<\/td>\n",
       "      <td>396.90<\/td>\n",
       "      <td>4.98<\/td>\n",
       "    <\/tr>\n",
       "    <tr>\n",
       "      <th>1<\/th>\n",
       "      <td>0.02731<\/td>\n",
       "      <td>0.0<\/td>\n",
       "      <td>7.07<\/td>\n",
       "      <td>0.0<\/td>\n",
       "      <td>0.469<\/td>\n",
       "      <td>6.421<\/td>\n",
       "      <td>78.9<\/td>\n",
       "      <td>4.9671<\/td>\n",
       "      <td>2.0<\/td>\n",
       "      <td>242.0<\/td>\n",
       "      <td>17.8<\/td>\n",
       "      <td>396.90<\/td>\n",
       "      <td>9.14<\/td>\n",
       "    <\/tr>\n",
       "    <tr>\n",
       "      <th>2<\/th>\n",
       "      <td>0.02729<\/td>\n",
       "      <td>0.0<\/td>\n",
       "      <td>7.07<\/td>\n",
       "      <td>0.0<\/td>\n",
       "      <td>0.469<\/td>\n",
       "      <td>7.185<\/td>\n",
       "      <td>61.1<\/td>\n",
       "      <td>4.9671<\/td>\n",
       "      <td>2.0<\/td>\n",
       "      <td>242.0<\/td>\n",
       "      <td>17.8<\/td>\n",
       "      <td>392.83<\/td>\n",
       "      <td>4.03<\/td>\n",
       "    <\/tr>\n",
       "    <tr>\n",
       "      <th>3<\/th>\n",
       "      <td>0.03237<\/td>\n",
       "      <td>0.0<\/td>\n",
       "      <td>2.18<\/td>\n",
       "      <td>0.0<\/td>\n",
       "      <td>0.458<\/td>\n",
       "      <td>6.998<\/td>\n",
       "      <td>45.8<\/td>\n",
       "      <td>6.0622<\/td>\n",
       "      <td>3.0<\/td>\n",
       "      <td>222.0<\/td>\n",
       "      <td>18.7<\/td>\n",
       "      <td>394.63<\/td>\n",
       "      <td>2.94<\/td>\n",
       "    <\/tr>\n",
       "    <tr>\n",
       "      <th>4<\/th>\n",
       "      <td>0.06905<\/td>\n",
       "      <td>0.0<\/td>\n",
       "      <td>2.18<\/td>\n",
       "      <td>0.0<\/td>\n",
       "      <td>0.458<\/td>\n",
       "      <td>7.147<\/td>\n",
       "      <td>54.2<\/td>\n",
       "      <td>6.0622<\/td>\n",
       "      <td>3.0<\/td>\n",
       "      <td>222.0<\/td>\n",
       "      <td>18.7<\/td>\n",
       "      <td>396.90<\/td>\n",
       "      <td>5.33<\/td>\n",
       "    <\/tr>\n",
       "  <\/tbody>\n",
       "<\/table>\n",
       "<\/div>"
      ]
     },
     "metadata":{
      
     },
     "output_type":"display_data"
    }
   ],
   "metadata":{
    "datalore":{
     "node_id":"6PGGIT2g2t1VQIgT9ySfwC",
     "type":"CODE",
     "hide_input_from_viewers":true,
     "hide_output_from_viewers":true
    }
   }
  },
  {
   "cell_type":"code",
   "source":[
    "X_train, X_test, y_train, y_test = sklearn.model_selection.train_test_split(X, y, test_size=0.3, random_state=42)\n",
    "X_train.shape, y_train.shape"
   ],
   "execution_count":3,
   "outputs":[
    {
     "data":{
      "text\/plain":[
       "((354, 13), (354, 1))"
      ]
     },
     "metadata":{
      
     },
     "output_type":"display_data"
    }
   ],
   "metadata":{
    "datalore":{
     "node_id":"ce9ZB8ouGegBOVclRrEpyk",
     "type":"CODE",
     "hide_input_from_viewers":true,
     "hide_output_from_viewers":true
    }
   }
  },
  {
   "cell_type":"code",
   "source":[
    "\n",
    "from sklearn.linear_model import LinearRegression\n",
    "lr = LinearRegression()\n",
    "lr.fit(X_train, y_train)"
   ],
   "execution_count":4,
   "outputs":[
    {
     "data":{
      "text\/plain":[
       "LinearRegression()"
      ]
     },
     "metadata":{
      
     },
     "output_type":"display_data"
    }
   ],
   "metadata":{
    "datalore":{
     "node_id":"O1iu0LJe2rHdcNm6RPUpjy",
     "type":"CODE",
     "hide_input_from_viewers":true,
     "hide_output_from_viewers":true
    }
   }
  },
  {
   "cell_type":"code",
   "source":[
    "from sklearn.metrics import r2_score"
   ],
   "execution_count":5,
   "outputs":[
    
   ],
   "metadata":{
    "datalore":{
     "node_id":"6cijoSLmMXkfqca4YJ8MVV",
     "type":"CODE",
     "hide_input_from_viewers":true,
     "hide_output_from_viewers":true
    }
   }
  },
  {
   "cell_type":"code",
   "source":[
    "y_predict = lr.predict(X_test)\n",
    "r2_score(y_test, y_predict)"
   ],
   "execution_count":6,
   "outputs":[
    {
     "data":{
      "text\/plain":[
       "0.7112260057484874"
      ]
     },
     "metadata":{
      
     },
     "output_type":"display_data"
    }
   ],
   "metadata":{
    "datalore":{
     "node_id":"oagsoWzjSrrn80vLJm6swa",
     "type":"CODE",
     "hide_input_from_viewers":true,
     "hide_output_from_viewers":true
    }
   }
  },
  {
   "cell_type":"markdown",
   "source":[
    "# Задание 2"
   ],
   "attachments":{
    
   },
   "metadata":{
    "datalore":{
     "node_id":"fNIjTc6vvqW2nnM6h7A8mJ",
     "type":"MD",
     "hide_input_from_viewers":true,
     "hide_output_from_viewers":true
    }
   }
  },
  {
   "cell_type":"markdown",
   "source":[
    "Создайте модель под названием `model` с помощью `RandomForestRegressor` из модуля `sklearn.ensemble`.\n",
    "\n",
    "Сделайте аргумент `n_estimators` равным `1000`, `max_depth` должен быть равен `12` и `random_state` сделайте равным `42`.\n",
    "\n",
    "Обучите модель на тренировочных данных аналогично тому, как вы обучали модель `LinearRegression`, но при этом в метод `fit` вместо датафрейма `y_train` поставьте `y_train.values[:, 0]`, чтобы получить из датафрейма одномерный массив `Numpy`, так как для класса `RandomForestRegressor` в данном методе для аргумента y предпочтительно применение массивов вместо датафрейма.\n",
    "\n",
    "Сделайте предсказание на тестовых данных и посчитайте `R2`. Сравните с результатом из предыдущего задания.\n",
    "\n",
    "Напишите в комментариях к коду, какая модель в данном случае работает лучше."
   ],
   "attachments":{
    
   },
   "metadata":{
    "datalore":{
     "node_id":"rZi9U4Zzl4GSTychB4uphR",
     "type":"MD",
     "hide_input_from_viewers":true,
     "hide_output_from_viewers":true
    }
   }
  },
  {
   "cell_type":"code",
   "source":[
    "from sklearn.ensemble import RandomForestRegressor\n",
    "model = RandomForestRegressor(n_estimators=1000, max_depth=12, random_state=42)"
   ],
   "execution_count":7,
   "outputs":[
    
   ],
   "metadata":{
    "datalore":{
     "node_id":"iqT2AfTxJfRlv7Z0cURKIe",
     "type":"CODE",
     "hide_input_from_viewers":true,
     "hide_output_from_viewers":true
    }
   }
  },
  {
   "cell_type":"code",
   "source":[
    "model.fit(X_train, y_train.values[:, 0])"
   ],
   "execution_count":8,
   "outputs":[
    {
     "data":{
      "text\/plain":[
       "RandomForestRegressor(max_depth=12, n_estimators=1000, random_state=42)"
      ]
     },
     "metadata":{
      
     },
     "output_type":"display_data"
    }
   ],
   "metadata":{
    "datalore":{
     "node_id":"ptHvrzM5oOjo1lzExGWyVm",
     "type":"CODE",
     "hide_input_from_viewers":true,
     "hide_output_from_viewers":true
    }
   }
  },
  {
   "cell_type":"code",
   "source":[
    "model.score(X_test, y_test)"
   ],
   "execution_count":9,
   "outputs":[
    {
     "data":{
      "text\/plain":[
       "0.87472606157312"
      ]
     },
     "metadata":{
      
     },
     "output_type":"display_data"
    }
   ],
   "metadata":{
    "datalore":{
     "node_id":"3jOvW9pXLBLBEwDVwVvvAP",
     "type":"CODE",
     "hide_input_from_viewers":true,
     "hide_output_from_viewers":true
    }
   }
  },
  {
   "cell_type":"markdown",
   "source":[
    "В данном случае алгоритм Случайного леса чаще дает правильные ответы в отличие от линейной регрессии."
   ],
   "attachments":{
    
   },
   "metadata":{
    "datalore":{
     "node_id":"Ef6ZmC4p5RLvvckWZzWtzR",
     "type":"MD",
     "hide_input_from_viewers":true,
     "hide_output_from_viewers":true
    }
   }
  },
  {
   "cell_type":"markdown",
   "source":[
    "# Задание 3"
   ],
   "attachments":{
    
   },
   "metadata":{
    "datalore":{
     "node_id":"aAXuJ7KCL2ZJiJhIRJTCyr",
     "type":"MD",
     "hide_input_from_viewers":true,
     "hide_output_from_viewers":true
    }
   }
  },
  {
   "cell_type":"markdown",
   "source":[
    "Вызовите документацию для класса `RandomForestRegressor`, найдите информацию об атрибуте `feature_importances_`.\n",
    "\n",
    "С помощью этого атрибута найдите сумму всех показателей важности, установите, какие два признака показывают наибольшую важность."
   ],
   "attachments":{
    
   },
   "metadata":{
    "datalore":{
     "node_id":"GJ6kuJ6x4K32ZsOTGoq0B7",
     "type":"MD",
     "hide_input_from_viewers":true,
     "hide_output_from_viewers":true
    }
   }
  },
  {
   "cell_type":"code",
   "source":[
    "print(RandomForestRegressor.feature_importances_.__doc__)"
   ],
   "execution_count":10,
   "outputs":[
    {
     "name":"stdout",
     "text":[
      "\n",
      "        The impurity-based feature importances.\n",
      "\n",
      "        The higher, the more important the feature.\n",
      "        The importance of a feature is computed as the (normalized)\n",
      "        total reduction of the criterion brought by that feature.  It is also\n",
      "        known as the Gini importance.\n",
      "\n",
      "        Warning: impurity-based feature importances can be misleading for\n",
      "        high cardinality features (many unique values). See\n",
      "        :func:`sklearn.inspection.permutation_importance` as an alternative.\n",
      "\n",
      "        Returns\n",
      "        -------\n",
      "        feature_importances_ : ndarray of shape (n_features,)\n",
      "            The values of this array sum to 1, unless all trees are single node\n",
      "            trees consisting of only the root node, in which case it will be an\n",
      "            array of zeros.\n",
      "        \n"
     ],
     "output_type":"stream"
    }
   ],
   "metadata":{
    "datalore":{
     "node_id":"RnZf5fGdDKe3kkd4sWWxX2",
     "type":"CODE",
     "hide_input_from_viewers":true,
     "hide_output_from_viewers":true
    }
   }
  },
  {
   "cell_type":"code",
   "source":[
    "fig, ax = plt.subplots(figsize=(10, 6))\n",
    "ax.bar(X.keys(), model.feature_importances_)"
   ],
   "execution_count":11,
   "outputs":[
    {
     "data":{
      "text\/plain":[
       "<BarContainer object of 13 artists>"
      ]
     },
     "metadata":{
      
     },
     "output_type":"display_data"
    },
    {
     "data":{
      "image\/png":"[encoded data removed]"
     },
     "metadata":{
      "image\/png":{
       
      }
     },
     "output_type":"display_data"
    }
   ],
   "metadata":{
    "datalore":{
     "node_id":"cBKhCHSeQzxCRBkAXM63PJ",
     "type":"CODE",
     "hide_input_from_viewers":true,
     "hide_output_from_viewers":true
    }
   }
  },
  {
   "cell_type":"markdown",
   "source":[
    "Наибольшую важность показывают признаки `RM` и `LSTAT`."
   ],
   "attachments":{
    
   },
   "metadata":{
    "datalore":{
     "node_id":"OjSviDXUMzDCDjy3cjWrGx",
     "type":"MD",
     "hide_input_from_viewers":true,
     "hide_output_from_viewers":true
    }
   }
  },
  {
   "cell_type":"markdown",
   "source":[
    "# Задание 4"
   ],
   "attachments":{
    
   },
   "metadata":{
    "datalore":{
     "node_id":"ExGdlULxb8tbBpPiy1EP99",
     "type":"MD",
     "hide_input_from_viewers":true,
     "hide_output_from_viewers":true
    }
   }
  },
  {
   "cell_type":"markdown",
   "source":[
    "В этом задании мы будем работать с датасетом, с которым мы уже знакомы по домашнему заданию по библиотеке `Matplotlib`, это датасет __[Credit Card Fraud Detection](https:\/\/www.kaggle.com\/datasets\/mlg-ulb\/creditcardfraud)__. Для этого датасета мы будем решать задачу классификации - будем определять, какие из транзакций по кредитной карте являются мошенническими. Данный датасет сильно несбалансирован (так как случаи мошенничества относительно редки),так что применение метрики `accuracy` не принесет пользы и не поможет выбрать лучшую модель. Мы будем вычислять `AUC`, то есть площадь под кривой `ROC`.\n",
    "\n",
    "Импортируйте из соответствующих модулей `RandomForestClassifier` и `GridSearchCV`."
   ],
   "attachments":{
    
   },
   "metadata":{
    "datalore":{
     "node_id":"XlGmg3cBPHXyS4vqxlw6HJ",
     "type":"MD",
     "hide_input_from_viewers":true,
     "hide_output_from_viewers":true
    }
   }
  },
  {
   "cell_type":"code",
   "source":[
    "from sklearn.ensemble import RandomForestClassifier\n",
    "from sklearn.model_selection import GridSearchCV"
   ],
   "execution_count":12,
   "outputs":[
    
   ],
   "metadata":{
    "datalore":{
     "node_id":"6gXOxHJlNo9NhEHvInLmdl",
     "type":"CODE",
     "hide_input_from_viewers":true,
     "hide_output_from_viewers":true
    }
   }
  },
  {
   "cell_type":"markdown",
   "source":[
    "Загрузите датасет `creditcard.csv` и создайте датафрейм `df`.\n",
    "\n",
    "С помощью метода `value_counts` с аргументом `normalize=True` убедитесь в том, что выборка несбалансирована."
   ],
   "attachments":{
    
   },
   "metadata":{
    "datalore":{
     "node_id":"pdzW9Cbnu4R3XSSUWj4K2E",
     "type":"MD",
     "hide_input_from_viewers":true,
     "hide_output_from_viewers":true
    }
   }
  },
  {
   "cell_type":"code",
   "source":[
    "df = pd.read_csv('\/data\/notebook_files\/creditcard.csv')\n",
    "df.value_counts(normalize=True)"
   ],
   "execution_count":13,
   "outputs":[
    {
     "data":{
      "text\/html":[
       "<pre>Time      V1          V2          V3         V4         V5         V6         V7          V8          V9         V10        V11        V12        V13        V14        V15        V16        V17        V18        V19        V20        V21         V22        V23        V24        V25        V26        V27        V28        Amount  Class\n",
       "163152.0  -1.196037    1.585949    2.883976   3.378471   1.511706   3.717077   0.585362   -0.156001    0.122648   4.217934   1.385525  -0.709405  -0.256168  -1.564352   1.693218  -0.785210  -0.228008  -0.412833   0.234834   1.375790  -0.370294    0.524395  -0.355170  -0.869790  -0.133198   0.327804  -0.035702  -0.858197  7.56    0        0.000063\n",
       "          -1.203617    1.574009    2.889277   3.381404   1.538663   3.698747   0.560211   -0.150911    0.124136   4.220998   1.384569  -0.706897  -0.256274  -1.562583   1.692915  -0.787338  -0.226776  -0.412354   0.234322   1.385597  -0.366727    0.522223  -0.357329  -0.870174  -0.134166   0.327019  -0.042648  -0.855262  1.51    0        0.000063\n",
       "43153.0   -2.086016    2.203265    1.654339   2.941050  -1.683045   0.529728  -1.352162    1.793449   -0.723686   0.600365  -0.982212  -0.551636  -1.337000   0.834403   1.251862   0.033455   1.067978   0.160510   0.213087   0.079002   0.216444    0.567241  -0.035345   0.370201   0.157378   0.440341   0.210230   0.090558  0.76    0        0.000032\n",
       "170731.0   2.033492    0.766969   -2.107555   3.631952   1.348594  -0.499907   0.945159   -0.286392   -1.370581   1.653073  -1.600434  -1.510901  -2.143280   1.189850  -0.875588   0.175808  -0.419433  -0.464717  -1.414528  -0.430560   0.241894    0.658545  -0.102644   0.580535   0.643637   0.347240  -0.116618  -0.078601  0.76    0        0.000032\n",
       "68207.0   -13.192671   12.785971  -9.906650   3.320337  -4.801176   5.760059  -18.750889  -37.353443  -0.391540  -5.052502   4.406806  -4.610756  -1.909488  -9.072711  -0.226074  -6.211557  -6.248145  -3.149247   0.051576  -3.493050   27.202839  -8.887017   5.303607  -0.639435   0.263203  -0.108877   1.269566   0.939407  1.00    1        0.000021\n",
       "                                                                                                                                                                                                                                                                                                                                                      ...   \n",
       "65149.0   -0.608037    0.277482    2.333740   0.713876  -0.686327   0.424502   0.158410    0.277078    0.005665  -0.574444  -0.383596   0.063757   0.435809  -0.294166   1.561564   0.430549  -0.512260   0.321857  -1.089111   0.192164   0.425425    1.077523   0.095700   0.080007  -0.087784  -0.253436   0.077868   0.055774  115.98  0        0.000004\n",
       "           0.890428   -0.914533    0.916273   0.533497  -1.417793  -0.283902  -0.520284    0.002223   -1.050330   0.827726   1.336306   0.961705   0.778165   0.101997   0.352339  -0.892199  -0.538873   1.792922  -1.092627  -0.119284  -0.239564   -0.634749  -0.018377   0.482486   0.102384  -0.559266   0.040121   0.067240  192.05  0        0.000004\n",
       "65150.0   -0.819167    1.289630    1.155617  -0.356589   0.742668  -1.179886   1.114827   -0.105033   -1.169136  -1.218791   1.841286   0.558376   0.081792  -1.028918  -0.400824   0.722658   0.402985   0.613975  -0.605494  -0.014715  -0.011025   -0.125263  -0.385443   0.449483   0.536560   0.252429  -0.020876   0.072608  0.76    0        0.000004\n",
       "          -0.283939    1.355339    0.553398   0.255501   0.561040  -1.338352   1.056880   -0.229176   -0.738105  -1.157676   0.000759  -0.543236  -0.313497  -1.370815   0.770587   0.452886   1.064176   0.458320  -0.199074  -0.019922  -0.076192   -0.211969  -0.256209   0.259185   0.096589   0.327896   0.021232   0.083294  0.76    0        0.000004\n",
       "172792.0  -0.533413   -0.189733    0.703337  -0.506271  -0.012546  -0.649617   1.577006   -0.414650    0.486180  -0.915427  -1.040458  -0.031513  -0.188093  -0.084316   0.041333  -0.302620  -0.660377   0.167430  -0.256117   0.382948   0.261057    0.643078   0.376777   0.008797  -0.473649  -0.818267  -0.002415   0.013649  217.00  0        0.000004\n",
       "Length: 283726, dtype: float64<\/pre>"
      ]
     },
     "metadata":{
      
     },
     "output_type":"display_data"
    }
   ],
   "metadata":{
    "datalore":{
     "node_id":"ixxcF782Cq92NVT9mCtEYz",
     "type":"CODE",
     "hide_input_from_viewers":true,
     "hide_output_from_viewers":true
    }
   }
  },
  {
   "cell_type":"markdown",
   "source":[
    "Используя метод `info`, проверьте, все ли столбцы содержат числовые данные и нет ли в них пропусков."
   ],
   "attachments":{
    
   },
   "metadata":{
    "datalore":{
     "node_id":"61aEDVTUbLPs0FhuQJiNME",
     "type":"MD",
     "hide_input_from_viewers":true,
     "hide_output_from_viewers":true
    }
   }
  },
  {
   "cell_type":"code",
   "source":[
    "df.info()"
   ],
   "execution_count":14,
   "outputs":[
    {
     "name":"stdout",
     "text":[
      "<class 'pandas.core.frame.DataFrame'>\n",
      "RangeIndex: 284807 entries, 0 to 284806\n",
      "Data columns (total 31 columns):\n",
      " #   Column  Non-Null Count   Dtype  \n",
      "---  ------  --------------   -----  \n",
      " 0   Time    284807 non-null  float64\n",
      " 1   V1      284807 non-null  float64\n",
      " 2   V2      284807 non-null  float64\n",
      " 3   V3      284807 non-null  float64\n",
      " 4   V4      284807 non-null  float64\n",
      " 5   V5      284807 non-null  float64\n",
      " 6   V6      284807 non-null  float64\n",
      " 7   V7      284807 non-null  float64\n",
      " 8   V8      284807 non-null  float64\n",
      " 9   V9      284807 non-null  float64\n",
      " 10  V10     284807 non-null  float64\n",
      " 11  V11     284807 non-null  float64\n",
      " 12  V12     284807 non-null  float64\n",
      " 13  V13     284807 non-null  float64\n",
      " 14  V14     284807 non-null  float64\n",
      " 15  V15     284807 non-null  float64\n",
      " 16  V16     284807 non-null  float64\n",
      " 17  V17     284807 non-null  float64\n",
      " 18  V18     284807 non-null  float64\n",
      " 19  V19     284807 non-null  float64\n",
      " 20  V20     284807 non-null  float64\n",
      " 21  V21     284807 non-null  float64\n",
      " 22  V22     284807 non-null  float64\n",
      " 23  V23     284807 non-null  float64\n",
      " 24  V24     284807 non-null  float64\n",
      " 25  V25     284807 non-null  float64\n",
      " 26  V26     284807 non-null  float64\n",
      " 27  V27     284807 non-null  float64\n",
      " 28  V28     284807 non-null  float64\n",
      " 29  Amount  284807 non-null  float64\n",
      " 30  Class   284807 non-null  int64  \n",
      "dtypes: float64(30), int64(1)\n",
      "memory usage: 67.4 MB\n"
     ],
     "output_type":"stream"
    }
   ],
   "metadata":{
    "datalore":{
     "node_id":"is677dhd976laVyR43BxmE",
     "type":"CODE",
     "hide_input_from_viewers":true,
     "hide_output_from_viewers":true
    }
   }
  },
  {
   "cell_type":"markdown",
   "source":[
    "Примените следующую настройку, чтобы можно было просматривать все столбцы датафрейма:\n",
    "\n",
    "`pd.options.display.max_columns = 100`.\n",
    "\n",
    "Просмотрите первые `10` строк датафрейма `df`."
   ],
   "attachments":{
    
   },
   "metadata":{
    "datalore":{
     "node_id":"QKCzdgSEK53MoasDP2yuM4",
     "type":"MD",
     "hide_input_from_viewers":true,
     "hide_output_from_viewers":true
    }
   }
  },
  {
   "cell_type":"code",
   "source":[
    "pd.options.display.max_columns = 100\n",
    "df.head(10)"
   ],
   "execution_count":15,
   "outputs":[
    {
     "data":{
      "text\/html":[
       "<div>\n",
       "<style scoped>\n",
       "    .dataframe tbody tr th:only-of-type {\n",
       "        vertical-align: middle;\n",
       "    }\n",
       "\n",
       "    .dataframe tbody tr th {\n",
       "        vertical-align: top;\n",
       "    }\n",
       "\n",
       "    .dataframe thead th {\n",
       "        text-align: right;\n",
       "    }\n",
       "<\/style>\n",
       "<table border=\"1\" class=\"dataframe\">\n",
       "  <thead>\n",
       "    <tr style=\"text-align: right;\">\n",
       "      <th><\/th>\n",
       "      <th>Time<\/th>\n",
       "      <th>V1<\/th>\n",
       "      <th>V2<\/th>\n",
       "      <th>V3<\/th>\n",
       "      <th>V4<\/th>\n",
       "      <th>V5<\/th>\n",
       "      <th>V6<\/th>\n",
       "      <th>V7<\/th>\n",
       "      <th>V8<\/th>\n",
       "      <th>V9<\/th>\n",
       "      <th>V10<\/th>\n",
       "      <th>V11<\/th>\n",
       "      <th>V12<\/th>\n",
       "      <th>V13<\/th>\n",
       "      <th>V14<\/th>\n",
       "      <th>V15<\/th>\n",
       "      <th>V16<\/th>\n",
       "      <th>V17<\/th>\n",
       "      <th>V18<\/th>\n",
       "      <th>V19<\/th>\n",
       "      <th>V20<\/th>\n",
       "      <th>V21<\/th>\n",
       "      <th>V22<\/th>\n",
       "      <th>V23<\/th>\n",
       "      <th>V24<\/th>\n",
       "      <th>V25<\/th>\n",
       "      <th>V26<\/th>\n",
       "      <th>V27<\/th>\n",
       "      <th>V28<\/th>\n",
       "      <th>Amount<\/th>\n",
       "      <th>Class<\/th>\n",
       "    <\/tr>\n",
       "  <\/thead>\n",
       "  <tbody>\n",
       "    <tr>\n",
       "      <th>0<\/th>\n",
       "      <td>0.0<\/td>\n",
       "      <td>-1.359807<\/td>\n",
       "      <td>-0.072781<\/td>\n",
       "      <td>2.536347<\/td>\n",
       "      <td>1.378155<\/td>\n",
       "      <td>-0.338321<\/td>\n",
       "      <td>0.462388<\/td>\n",
       "      <td>0.239599<\/td>\n",
       "      <td>0.098698<\/td>\n",
       "      <td>0.363787<\/td>\n",
       "      <td>0.090794<\/td>\n",
       "      <td>-0.551600<\/td>\n",
       "      <td>-0.617801<\/td>\n",
       "      <td>-0.991390<\/td>\n",
       "      <td>-0.311169<\/td>\n",
       "      <td>1.468177<\/td>\n",
       "      <td>-0.470401<\/td>\n",
       "      <td>0.207971<\/td>\n",
       "      <td>0.025791<\/td>\n",
       "      <td>0.403993<\/td>\n",
       "      <td>0.251412<\/td>\n",
       "      <td>-0.018307<\/td>\n",
       "      <td>0.277838<\/td>\n",
       "      <td>-0.110474<\/td>\n",
       "      <td>0.066928<\/td>\n",
       "      <td>0.128539<\/td>\n",
       "      <td>-0.189115<\/td>\n",
       "      <td>0.133558<\/td>\n",
       "      <td>-0.021053<\/td>\n",
       "      <td>149.62<\/td>\n",
       "      <td>0<\/td>\n",
       "    <\/tr>\n",
       "    <tr>\n",
       "      <th>1<\/th>\n",
       "      <td>0.0<\/td>\n",
       "      <td>1.191857<\/td>\n",
       "      <td>0.266151<\/td>\n",
       "      <td>0.166480<\/td>\n",
       "      <td>0.448154<\/td>\n",
       "      <td>0.060018<\/td>\n",
       "      <td>-0.082361<\/td>\n",
       "      <td>-0.078803<\/td>\n",
       "      <td>0.085102<\/td>\n",
       "      <td>-0.255425<\/td>\n",
       "      <td>-0.166974<\/td>\n",
       "      <td>1.612727<\/td>\n",
       "      <td>1.065235<\/td>\n",
       "      <td>0.489095<\/td>\n",
       "      <td>-0.143772<\/td>\n",
       "      <td>0.635558<\/td>\n",
       "      <td>0.463917<\/td>\n",
       "      <td>-0.114805<\/td>\n",
       "      <td>-0.183361<\/td>\n",
       "      <td>-0.145783<\/td>\n",
       "      <td>-0.069083<\/td>\n",
       "      <td>-0.225775<\/td>\n",
       "      <td>-0.638672<\/td>\n",
       "      <td>0.101288<\/td>\n",
       "      <td>-0.339846<\/td>\n",
       "      <td>0.167170<\/td>\n",
       "      <td>0.125895<\/td>\n",
       "      <td>-0.008983<\/td>\n",
       "      <td>0.014724<\/td>\n",
       "      <td>2.69<\/td>\n",
       "      <td>0<\/td>\n",
       "    <\/tr>\n",
       "    <tr>\n",
       "      <th>2<\/th>\n",
       "      <td>1.0<\/td>\n",
       "      <td>-1.358354<\/td>\n",
       "      <td>-1.340163<\/td>\n",
       "      <td>1.773209<\/td>\n",
       "      <td>0.379780<\/td>\n",
       "      <td>-0.503198<\/td>\n",
       "      <td>1.800499<\/td>\n",
       "      <td>0.791461<\/td>\n",
       "      <td>0.247676<\/td>\n",
       "      <td>-1.514654<\/td>\n",
       "      <td>0.207643<\/td>\n",
       "      <td>0.624501<\/td>\n",
       "      <td>0.066084<\/td>\n",
       "      <td>0.717293<\/td>\n",
       "      <td>-0.165946<\/td>\n",
       "      <td>2.345865<\/td>\n",
       "      <td>-2.890083<\/td>\n",
       "      <td>1.109969<\/td>\n",
       "      <td>-0.121359<\/td>\n",
       "      <td>-2.261857<\/td>\n",
       "      <td>0.524980<\/td>\n",
       "      <td>0.247998<\/td>\n",
       "      <td>0.771679<\/td>\n",
       "      <td>0.909412<\/td>\n",
       "      <td>-0.689281<\/td>\n",
       "      <td>-0.327642<\/td>\n",
       "      <td>-0.139097<\/td>\n",
       "      <td>-0.055353<\/td>\n",
       "      <td>-0.059752<\/td>\n",
       "      <td>378.66<\/td>\n",
       "      <td>0<\/td>\n",
       "    <\/tr>\n",
       "    <tr>\n",
       "      <th>3<\/th>\n",
       "      <td>1.0<\/td>\n",
       "      <td>-0.966272<\/td>\n",
       "      <td>-0.185226<\/td>\n",
       "      <td>1.792993<\/td>\n",
       "      <td>-0.863291<\/td>\n",
       "      <td>-0.010309<\/td>\n",
       "      <td>1.247203<\/td>\n",
       "      <td>0.237609<\/td>\n",
       "      <td>0.377436<\/td>\n",
       "      <td>-1.387024<\/td>\n",
       "      <td>-0.054952<\/td>\n",
       "      <td>-0.226487<\/td>\n",
       "      <td>0.178228<\/td>\n",
       "      <td>0.507757<\/td>\n",
       "      <td>-0.287924<\/td>\n",
       "      <td>-0.631418<\/td>\n",
       "      <td>-1.059647<\/td>\n",
       "      <td>-0.684093<\/td>\n",
       "      <td>1.965775<\/td>\n",
       "      <td>-1.232622<\/td>\n",
       "      <td>-0.208038<\/td>\n",
       "      <td>-0.108300<\/td>\n",
       "      <td>0.005274<\/td>\n",
       "      <td>-0.190321<\/td>\n",
       "      <td>-1.175575<\/td>\n",
       "      <td>0.647376<\/td>\n",
       "      <td>-0.221929<\/td>\n",
       "      <td>0.062723<\/td>\n",
       "      <td>0.061458<\/td>\n",
       "      <td>123.50<\/td>\n",
       "      <td>0<\/td>\n",
       "    <\/tr>\n",
       "    <tr>\n",
       "      <th>4<\/th>\n",
       "      <td>2.0<\/td>\n",
       "      <td>-1.158233<\/td>\n",
       "      <td>0.877737<\/td>\n",
       "      <td>1.548718<\/td>\n",
       "      <td>0.403034<\/td>\n",
       "      <td>-0.407193<\/td>\n",
       "      <td>0.095921<\/td>\n",
       "      <td>0.592941<\/td>\n",
       "      <td>-0.270533<\/td>\n",
       "      <td>0.817739<\/td>\n",
       "      <td>0.753074<\/td>\n",
       "      <td>-0.822843<\/td>\n",
       "      <td>0.538196<\/td>\n",
       "      <td>1.345852<\/td>\n",
       "      <td>-1.119670<\/td>\n",
       "      <td>0.175121<\/td>\n",
       "      <td>-0.451449<\/td>\n",
       "      <td>-0.237033<\/td>\n",
       "      <td>-0.038195<\/td>\n",
       "      <td>0.803487<\/td>\n",
       "      <td>0.408542<\/td>\n",
       "      <td>-0.009431<\/td>\n",
       "      <td>0.798278<\/td>\n",
       "      <td>-0.137458<\/td>\n",
       "      <td>0.141267<\/td>\n",
       "      <td>-0.206010<\/td>\n",
       "      <td>0.502292<\/td>\n",
       "      <td>0.219422<\/td>\n",
       "      <td>0.215153<\/td>\n",
       "      <td>69.99<\/td>\n",
       "      <td>0<\/td>\n",
       "    <\/tr>\n",
       "    <tr>\n",
       "      <th>5<\/th>\n",
       "      <td>2.0<\/td>\n",
       "      <td>-0.425966<\/td>\n",
       "      <td>0.960523<\/td>\n",
       "      <td>1.141109<\/td>\n",
       "      <td>-0.168252<\/td>\n",
       "      <td>0.420987<\/td>\n",
       "      <td>-0.029728<\/td>\n",
       "      <td>0.476201<\/td>\n",
       "      <td>0.260314<\/td>\n",
       "      <td>-0.568671<\/td>\n",
       "      <td>-0.371407<\/td>\n",
       "      <td>1.341262<\/td>\n",
       "      <td>0.359894<\/td>\n",
       "      <td>-0.358091<\/td>\n",
       "      <td>-0.137134<\/td>\n",
       "      <td>0.517617<\/td>\n",
       "      <td>0.401726<\/td>\n",
       "      <td>-0.058133<\/td>\n",
       "      <td>0.068653<\/td>\n",
       "      <td>-0.033194<\/td>\n",
       "      <td>0.084968<\/td>\n",
       "      <td>-0.208254<\/td>\n",
       "      <td>-0.559825<\/td>\n",
       "      <td>-0.026398<\/td>\n",
       "      <td>-0.371427<\/td>\n",
       "      <td>-0.232794<\/td>\n",
       "      <td>0.105915<\/td>\n",
       "      <td>0.253844<\/td>\n",
       "      <td>0.081080<\/td>\n",
       "      <td>3.67<\/td>\n",
       "      <td>0<\/td>\n",
       "    <\/tr>\n",
       "    <tr>\n",
       "      <th>6<\/th>\n",
       "      <td>4.0<\/td>\n",
       "      <td>1.229658<\/td>\n",
       "      <td>0.141004<\/td>\n",
       "      <td>0.045371<\/td>\n",
       "      <td>1.202613<\/td>\n",
       "      <td>0.191881<\/td>\n",
       "      <td>0.272708<\/td>\n",
       "      <td>-0.005159<\/td>\n",
       "      <td>0.081213<\/td>\n",
       "      <td>0.464960<\/td>\n",
       "      <td>-0.099254<\/td>\n",
       "      <td>-1.416907<\/td>\n",
       "      <td>-0.153826<\/td>\n",
       "      <td>-0.751063<\/td>\n",
       "      <td>0.167372<\/td>\n",
       "      <td>0.050144<\/td>\n",
       "      <td>-0.443587<\/td>\n",
       "      <td>0.002821<\/td>\n",
       "      <td>-0.611987<\/td>\n",
       "      <td>-0.045575<\/td>\n",
       "      <td>-0.219633<\/td>\n",
       "      <td>-0.167716<\/td>\n",
       "      <td>-0.270710<\/td>\n",
       "      <td>-0.154104<\/td>\n",
       "      <td>-0.780055<\/td>\n",
       "      <td>0.750137<\/td>\n",
       "      <td>-0.257237<\/td>\n",
       "      <td>0.034507<\/td>\n",
       "      <td>0.005168<\/td>\n",
       "      <td>4.99<\/td>\n",
       "      <td>0<\/td>\n",
       "    <\/tr>\n",
       "    <tr>\n",
       "      <th>7<\/th>\n",
       "      <td>7.0<\/td>\n",
       "      <td>-0.644269<\/td>\n",
       "      <td>1.417964<\/td>\n",
       "      <td>1.074380<\/td>\n",
       "      <td>-0.492199<\/td>\n",
       "      <td>0.948934<\/td>\n",
       "      <td>0.428118<\/td>\n",
       "      <td>1.120631<\/td>\n",
       "      <td>-3.807864<\/td>\n",
       "      <td>0.615375<\/td>\n",
       "      <td>1.249376<\/td>\n",
       "      <td>-0.619468<\/td>\n",
       "      <td>0.291474<\/td>\n",
       "      <td>1.757964<\/td>\n",
       "      <td>-1.323865<\/td>\n",
       "      <td>0.686133<\/td>\n",
       "      <td>-0.076127<\/td>\n",
       "      <td>-1.222127<\/td>\n",
       "      <td>-0.358222<\/td>\n",
       "      <td>0.324505<\/td>\n",
       "      <td>-0.156742<\/td>\n",
       "      <td>1.943465<\/td>\n",
       "      <td>-1.015455<\/td>\n",
       "      <td>0.057504<\/td>\n",
       "      <td>-0.649709<\/td>\n",
       "      <td>-0.415267<\/td>\n",
       "      <td>-0.051634<\/td>\n",
       "      <td>-1.206921<\/td>\n",
       "      <td>-1.085339<\/td>\n",
       "      <td>40.80<\/td>\n",
       "      <td>0<\/td>\n",
       "    <\/tr>\n",
       "    <tr>\n",
       "      <th>8<\/th>\n",
       "      <td>7.0<\/td>\n",
       "      <td>-0.894286<\/td>\n",
       "      <td>0.286157<\/td>\n",
       "      <td>-0.113192<\/td>\n",
       "      <td>-0.271526<\/td>\n",
       "      <td>2.669599<\/td>\n",
       "      <td>3.721818<\/td>\n",
       "      <td>0.370145<\/td>\n",
       "      <td>0.851084<\/td>\n",
       "      <td>-0.392048<\/td>\n",
       "      <td>-0.410430<\/td>\n",
       "      <td>-0.705117<\/td>\n",
       "      <td>-0.110452<\/td>\n",
       "      <td>-0.286254<\/td>\n",
       "      <td>0.074355<\/td>\n",
       "      <td>-0.328783<\/td>\n",
       "      <td>-0.210077<\/td>\n",
       "      <td>-0.499768<\/td>\n",
       "      <td>0.118765<\/td>\n",
       "      <td>0.570328<\/td>\n",
       "      <td>0.052736<\/td>\n",
       "      <td>-0.073425<\/td>\n",
       "      <td>-0.268092<\/td>\n",
       "      <td>-0.204233<\/td>\n",
       "      <td>1.011592<\/td>\n",
       "      <td>0.373205<\/td>\n",
       "      <td>-0.384157<\/td>\n",
       "      <td>0.011747<\/td>\n",
       "      <td>0.142404<\/td>\n",
       "      <td>93.20<\/td>\n",
       "      <td>0<\/td>\n",
       "    <\/tr>\n",
       "    <tr>\n",
       "      <th>9<\/th>\n",
       "      <td>9.0<\/td>\n",
       "      <td>-0.338262<\/td>\n",
       "      <td>1.119593<\/td>\n",
       "      <td>1.044367<\/td>\n",
       "      <td>-0.222187<\/td>\n",
       "      <td>0.499361<\/td>\n",
       "      <td>-0.246761<\/td>\n",
       "      <td>0.651583<\/td>\n",
       "      <td>0.069539<\/td>\n",
       "      <td>-0.736727<\/td>\n",
       "      <td>-0.366846<\/td>\n",
       "      <td>1.017614<\/td>\n",
       "      <td>0.836390<\/td>\n",
       "      <td>1.006844<\/td>\n",
       "      <td>-0.443523<\/td>\n",
       "      <td>0.150219<\/td>\n",
       "      <td>0.739453<\/td>\n",
       "      <td>-0.540980<\/td>\n",
       "      <td>0.476677<\/td>\n",
       "      <td>0.451773<\/td>\n",
       "      <td>0.203711<\/td>\n",
       "      <td>-0.246914<\/td>\n",
       "      <td>-0.633753<\/td>\n",
       "      <td>-0.120794<\/td>\n",
       "      <td>-0.385050<\/td>\n",
       "      <td>-0.069733<\/td>\n",
       "      <td>0.094199<\/td>\n",
       "      <td>0.246219<\/td>\n",
       "      <td>0.083076<\/td>\n",
       "      <td>3.68<\/td>\n",
       "      <td>0<\/td>\n",
       "    <\/tr>\n",
       "  <\/tbody>\n",
       "<\/table>\n",
       "<\/div>"
      ]
     },
     "metadata":{
      
     },
     "output_type":"display_data"
    }
   ],
   "metadata":{
    "datalore":{
     "node_id":"whXodtSDyt0JQiMQ2TOjJy",
     "type":"CODE",
     "hide_input_from_viewers":true,
     "hide_output_from_viewers":true
    }
   }
  },
  {
   "cell_type":"markdown",
   "source":[
    "Создайте датафрейм `X` из датафрейма `df`, исключив столбец `Class`.\n",
    "\n",
    "Создайте объект `Series` под названием `y` из столбца `Class`.\n",
    "\n",
    "Разбейте `X` и `y` на тренировочный и тестовый наборы данных при помощи функции `train_test_split`, используя аргументы: \n",
    "\n",
    "`test_size=0.3`, `random_state=100`, `stratify=y`.\n",
    "\n",
    "У вас должны получиться объекты `X_train`, `X_test`, `y_train` и `y_test`.\n",
    "\n",
    "Просмотрите информацию об их форме."
   ],
   "attachments":{
    
   },
   "metadata":{
    "datalore":{
     "node_id":"3PdK5E4T0YmpNNi17xfT91",
     "type":"MD",
     "hide_input_from_viewers":true,
     "hide_output_from_viewers":true
    }
   }
  },
  {
   "cell_type":"code",
   "source":[
    "X = df.drop('Class', axis=1)\n",
    "y = df['Class']\n",
    "X_train, X_test, y_train, y_test = sklearn.model_selection.train_test_split(X, y, test_size=0.3, random_state=100, stratify=y)\n",
    "(X_train.shape, y_train.shape), (X_test.shape, y_test.shape)"
   ],
   "execution_count":16,
   "outputs":[
    {
     "data":{
      "text\/plain":[
       "(((199364, 30), (199364,)), ((85443, 30), (85443,)))"
      ]
     },
     "metadata":{
      
     },
     "output_type":"display_data"
    }
   ],
   "metadata":{
    "datalore":{
     "node_id":"Tmvr7bE4AyLScROvGbLxBx",
     "type":"CODE",
     "hide_input_from_viewers":true,
     "hide_output_from_viewers":true
    }
   }
  },
  {
   "cell_type":"markdown",
   "source":[
    "Для поиска по сетке параметров задайте такие параметры:\n",
    "\n",
    "`parameters = [{'n_estimators': [10, 15],\n",
    "'max_features': np.arange(3, 5),\n",
    "'max_depth': np.arange(4, 7)}]`\n",
    "\n",
    "Создайте модель `GridSearchCV` со следующими аргументами:\n",
    "\n",
    "`estimator=RandomForestClassifier(random_state=100),\n",
    "param_grid=parameters,\n",
    "scoring='roc_auc',\n",
    "cv=3`.\n",
    "\n",
    "Обучите модель на тренировочном наборе данных (может занять несколько минут)."
   ],
   "attachments":{
    
   },
   "metadata":{
    "datalore":{
     "node_id":"pu2mtIZjq3egSpNeTc2IjB",
     "type":"MD",
     "hide_input_from_viewers":true,
     "hide_output_from_viewers":true
    }
   }
  },
  {
   "cell_type":"code",
   "source":[
    "parameters = [{'n_estimators': [10, 15], 'max_features': np.arange(3, 5), 'max_depth': np.arange(4, 7)}]"
   ],
   "execution_count":17,
   "outputs":[
    
   ],
   "metadata":{
    "datalore":{
     "node_id":"LJsWDAKrTaaNbL921tsyGa",
     "type":"CODE",
     "hide_input_from_viewers":true,
     "hide_output_from_viewers":true
    }
   }
  },
  {
   "cell_type":"code",
   "source":[
    "model = GridSearchCV(estimator=RandomForestClassifier(random_state=100), param_grid=parameters, scoring='roc_auc', cv=3)\n",
    "model.fit(X_train, y_train)"
   ],
   "execution_count":18,
   "outputs":[
    {
     "data":{
      "text\/plain":[
       "GridSearchCV(cv=3, estimator=RandomForestClassifier(random_state=100),\n",
       "             param_grid=[{'max_depth': array([4, 5, 6]),\n",
       "                          'max_features': array([3, 4]),\n",
       "                          'n_estimators': [10, 15]}],\n",
       "             scoring='roc_auc')"
      ]
     },
     "metadata":{
      
     },
     "output_type":"display_data"
    }
   ],
   "metadata":{
    "datalore":{
     "node_id":"9EQYiKejjwLA2EGncVX1vy",
     "type":"CODE",
     "hide_input_from_viewers":true,
     "hide_output_from_viewers":true
    }
   }
  },
  {
   "cell_type":"markdown",
   "source":[
    "Просмотрите параметры лучшей модели с помощью атрибута `best_params_`."
   ],
   "attachments":{
    
   },
   "metadata":{
    "datalore":{
     "node_id":"BSlppfqCQSx0SK4iCP9SYx",
     "type":"MD",
     "hide_input_from_viewers":true,
     "hide_output_from_viewers":true
    }
   }
  },
  {
   "cell_type":"code",
   "source":[
    "model.best_params_"
   ],
   "execution_count":19,
   "outputs":[
    {
     "data":{
      "text\/plain":[
       "{'max_depth': 6, 'max_features': 3, 'n_estimators': 15}"
      ]
     },
     "metadata":{
      
     },
     "output_type":"display_data"
    }
   ],
   "metadata":{
    "datalore":{
     "node_id":"XmY0pwnriW9HcC7HqYbvYD",
     "type":"CODE",
     "hide_input_from_viewers":true,
     "hide_output_from_viewers":true
    }
   }
  },
  {
   "cell_type":"markdown",
   "source":[
    "Предскажите вероятности классов с помощью полученной модели и метода `predict_proba`.\n",
    "\n",
    "Из полученного результата (массив `Numpy`) выберите столбец с индексом `1` (вероятность класса `1`) и запишите в массив `y_pred_proba`. \n",
    "\n",
    "Из модуля `sklearn.metrics` импортируйте метрику `roc_auc_score`.\n",
    "\n",
    "Вычислите `AUC`, сравнив истинный результат тестовых данных с результатом, полученным моделью, используя в качестве аргументов массивы `y_test` и `y_pred_proba`."
   ],
   "attachments":{
    
   },
   "metadata":{
    "datalore":{
     "node_id":"7LHCaBsRSFpyDLn87d4Lul",
     "type":"MD",
     "hide_input_from_viewers":true,
     "hide_output_from_viewers":true
    }
   }
  },
  {
   "cell_type":"code",
   "source":[
    "y_pred_proba = model.predict_proba(X_test)[:, 1]"
   ],
   "execution_count":20,
   "outputs":[
    
   ],
   "metadata":{
    "datalore":{
     "node_id":"KhWMHkYFZo5ATWTUFQsBWH",
     "type":"CODE",
     "hide_input_from_viewers":true,
     "hide_output_from_viewers":true
    }
   }
  },
  {
   "cell_type":"code",
   "source":[
    "from sklearn.metrics import roc_auc_score"
   ],
   "execution_count":21,
   "outputs":[
    
   ],
   "metadata":{
    "datalore":{
     "node_id":"ulERH75Zbrpj1tD3rBOv6o",
     "type":"CODE",
     "hide_input_from_viewers":true,
     "hide_output_from_viewers":true
    }
   }
  },
  {
   "cell_type":"code",
   "source":[
    "roc_auc_score(y_test, y_pred_proba)"
   ],
   "execution_count":22,
   "outputs":[
    {
     "data":{
      "text\/plain":[
       "0.9462664156037156"
      ]
     },
     "metadata":{
      
     },
     "output_type":"display_data"
    }
   ],
   "metadata":{
    "datalore":{
     "node_id":"OiVuf89y7zVVnmgVCl9LOG",
     "type":"CODE",
     "hide_input_from_viewers":true,
     "hide_output_from_viewers":true
    }
   }
  },
  {
   "cell_type":"markdown",
   "source":[
    "# Дополнительные задания"
   ],
   "attachments":{
    
   },
   "metadata":{
    "datalore":{
     "node_id":"jRKBZuTXySrT3CF7uwMTl7",
     "type":"MD",
     "hide_input_from_viewers":true,
     "hide_output_from_viewers":true
    }
   }
  },
  {
   "cell_type":"markdown",
   "source":[
    "1) Загрузите датасет `Wine` из встроенных датасетов `sklearn.datasets` с помощью функции `load_wine` в переменную `data`."
   ],
   "attachments":{
    
   },
   "metadata":{
    "datalore":{
     "node_id":"B0exOnoyo0BV8Z5AFlzRRn",
     "type":"MD",
     "hide_input_from_viewers":true,
     "hide_output_from_viewers":true
    }
   }
  },
  {
   "cell_type":"code",
   "source":[
    "from sklearn.datasets import load_wine\n",
    "data = load_wine()\n",
    "data"
   ],
   "execution_count":23,
   "outputs":[
    {
     "data":{
      "text\/plain":[
       "{'data': array([[1.423e+01, 1.710e+00, 2.430e+00, ..., 1.040e+00, 3.920e+00,\n",
       "         1.065e+03],\n",
       "        [1.320e+01, 1.780e+00, 2.140e+00, ..., 1.050e+00, 3.400e+00,\n",
       "         1.050e+03],\n",
       "        [1.316e+01, 2.360e+00, 2.670e+00, ..., 1.030e+00, 3.170e+00,\n",
       "         1.185e+03],\n",
       "        ...,\n",
       "        [1.327e+01, 4.280e+00, 2.260e+00, ..., 5.900e-01, 1.560e+00,\n",
       "         8.350e+02],\n",
       "        [1.317e+01, 2.590e+00, 2.370e+00, ..., 6.000e-01, 1.620e+00,\n",
       "         8.400e+02],\n",
       "        [1.413e+01, 4.100e+00, 2.740e+00, ..., 6.100e-01, 1.600e+00,\n",
       "         5.600e+02]]),\n",
       " 'target': array([0, 0, 0, 0, 0, 0, 0, 0, 0, 0, 0, 0, 0, 0, 0, 0, 0, 0, 0, 0, 0, 0,\n",
       "        0, 0, 0, 0, 0, 0, 0, 0, 0, 0, 0, 0, 0, 0, 0, 0, 0, 0, 0, 0, 0, 0,\n",
       "        0, 0, 0, 0, 0, 0, 0, 0, 0, 0, 0, 0, 0, 0, 0, 1, 1, 1, 1, 1, 1, 1,\n",
       "        1, 1, 1, 1, 1, 1, 1, 1, 1, 1, 1, 1, 1, 1, 1, 1, 1, 1, 1, 1, 1, 1,\n",
       "        1, 1, 1, 1, 1, 1, 1, 1, 1, 1, 1, 1, 1, 1, 1, 1, 1, 1, 1, 1, 1, 1,\n",
       "        1, 1, 1, 1, 1, 1, 1, 1, 1, 1, 1, 1, 1, 1, 1, 1, 1, 1, 1, 1, 2, 2,\n",
       "        2, 2, 2, 2, 2, 2, 2, 2, 2, 2, 2, 2, 2, 2, 2, 2, 2, 2, 2, 2, 2, 2,\n",
       "        2, 2, 2, 2, 2, 2, 2, 2, 2, 2, 2, 2, 2, 2, 2, 2, 2, 2, 2, 2, 2, 2,\n",
       "        2, 2]),\n",
       " 'frame': None,\n",
       " 'target_names': array(['class_0', 'class_1', 'class_2'], dtype='<U7'),\n",
       " 'DESCR': '.. _wine_dataset:\\n\\nWine recognition dataset\\n------------------------\\n\\n**Data Set Characteristics:**\\n\\n    :Number of Instances: 178 (50 in each of three classes)\\n    :Number of Attributes: 13 numeric, predictive attributes and the class\\n    :Attribute Information:\\n \\t\\t- Alcohol\\n \\t\\t- Malic acid\\n \\t\\t- Ash\\n\\t\\t- Alcalinity of ash  \\n \\t\\t- Magnesium\\n\\t\\t- Total phenols\\n \\t\\t- Flavanoids\\n \\t\\t- Nonflavanoid phenols\\n \\t\\t- Proanthocyanins\\n\\t\\t- Color intensity\\n \\t\\t- Hue\\n \\t\\t- OD280\/OD315 of diluted wines\\n \\t\\t- Proline\\n\\n    - class:\\n            - class_0\\n            - class_1\\n            - class_2\\n\\t\\t\\n    :Summary Statistics:\\n    \\n    ============================= ==== ===== ======= =====\\n                                   Min   Max   Mean     SD\\n    ============================= ==== ===== ======= =====\\n    Alcohol:                      11.0  14.8    13.0   0.8\\n    Malic Acid:                   0.74  5.80    2.34  1.12\\n    Ash:                          1.36  3.23    2.36  0.27\\n    Alcalinity of Ash:            10.6  30.0    19.5   3.3\\n    Magnesium:                    70.0 162.0    99.7  14.3\\n    Total Phenols:                0.98  3.88    2.29  0.63\\n    Flavanoids:                   0.34  5.08    2.03  1.00\\n    Nonflavanoid Phenols:         0.13  0.66    0.36  0.12\\n    Proanthocyanins:              0.41  3.58    1.59  0.57\\n    Colour Intensity:              1.3  13.0     5.1   2.3\\n    Hue:                          0.48  1.71    0.96  0.23\\n    OD280\/OD315 of diluted wines: 1.27  4.00    2.61  0.71\\n    Proline:                       278  1680     746   315\\n    ============================= ==== ===== ======= =====\\n\\n    :Missing Attribute Values: None\\n    :Class Distribution: class_0 (59), class_1 (71), class_2 (48)\\n    :Creator: R.A. Fisher\\n    :Donor: Michael Marshall (MARSHALL%PLU@io.arc.nasa.gov)\\n    :Date: July, 1988\\n\\nThis is a copy of UCI ML Wine recognition datasets.\\nhttps:\/\/archive.ics.uci.edu\/ml\/machine-learning-databases\/wine\/wine.data\\n\\nThe data is the results of a chemical analysis of wines grown in the same\\nregion in Italy by three different cultivators. There are thirteen different\\nmeasurements taken for different constituents found in the three types of\\nwine.\\n\\nOriginal Owners: \\n\\nForina, M. et al, PARVUS - \\nAn Extendible Package for Data Exploration, Classification and Correlation. \\nInstitute of Pharmaceutical and Food Analysis and Technologies,\\nVia Brigata Salerno, 16147 Genoa, Italy.\\n\\nCitation:\\n\\nLichman, M. (2013). UCI Machine Learning Repository\\n[https:\/\/archive.ics.uci.edu\/ml]. Irvine, CA: University of California,\\nSchool of Information and Computer Science. \\n\\n.. topic:: References\\n\\n  (1) S. Aeberhard, D. Coomans and O. de Vel, \\n  Comparison of Classifiers in High Dimensional Settings, \\n  Tech. Rep. no. 92-02, (1992), Dept. of Computer Science and Dept. of  \\n  Mathematics and Statistics, James Cook University of North Queensland. \\n  (Also submitted to Technometrics). \\n\\n  The data was used with many others for comparing various \\n  classifiers. The classes are separable, though only RDA \\n  has achieved 100% correct classification. \\n  (RDA : 100%, QDA 99.4%, LDA 98.9%, 1NN 96.1% (z-transformed data)) \\n  (All results using the leave-one-out technique) \\n\\n  (2) S. Aeberhard, D. Coomans and O. de Vel, \\n  \"THE CLASSIFICATION PERFORMANCE OF RDA\" \\n  Tech. Rep. no. 92-01, (1992), Dept. of Computer Science and Dept. of \\n  Mathematics and Statistics, James Cook University of North Queensland. \\n  (Also submitted to Journal of Chemometrics).\\n',\n",
       " 'feature_names': ['alcohol',\n",
       "  'malic_acid',\n",
       "  'ash',\n",
       "  'alcalinity_of_ash',\n",
       "  'magnesium',\n",
       "  'total_phenols',\n",
       "  'flavanoids',\n",
       "  'nonflavanoid_phenols',\n",
       "  'proanthocyanins',\n",
       "  'color_intensity',\n",
       "  'hue',\n",
       "  'od280\/od315_of_diluted_wines',\n",
       "  'proline']}"
      ]
     },
     "metadata":{
      
     },
     "output_type":"display_data"
    }
   ],
   "metadata":{
    "datalore":{
     "node_id":"izVkF5fy68SLwBr7qMSgaZ",
     "type":"CODE",
     "hide_input_from_viewers":true,
     "hide_output_from_viewers":true
    }
   }
  },
  {
   "cell_type":"markdown",
   "source":[
    "2) Полученный датасет не является датафреймом. Это структура данных, имеющая ключи аналогично словарю. Просмотрите тип данных этой структуры данных и создайте список `data_keys`, содержащий ее ключи."
   ],
   "attachments":{
    
   },
   "metadata":{
    "datalore":{
     "node_id":"M3xWMYBZlJQAqo4SojBPMa",
     "type":"MD",
     "hide_input_from_viewers":true,
     "hide_output_from_viewers":true
    }
   }
  },
  {
   "cell_type":"code",
   "source":[
    "type(data)\n",
    "data_keys = data.keys()"
   ],
   "execution_count":24,
   "outputs":[
    
   ],
   "metadata":{
    "datalore":{
     "node_id":"QYFoVYriGaB58R0XeEknKK",
     "type":"CODE",
     "hide_input_from_viewers":true,
     "hide_output_from_viewers":true
    }
   }
  },
  {
   "cell_type":"markdown",
   "source":[
    "3) Просмотрите данные, описание и названия признаков в датасете. Описание нужно вывести в виде привычного, аккуратно оформленного текста, без обозначений переноса строки, но с самими переносами и т.д."
   ],
   "attachments":{
    
   },
   "metadata":{
    "datalore":{
     "node_id":"9uTtjkLru7sPFGWk3PGnrg",
     "type":"MD",
     "hide_input_from_viewers":true,
     "hide_output_from_viewers":true
    }
   }
  },
  {
   "cell_type":"code",
   "source":[
    "print(data['DESCR'])"
   ],
   "execution_count":25,
   "outputs":[
    {
     "name":"stdout",
     "text":[
      ".. _wine_dataset:\n",
      "\n",
      "Wine recognition dataset\n",
      "------------------------\n",
      "\n",
      "**Data Set Characteristics:**\n",
      "\n",
      "    :Number of Instances: 178 (50 in each of three classes)\n",
      "    :Number of Attributes: 13 numeric, predictive attributes and the class\n",
      "    :Attribute Information:\n",
      " \t\t- Alcohol\n",
      " \t\t- Malic acid\n",
      " \t\t- Ash\n",
      "\t\t- Alcalinity of ash  \n",
      " \t\t- Magnesium\n",
      "\t\t- Total phenols\n",
      " \t\t- Flavanoids\n",
      " \t\t- Nonflavanoid phenols\n",
      " \t\t- Proanthocyanins\n",
      "\t\t- Color intensity\n",
      " \t\t- Hue\n",
      " \t\t- OD280\/OD315 of diluted wines\n",
      " \t\t- Proline\n",
      "\n",
      "    - class:\n",
      "            - class_0\n",
      "            - class_1\n",
      "            - class_2\n",
      "\t\t\n",
      "    :Summary Statistics:\n",
      "    \n",
      "    ============================= ==== ===== ======= =====\n",
      "                                   Min   Max   Mean     SD\n",
      "    ============================= ==== ===== ======= =====\n",
      "    Alcohol:                      11.0  14.8    13.0   0.8\n",
      "    Malic Acid:                   0.74  5.80    2.34  1.12\n",
      "    Ash:                          1.36  3.23    2.36  0.27\n",
      "    Alcalinity of Ash:            10.6  30.0    19.5   3.3\n",
      "    Magnesium:                    70.0 162.0    99.7  14.3\n",
      "    Total Phenols:                0.98  3.88    2.29  0.63\n",
      "    Flavanoids:                   0.34  5.08    2.03  1.00\n",
      "    Nonflavanoid Phenols:         0.13  0.66    0.36  0.12\n",
      "    Proanthocyanins:              0.41  3.58    1.59  0.57\n",
      "    Colour Intensity:              1.3  13.0     5.1   2.3\n",
      "    Hue:                          0.48  1.71    0.96  0.23\n",
      "    OD280\/OD315 of diluted wines: 1.27  4.00    2.61  0.71\n",
      "    Proline:                       278  1680     746   315\n",
      "    ============================= ==== ===== ======= =====\n",
      "\n",
      "    :Missing Attribute Values: None\n",
      "    :Class Distribution: class_0 (59), class_1 (71), class_2 (48)\n",
      "    :Creator: R.A. Fisher\n",
      "    :Donor: Michael Marshall (MARSHALL%PLU@io.arc.nasa.gov)\n",
      "    :Date: July, 1988\n",
      "\n",
      "This is a copy of UCI ML Wine recognition datasets.\n",
      "https:\/\/archive.ics.uci.edu\/ml\/machine-learning-databases\/wine\/wine.data\n",
      "\n",
      "The data is the results of a chemical analysis of wines grown in the same\n",
      "region in Italy by three different cultivators. There are thirteen different\n",
      "measurements taken for different constituents found in the three types of\n",
      "wine.\n",
      "\n",
      "Original Owners: \n",
      "\n",
      "Forina, M. et al, PARVUS - \n",
      "An Extendible Package for Data Exploration, Classification and Correlation. \n",
      "Institute of Pharmaceutical and Food Analysis and Technologies,\n",
      "Via Brigata Salerno, 16147 Genoa, Italy.\n",
      "\n",
      "Citation:\n",
      "\n",
      "Lichman, M. (2013). UCI Machine Learning Repository\n",
      "[https:\/\/archive.ics.uci.edu\/ml]. Irvine, CA: University of California,\n",
      "School of Information and Computer Science. \n",
      "\n",
      ".. topic:: References\n",
      "\n",
      "  (1) S. Aeberhard, D. Coomans and O. de Vel, \n",
      "  Comparison of Classifiers in High Dimensional Settings, \n",
      "  Tech. Rep. no. 92-02, (1992), Dept. of Computer Science and Dept. of  \n",
      "  Mathematics and Statistics, James Cook University of North Queensland. \n",
      "  (Also submitted to Technometrics). \n",
      "\n",
      "  The data was used with many others for comparing various \n",
      "  classifiers. The classes are separable, though only RDA \n",
      "  has achieved 100% correct classification. \n",
      "  (RDA : 100%, QDA 99.4%, LDA 98.9%, 1NN 96.1% (z-transformed data)) \n",
      "  (All results using the leave-one-out technique) \n",
      "\n",
      "  (2) S. Aeberhard, D. Coomans and O. de Vel, \n",
      "  \"THE CLASSIFICATION PERFORMANCE OF RDA\" \n",
      "  Tech. Rep. no. 92-01, (1992), Dept. of Computer Science and Dept. of \n",
      "  Mathematics and Statistics, James Cook University of North Queensland. \n",
      "  (Also submitted to Journal of Chemometrics).\n",
      "\n"
     ],
     "output_type":"stream"
    }
   ],
   "metadata":{
    "datalore":{
     "node_id":"cz8UpQLsi0Rnt7qLyEtzub",
     "type":"CODE",
     "hide_input_from_viewers":true,
     "hide_output_from_viewers":true
    }
   }
  },
  {
   "cell_type":"markdown",
   "source":[
    "4) Сколько классов содержит целевая переменная датасета? Выведите названия классов."
   ],
   "attachments":{
    
   },
   "metadata":{
    "datalore":{
     "node_id":"PqDzbjttdLIVW2hIBzA8G1",
     "type":"MD",
     "hide_input_from_viewers":true,
     "hide_output_from_viewers":true
    }
   }
  },
  {
   "cell_type":"code",
   "source":[
    "print(f\"Целевая переменная содержит {len(set(data['target']))} класса\")\n",
    "print(f\"Их названия: {data['target_names']}\")"
   ],
   "execution_count":26,
   "outputs":[
    {
     "name":"stdout",
     "text":[
      "Целевая переменная содержит 3 класса\n",
      "Их названия: ['class_0' 'class_1' 'class_2']\n"
     ],
     "output_type":"stream"
    }
   ],
   "metadata":{
    "datalore":{
     "node_id":"eEilv0kc0ioaGy6fnxMPN0",
     "type":"CODE",
     "hide_input_from_viewers":true,
     "hide_output_from_viewers":true
    }
   }
  },
  {
   "cell_type":"markdown",
   "source":[
    "5) На основе данных датасета (они содержатся в двумерном массиве `Numpy`) и названий признаков создайте датафрейм под названием `X`."
   ],
   "attachments":{
    
   },
   "metadata":{
    "datalore":{
     "node_id":"Ye9EoBhUEu8tiasidLlE66",
     "type":"MD",
     "hide_input_from_viewers":true,
     "hide_output_from_viewers":true
    }
   }
  },
  {
   "cell_type":"code",
   "source":[
    "X = pd.DataFrame(data=data['data'], columns=data['feature_names'])\n",
    "X.head()"
   ],
   "execution_count":27,
   "outputs":[
    {
     "data":{
      "text\/html":[
       "<div>\n",
       "<style scoped>\n",
       "    .dataframe tbody tr th:only-of-type {\n",
       "        vertical-align: middle;\n",
       "    }\n",
       "\n",
       "    .dataframe tbody tr th {\n",
       "        vertical-align: top;\n",
       "    }\n",
       "\n",
       "    .dataframe thead th {\n",
       "        text-align: right;\n",
       "    }\n",
       "<\/style>\n",
       "<table border=\"1\" class=\"dataframe\">\n",
       "  <thead>\n",
       "    <tr style=\"text-align: right;\">\n",
       "      <th><\/th>\n",
       "      <th>alcohol<\/th>\n",
       "      <th>malic_acid<\/th>\n",
       "      <th>ash<\/th>\n",
       "      <th>alcalinity_of_ash<\/th>\n",
       "      <th>magnesium<\/th>\n",
       "      <th>total_phenols<\/th>\n",
       "      <th>flavanoids<\/th>\n",
       "      <th>nonflavanoid_phenols<\/th>\n",
       "      <th>proanthocyanins<\/th>\n",
       "      <th>color_intensity<\/th>\n",
       "      <th>hue<\/th>\n",
       "      <th>od280\/od315_of_diluted_wines<\/th>\n",
       "      <th>proline<\/th>\n",
       "    <\/tr>\n",
       "  <\/thead>\n",
       "  <tbody>\n",
       "    <tr>\n",
       "      <th>0<\/th>\n",
       "      <td>14.23<\/td>\n",
       "      <td>1.71<\/td>\n",
       "      <td>2.43<\/td>\n",
       "      <td>15.6<\/td>\n",
       "      <td>127.0<\/td>\n",
       "      <td>2.80<\/td>\n",
       "      <td>3.06<\/td>\n",
       "      <td>0.28<\/td>\n",
       "      <td>2.29<\/td>\n",
       "      <td>5.64<\/td>\n",
       "      <td>1.04<\/td>\n",
       "      <td>3.92<\/td>\n",
       "      <td>1065.0<\/td>\n",
       "    <\/tr>\n",
       "    <tr>\n",
       "      <th>1<\/th>\n",
       "      <td>13.20<\/td>\n",
       "      <td>1.78<\/td>\n",
       "      <td>2.14<\/td>\n",
       "      <td>11.2<\/td>\n",
       "      <td>100.0<\/td>\n",
       "      <td>2.65<\/td>\n",
       "      <td>2.76<\/td>\n",
       "      <td>0.26<\/td>\n",
       "      <td>1.28<\/td>\n",
       "      <td>4.38<\/td>\n",
       "      <td>1.05<\/td>\n",
       "      <td>3.40<\/td>\n",
       "      <td>1050.0<\/td>\n",
       "    <\/tr>\n",
       "    <tr>\n",
       "      <th>2<\/th>\n",
       "      <td>13.16<\/td>\n",
       "      <td>2.36<\/td>\n",
       "      <td>2.67<\/td>\n",
       "      <td>18.6<\/td>\n",
       "      <td>101.0<\/td>\n",
       "      <td>2.80<\/td>\n",
       "      <td>3.24<\/td>\n",
       "      <td>0.30<\/td>\n",
       "      <td>2.81<\/td>\n",
       "      <td>5.68<\/td>\n",
       "      <td>1.03<\/td>\n",
       "      <td>3.17<\/td>\n",
       "      <td>1185.0<\/td>\n",
       "    <\/tr>\n",
       "    <tr>\n",
       "      <th>3<\/th>\n",
       "      <td>14.37<\/td>\n",
       "      <td>1.95<\/td>\n",
       "      <td>2.50<\/td>\n",
       "      <td>16.8<\/td>\n",
       "      <td>113.0<\/td>\n",
       "      <td>3.85<\/td>\n",
       "      <td>3.49<\/td>\n",
       "      <td>0.24<\/td>\n",
       "      <td>2.18<\/td>\n",
       "      <td>7.80<\/td>\n",
       "      <td>0.86<\/td>\n",
       "      <td>3.45<\/td>\n",
       "      <td>1480.0<\/td>\n",
       "    <\/tr>\n",
       "    <tr>\n",
       "      <th>4<\/th>\n",
       "      <td>13.24<\/td>\n",
       "      <td>2.59<\/td>\n",
       "      <td>2.87<\/td>\n",
       "      <td>21.0<\/td>\n",
       "      <td>118.0<\/td>\n",
       "      <td>2.80<\/td>\n",
       "      <td>2.69<\/td>\n",
       "      <td>0.39<\/td>\n",
       "      <td>1.82<\/td>\n",
       "      <td>4.32<\/td>\n",
       "      <td>1.04<\/td>\n",
       "      <td>2.93<\/td>\n",
       "      <td>735.0<\/td>\n",
       "    <\/tr>\n",
       "  <\/tbody>\n",
       "<\/table>\n",
       "<\/div>"
      ]
     },
     "metadata":{
      
     },
     "output_type":"display_data"
    }
   ],
   "metadata":{
    "datalore":{
     "node_id":"XzlYph8OCU4Cl6tknHLpjw",
     "type":"CODE",
     "hide_input_from_viewers":true,
     "hide_output_from_viewers":true
    }
   }
  },
  {
   "cell_type":"markdown",
   "source":[
    "6) Выясните размер датафрейма `X` и установите, имеются ли в нем пропущенные значения."
   ],
   "attachments":{
    
   },
   "metadata":{
    "datalore":{
     "node_id":"PnyOZGvdwUNyzosKwA3Pr3",
     "type":"MD",
     "hide_input_from_viewers":true,
     "hide_output_from_viewers":true
    }
   }
  },
  {
   "cell_type":"code",
   "source":[
    "X.info()"
   ],
   "execution_count":28,
   "outputs":[
    {
     "name":"stdout",
     "text":[
      "<class 'pandas.core.frame.DataFrame'>\n",
      "RangeIndex: 178 entries, 0 to 177\n",
      "Data columns (total 13 columns):\n",
      " #   Column                        Non-Null Count  Dtype  \n",
      "---  ------                        --------------  -----  \n",
      " 0   alcohol                       178 non-null    float64\n",
      " 1   malic_acid                    178 non-null    float64\n",
      " 2   ash                           178 non-null    float64\n",
      " 3   alcalinity_of_ash             178 non-null    float64\n",
      " 4   magnesium                     178 non-null    float64\n",
      " 5   total_phenols                 178 non-null    float64\n",
      " 6   flavanoids                    178 non-null    float64\n",
      " 7   nonflavanoid_phenols          178 non-null    float64\n",
      " 8   proanthocyanins               178 non-null    float64\n",
      " 9   color_intensity               178 non-null    float64\n",
      " 10  hue                           178 non-null    float64\n",
      " 11  od280\/od315_of_diluted_wines  178 non-null    float64\n",
      " 12  proline                       178 non-null    float64\n",
      "dtypes: float64(13)\n",
      "memory usage: 18.2 KB\n"
     ],
     "output_type":"stream"
    }
   ],
   "metadata":{
    "datalore":{
     "node_id":"KnviIjKjDNZ3azzJQ395rL",
     "type":"CODE",
     "hide_input_from_viewers":true,
     "hide_output_from_viewers":true
    }
   }
  },
  {
   "cell_type":"markdown",
   "source":[
    "7) Добавьте в датафрейм поле с классами вин в виде чисел, имеющих тип данных `numpy.int64`. Название поля - `'target'`."
   ],
   "attachments":{
    
   },
   "metadata":{
    "datalore":{
     "node_id":"fHKlusaIWc0p1dOWq7QzRP",
     "type":"MD",
     "hide_input_from_viewers":true,
     "hide_output_from_viewers":true
    }
   }
  },
  {
   "cell_type":"code",
   "source":[
    "X = X.join(pd.DataFrame(data=data['target'], columns=['target']))"
   ],
   "execution_count":29,
   "outputs":[
    
   ],
   "metadata":{
    "datalore":{
     "node_id":"Pn11elTj5cnYuy6CM6AHJz",
     "type":"CODE",
     "hide_input_from_viewers":true,
     "hide_output_from_viewers":true
    }
   }
  },
  {
   "cell_type":"code",
   "source":[
    "X.info()"
   ],
   "execution_count":30,
   "outputs":[
    {
     "name":"stdout",
     "text":[
      "<class 'pandas.core.frame.DataFrame'>\n",
      "RangeIndex: 178 entries, 0 to 177\n",
      "Data columns (total 14 columns):\n",
      " #   Column                        Non-Null Count  Dtype  \n",
      "---  ------                        --------------  -----  \n",
      " 0   alcohol                       178 non-null    float64\n",
      " 1   malic_acid                    178 non-null    float64\n",
      " 2   ash                           178 non-null    float64\n",
      " 3   alcalinity_of_ash             178 non-null    float64\n",
      " 4   magnesium                     178 non-null    float64\n",
      " 5   total_phenols                 178 non-null    float64\n",
      " 6   flavanoids                    178 non-null    float64\n",
      " 7   nonflavanoid_phenols          178 non-null    float64\n",
      " 8   proanthocyanins               178 non-null    float64\n",
      " 9   color_intensity               178 non-null    float64\n",
      " 10  hue                           178 non-null    float64\n",
      " 11  od280\/od315_of_diluted_wines  178 non-null    float64\n",
      " 12  proline                       178 non-null    float64\n",
      " 13  target                        178 non-null    int64  \n",
      "dtypes: float64(13), int64(1)\n",
      "memory usage: 19.6 KB\n"
     ],
     "output_type":"stream"
    }
   ],
   "metadata":{
    "datalore":{
     "node_id":"8qwOIK2ZwIIZfxSShoPwe9",
     "type":"CODE",
     "hide_input_from_viewers":true,
     "hide_output_from_viewers":true
    }
   }
  },
  {
   "cell_type":"markdown",
   "source":[
    "8) Постройте матрицу корреляций для всех полей `X`. Дайте полученному датафрейму название `X_corr`."
   ],
   "attachments":{
    
   },
   "metadata":{
    "datalore":{
     "node_id":"hwJmh7JJWhSVzyRzdLyaXp",
     "type":"MD",
     "hide_input_from_viewers":true,
     "hide_output_from_viewers":true
    }
   }
  },
  {
   "cell_type":"code",
   "source":[
    "X_corr = X.corr()\n",
    "X_corr"
   ],
   "execution_count":31,
   "outputs":[
    {
     "data":{
      "text\/html":[
       "<div>\n",
       "<style scoped>\n",
       "    .dataframe tbody tr th:only-of-type {\n",
       "        vertical-align: middle;\n",
       "    }\n",
       "\n",
       "    .dataframe tbody tr th {\n",
       "        vertical-align: top;\n",
       "    }\n",
       "\n",
       "    .dataframe thead th {\n",
       "        text-align: right;\n",
       "    }\n",
       "<\/style>\n",
       "<table border=\"1\" class=\"dataframe\">\n",
       "  <thead>\n",
       "    <tr style=\"text-align: right;\">\n",
       "      <th><\/th>\n",
       "      <th>alcohol<\/th>\n",
       "      <th>malic_acid<\/th>\n",
       "      <th>ash<\/th>\n",
       "      <th>alcalinity_of_ash<\/th>\n",
       "      <th>magnesium<\/th>\n",
       "      <th>total_phenols<\/th>\n",
       "      <th>flavanoids<\/th>\n",
       "      <th>nonflavanoid_phenols<\/th>\n",
       "      <th>proanthocyanins<\/th>\n",
       "      <th>color_intensity<\/th>\n",
       "      <th>hue<\/th>\n",
       "      <th>od280\/od315_of_diluted_wines<\/th>\n",
       "      <th>proline<\/th>\n",
       "      <th>target<\/th>\n",
       "    <\/tr>\n",
       "  <\/thead>\n",
       "  <tbody>\n",
       "    <tr>\n",
       "      <th>alcohol<\/th>\n",
       "      <td>1.000000<\/td>\n",
       "      <td>0.094397<\/td>\n",
       "      <td>0.211545<\/td>\n",
       "      <td>-0.310235<\/td>\n",
       "      <td>0.270798<\/td>\n",
       "      <td>0.289101<\/td>\n",
       "      <td>0.236815<\/td>\n",
       "      <td>-0.155929<\/td>\n",
       "      <td>0.136698<\/td>\n",
       "      <td>0.546364<\/td>\n",
       "      <td>-0.071747<\/td>\n",
       "      <td>0.072343<\/td>\n",
       "      <td>0.643720<\/td>\n",
       "      <td>-0.328222<\/td>\n",
       "    <\/tr>\n",
       "    <tr>\n",
       "      <th>malic_acid<\/th>\n",
       "      <td>0.094397<\/td>\n",
       "      <td>1.000000<\/td>\n",
       "      <td>0.164045<\/td>\n",
       "      <td>0.288500<\/td>\n",
       "      <td>-0.054575<\/td>\n",
       "      <td>-0.335167<\/td>\n",
       "      <td>-0.411007<\/td>\n",
       "      <td>0.292977<\/td>\n",
       "      <td>-0.220746<\/td>\n",
       "      <td>0.248985<\/td>\n",
       "      <td>-0.561296<\/td>\n",
       "      <td>-0.368710<\/td>\n",
       "      <td>-0.192011<\/td>\n",
       "      <td>0.437776<\/td>\n",
       "    <\/tr>\n",
       "    <tr>\n",
       "      <th>ash<\/th>\n",
       "      <td>0.211545<\/td>\n",
       "      <td>0.164045<\/td>\n",
       "      <td>1.000000<\/td>\n",
       "      <td>0.443367<\/td>\n",
       "      <td>0.286587<\/td>\n",
       "      <td>0.128980<\/td>\n",
       "      <td>0.115077<\/td>\n",
       "      <td>0.186230<\/td>\n",
       "      <td>0.009652<\/td>\n",
       "      <td>0.258887<\/td>\n",
       "      <td>-0.074667<\/td>\n",
       "      <td>0.003911<\/td>\n",
       "      <td>0.223626<\/td>\n",
       "      <td>-0.049643<\/td>\n",
       "    <\/tr>\n",
       "    <tr>\n",
       "      <th>alcalinity_of_ash<\/th>\n",
       "      <td>-0.310235<\/td>\n",
       "      <td>0.288500<\/td>\n",
       "      <td>0.443367<\/td>\n",
       "      <td>1.000000<\/td>\n",
       "      <td>-0.083333<\/td>\n",
       "      <td>-0.321113<\/td>\n",
       "      <td>-0.351370<\/td>\n",
       "      <td>0.361922<\/td>\n",
       "      <td>-0.197327<\/td>\n",
       "      <td>0.018732<\/td>\n",
       "      <td>-0.273955<\/td>\n",
       "      <td>-0.276769<\/td>\n",
       "      <td>-0.440597<\/td>\n",
       "      <td>0.517859<\/td>\n",
       "    <\/tr>\n",
       "    <tr>\n",
       "      <th>magnesium<\/th>\n",
       "      <td>0.270798<\/td>\n",
       "      <td>-0.054575<\/td>\n",
       "      <td>0.286587<\/td>\n",
       "      <td>-0.083333<\/td>\n",
       "      <td>1.000000<\/td>\n",
       "      <td>0.214401<\/td>\n",
       "      <td>0.195784<\/td>\n",
       "      <td>-0.256294<\/td>\n",
       "      <td>0.236441<\/td>\n",
       "      <td>0.199950<\/td>\n",
       "      <td>0.055398<\/td>\n",
       "      <td>0.066004<\/td>\n",
       "      <td>0.393351<\/td>\n",
       "      <td>-0.209179<\/td>\n",
       "    <\/tr>\n",
       "    <tr>\n",
       "      <th>total_phenols<\/th>\n",
       "      <td>0.289101<\/td>\n",
       "      <td>-0.335167<\/td>\n",
       "      <td>0.128980<\/td>\n",
       "      <td>-0.321113<\/td>\n",
       "      <td>0.214401<\/td>\n",
       "      <td>1.000000<\/td>\n",
       "      <td>0.864564<\/td>\n",
       "      <td>-0.449935<\/td>\n",
       "      <td>0.612413<\/td>\n",
       "      <td>-0.055136<\/td>\n",
       "      <td>0.433681<\/td>\n",
       "      <td>0.699949<\/td>\n",
       "      <td>0.498115<\/td>\n",
       "      <td>-0.719163<\/td>\n",
       "    <\/tr>\n",
       "    <tr>\n",
       "      <th>flavanoids<\/th>\n",
       "      <td>0.236815<\/td>\n",
       "      <td>-0.411007<\/td>\n",
       "      <td>0.115077<\/td>\n",
       "      <td>-0.351370<\/td>\n",
       "      <td>0.195784<\/td>\n",
       "      <td>0.864564<\/td>\n",
       "      <td>1.000000<\/td>\n",
       "      <td>-0.537900<\/td>\n",
       "      <td>0.652692<\/td>\n",
       "      <td>-0.172379<\/td>\n",
       "      <td>0.543479<\/td>\n",
       "      <td>0.787194<\/td>\n",
       "      <td>0.494193<\/td>\n",
       "      <td>-0.847498<\/td>\n",
       "    <\/tr>\n",
       "    <tr>\n",
       "      <th>nonflavanoid_phenols<\/th>\n",
       "      <td>-0.155929<\/td>\n",
       "      <td>0.292977<\/td>\n",
       "      <td>0.186230<\/td>\n",
       "      <td>0.361922<\/td>\n",
       "      <td>-0.256294<\/td>\n",
       "      <td>-0.449935<\/td>\n",
       "      <td>-0.537900<\/td>\n",
       "      <td>1.000000<\/td>\n",
       "      <td>-0.365845<\/td>\n",
       "      <td>0.139057<\/td>\n",
       "      <td>-0.262640<\/td>\n",
       "      <td>-0.503270<\/td>\n",
       "      <td>-0.311385<\/td>\n",
       "      <td>0.489109<\/td>\n",
       "    <\/tr>\n",
       "    <tr>\n",
       "      <th>proanthocyanins<\/th>\n",
       "      <td>0.136698<\/td>\n",
       "      <td>-0.220746<\/td>\n",
       "      <td>0.009652<\/td>\n",
       "      <td>-0.197327<\/td>\n",
       "      <td>0.236441<\/td>\n",
       "      <td>0.612413<\/td>\n",
       "      <td>0.652692<\/td>\n",
       "      <td>-0.365845<\/td>\n",
       "      <td>1.000000<\/td>\n",
       "      <td>-0.025250<\/td>\n",
       "      <td>0.295544<\/td>\n",
       "      <td>0.519067<\/td>\n",
       "      <td>0.330417<\/td>\n",
       "      <td>-0.499130<\/td>\n",
       "    <\/tr>\n",
       "    <tr>\n",
       "      <th>color_intensity<\/th>\n",
       "      <td>0.546364<\/td>\n",
       "      <td>0.248985<\/td>\n",
       "      <td>0.258887<\/td>\n",
       "      <td>0.018732<\/td>\n",
       "      <td>0.199950<\/td>\n",
       "      <td>-0.055136<\/td>\n",
       "      <td>-0.172379<\/td>\n",
       "      <td>0.139057<\/td>\n",
       "      <td>-0.025250<\/td>\n",
       "      <td>1.000000<\/td>\n",
       "      <td>-0.521813<\/td>\n",
       "      <td>-0.428815<\/td>\n",
       "      <td>0.316100<\/td>\n",
       "      <td>0.265668<\/td>\n",
       "    <\/tr>\n",
       "    <tr>\n",
       "      <th>hue<\/th>\n",
       "      <td>-0.071747<\/td>\n",
       "      <td>-0.561296<\/td>\n",
       "      <td>-0.074667<\/td>\n",
       "      <td>-0.273955<\/td>\n",
       "      <td>0.055398<\/td>\n",
       "      <td>0.433681<\/td>\n",
       "      <td>0.543479<\/td>\n",
       "      <td>-0.262640<\/td>\n",
       "      <td>0.295544<\/td>\n",
       "      <td>-0.521813<\/td>\n",
       "      <td>1.000000<\/td>\n",
       "      <td>0.565468<\/td>\n",
       "      <td>0.236183<\/td>\n",
       "      <td>-0.617369<\/td>\n",
       "    <\/tr>\n",
       "    <tr>\n",
       "      <th>od280\/od315_of_diluted_wines<\/th>\n",
       "      <td>0.072343<\/td>\n",
       "      <td>-0.368710<\/td>\n",
       "      <td>0.003911<\/td>\n",
       "      <td>-0.276769<\/td>\n",
       "      <td>0.066004<\/td>\n",
       "      <td>0.699949<\/td>\n",
       "      <td>0.787194<\/td>\n",
       "      <td>-0.503270<\/td>\n",
       "      <td>0.519067<\/td>\n",
       "      <td>-0.428815<\/td>\n",
       "      <td>0.565468<\/td>\n",
       "      <td>1.000000<\/td>\n",
       "      <td>0.312761<\/td>\n",
       "      <td>-0.788230<\/td>\n",
       "    <\/tr>\n",
       "    <tr>\n",
       "      <th>proline<\/th>\n",
       "      <td>0.643720<\/td>\n",
       "      <td>-0.192011<\/td>\n",
       "      <td>0.223626<\/td>\n",
       "      <td>-0.440597<\/td>\n",
       "      <td>0.393351<\/td>\n",
       "      <td>0.498115<\/td>\n",
       "      <td>0.494193<\/td>\n",
       "      <td>-0.311385<\/td>\n",
       "      <td>0.330417<\/td>\n",
       "      <td>0.316100<\/td>\n",
       "      <td>0.236183<\/td>\n",
       "      <td>0.312761<\/td>\n",
       "      <td>1.000000<\/td>\n",
       "      <td>-0.633717<\/td>\n",
       "    <\/tr>\n",
       "    <tr>\n",
       "      <th>target<\/th>\n",
       "      <td>-0.328222<\/td>\n",
       "      <td>0.437776<\/td>\n",
       "      <td>-0.049643<\/td>\n",
       "      <td>0.517859<\/td>\n",
       "      <td>-0.209179<\/td>\n",
       "      <td>-0.719163<\/td>\n",
       "      <td>-0.847498<\/td>\n",
       "      <td>0.489109<\/td>\n",
       "      <td>-0.499130<\/td>\n",
       "      <td>0.265668<\/td>\n",
       "      <td>-0.617369<\/td>\n",
       "      <td>-0.788230<\/td>\n",
       "      <td>-0.633717<\/td>\n",
       "      <td>1.000000<\/td>\n",
       "    <\/tr>\n",
       "  <\/tbody>\n",
       "<\/table>\n",
       "<\/div>"
      ]
     },
     "metadata":{
      
     },
     "output_type":"display_data"
    }
   ],
   "metadata":{
    "datalore":{
     "node_id":"pPzQzWAX5RmET5t6qaoH8p",
     "type":"CODE",
     "hide_input_from_viewers":true,
     "hide_output_from_viewers":true
    }
   }
  },
  {
   "cell_type":"markdown",
   "source":[
    "9) Создайте список `high_corr` из признаков, корреляция которых с полем `target` по абсолютному значению превышает `0.5` (причем, само поле `target` не должно входить в этот список)."
   ],
   "attachments":{
    
   },
   "metadata":{
    "datalore":{
     "node_id":"836iInOteEK6ZJjJIA6JbJ",
     "type":"MD",
     "hide_input_from_viewers":true,
     "hide_output_from_viewers":true
    }
   }
  },
  {
   "cell_type":"code",
   "source":[
    "high_corr = [feature for feature, value in X_corr['target'].items() if abs(value) > 0.5 and feature != 'target']\n",
    "high_corr"
   ],
   "execution_count":32,
   "outputs":[
    {
     "data":{
      "text\/plain":[
       "['alcalinity_of_ash',\n",
       " 'total_phenols',\n",
       " 'flavanoids',\n",
       " 'hue',\n",
       " 'od280\/od315_of_diluted_wines',\n",
       " 'proline']"
      ]
     },
     "metadata":{
      
     },
     "output_type":"display_data"
    }
   ],
   "metadata":{
    "datalore":{
     "node_id":"0SI2OSPQFzmfqfetCtbm7E",
     "type":"CODE",
     "hide_input_from_viewers":true,
     "hide_output_from_viewers":true
    }
   }
  },
  {
   "cell_type":"markdown",
   "source":[
    "10) Удалите из датафрейма `X` поле с целевой переменной. Для всех признаков, названия которых содержатся в списке `high_corr`, вычислите квадрат их значений и добавьте в датафрейм `X` соответствующие поля с суффиксом `'_2'`, добавленного к первоначальному названию признака. Итоговый датафрейм должен содержать все поля, которые были в нем изначально, а также поля с признаками из списка `high_corr`, возведенными в квадрат. Выведите описание полей датафрейма `X` с помощью метода `describe`."
   ],
   "attachments":{
    
   },
   "metadata":{
    "datalore":{
     "node_id":"XzxQYJ7MyIqRJYYEs1D31G",
     "type":"MD",
     "hide_input_from_viewers":true,
     "hide_output_from_viewers":true
    }
   }
  },
  {
   "cell_type":"code",
   "source":[
    "X = X.drop('target', axis=1)\n",
    "for feature in high_corr:\n",
    "    X = X.join(pd.Series(X[feature]**2, name=f'{feature}_2'))"
   ],
   "execution_count":33,
   "outputs":[
    
   ],
   "metadata":{
    "datalore":{
     "node_id":"ZXr941bN3tif9MMOj9tlSx",
     "type":"CODE",
     "hide_input_from_viewers":true,
     "hide_output_from_viewers":true
    }
   }
  },
  {
   "cell_type":"code",
   "source":[
    "X.describe()"
   ],
   "execution_count":34,
   "outputs":[
    {
     "data":{
      "text\/html":[
       "<div>\n",
       "<style scoped>\n",
       "    .dataframe tbody tr th:only-of-type {\n",
       "        vertical-align: middle;\n",
       "    }\n",
       "\n",
       "    .dataframe tbody tr th {\n",
       "        vertical-align: top;\n",
       "    }\n",
       "\n",
       "    .dataframe thead th {\n",
       "        text-align: right;\n",
       "    }\n",
       "<\/style>\n",
       "<table border=\"1\" class=\"dataframe\">\n",
       "  <thead>\n",
       "    <tr style=\"text-align: right;\">\n",
       "      <th><\/th>\n",
       "      <th>alcohol<\/th>\n",
       "      <th>malic_acid<\/th>\n",
       "      <th>ash<\/th>\n",
       "      <th>alcalinity_of_ash<\/th>\n",
       "      <th>magnesium<\/th>\n",
       "      <th>total_phenols<\/th>\n",
       "      <th>flavanoids<\/th>\n",
       "      <th>nonflavanoid_phenols<\/th>\n",
       "      <th>proanthocyanins<\/th>\n",
       "      <th>color_intensity<\/th>\n",
       "      <th>hue<\/th>\n",
       "      <th>od280\/od315_of_diluted_wines<\/th>\n",
       "      <th>proline<\/th>\n",
       "      <th>alcalinity_of_ash_2<\/th>\n",
       "      <th>total_phenols_2<\/th>\n",
       "      <th>flavanoids_2<\/th>\n",
       "      <th>hue_2<\/th>\n",
       "      <th>od280\/od315_of_diluted_wines_2<\/th>\n",
       "      <th>proline_2<\/th>\n",
       "    <\/tr>\n",
       "  <\/thead>\n",
       "  <tbody>\n",
       "    <tr>\n",
       "      <th>count<\/th>\n",
       "      <td>178.000000<\/td>\n",
       "      <td>178.000000<\/td>\n",
       "      <td>178.000000<\/td>\n",
       "      <td>178.000000<\/td>\n",
       "      <td>178.000000<\/td>\n",
       "      <td>178.000000<\/td>\n",
       "      <td>178.000000<\/td>\n",
       "      <td>178.000000<\/td>\n",
       "      <td>178.000000<\/td>\n",
       "      <td>178.000000<\/td>\n",
       "      <td>178.000000<\/td>\n",
       "      <td>178.000000<\/td>\n",
       "      <td>178.000000<\/td>\n",
       "      <td>178.000000<\/td>\n",
       "      <td>178.000000<\/td>\n",
       "      <td>178.000000<\/td>\n",
       "      <td>178.000000<\/td>\n",
       "      <td>178.000000<\/td>\n",
       "      <td>1.780000e+02<\/td>\n",
       "    <\/tr>\n",
       "    <tr>\n",
       "      <th>mean<\/th>\n",
       "      <td>13.000618<\/td>\n",
       "      <td>2.336348<\/td>\n",
       "      <td>2.366517<\/td>\n",
       "      <td>19.494944<\/td>\n",
       "      <td>99.741573<\/td>\n",
       "      <td>2.295112<\/td>\n",
       "      <td>2.029270<\/td>\n",
       "      <td>0.361854<\/td>\n",
       "      <td>1.590899<\/td>\n",
       "      <td>5.058090<\/td>\n",
       "      <td>0.957449<\/td>\n",
       "      <td>2.611685<\/td>\n",
       "      <td>746.893258<\/td>\n",
       "      <td>391.142865<\/td>\n",
       "      <td>5.657030<\/td>\n",
       "      <td>5.110049<\/td>\n",
       "      <td>0.968661<\/td>\n",
       "      <td>7.322155<\/td>\n",
       "      <td>6.564591e+05<\/td>\n",
       "    <\/tr>\n",
       "    <tr>\n",
       "      <th>std<\/th>\n",
       "      <td>0.811827<\/td>\n",
       "      <td>1.117146<\/td>\n",
       "      <td>0.274344<\/td>\n",
       "      <td>3.339564<\/td>\n",
       "      <td>14.282484<\/td>\n",
       "      <td>0.625851<\/td>\n",
       "      <td>0.998859<\/td>\n",
       "      <td>0.124453<\/td>\n",
       "      <td>0.572359<\/td>\n",
       "      <td>2.318286<\/td>\n",
       "      <td>0.228572<\/td>\n",
       "      <td>0.709990<\/td>\n",
       "      <td>314.907474<\/td>\n",
       "      <td>133.671775<\/td>\n",
       "      <td>2.936294<\/td>\n",
       "      <td>4.211441<\/td>\n",
       "      <td>0.443798<\/td>\n",
       "      <td>3.584316<\/td>\n",
       "      <td>5.558591e+05<\/td>\n",
       "    <\/tr>\n",
       "    <tr>\n",
       "      <th>min<\/th>\n",
       "      <td>11.030000<\/td>\n",
       "      <td>0.740000<\/td>\n",
       "      <td>1.360000<\/td>\n",
       "      <td>10.600000<\/td>\n",
       "      <td>70.000000<\/td>\n",
       "      <td>0.980000<\/td>\n",
       "      <td>0.340000<\/td>\n",
       "      <td>0.130000<\/td>\n",
       "      <td>0.410000<\/td>\n",
       "      <td>1.280000<\/td>\n",
       "      <td>0.480000<\/td>\n",
       "      <td>1.270000<\/td>\n",
       "      <td>278.000000<\/td>\n",
       "      <td>112.360000<\/td>\n",
       "      <td>0.960400<\/td>\n",
       "      <td>0.115600<\/td>\n",
       "      <td>0.230400<\/td>\n",
       "      <td>1.612900<\/td>\n",
       "      <td>7.728400e+04<\/td>\n",
       "    <\/tr>\n",
       "    <tr>\n",
       "      <th>25%<\/th>\n",
       "      <td>12.362500<\/td>\n",
       "      <td>1.602500<\/td>\n",
       "      <td>2.210000<\/td>\n",
       "      <td>17.200000<\/td>\n",
       "      <td>88.000000<\/td>\n",
       "      <td>1.742500<\/td>\n",
       "      <td>1.205000<\/td>\n",
       "      <td>0.270000<\/td>\n",
       "      <td>1.250000<\/td>\n",
       "      <td>3.220000<\/td>\n",
       "      <td>0.782500<\/td>\n",
       "      <td>1.937500<\/td>\n",
       "      <td>500.500000<\/td>\n",
       "      <td>295.840000<\/td>\n",
       "      <td>3.036325<\/td>\n",
       "      <td>1.452100<\/td>\n",
       "      <td>0.612325<\/td>\n",
       "      <td>3.754075<\/td>\n",
       "      <td>2.505010e+05<\/td>\n",
       "    <\/tr>\n",
       "    <tr>\n",
       "      <th>50%<\/th>\n",
       "      <td>13.050000<\/td>\n",
       "      <td>1.865000<\/td>\n",
       "      <td>2.360000<\/td>\n",
       "      <td>19.500000<\/td>\n",
       "      <td>98.000000<\/td>\n",
       "      <td>2.355000<\/td>\n",
       "      <td>2.135000<\/td>\n",
       "      <td>0.340000<\/td>\n",
       "      <td>1.555000<\/td>\n",
       "      <td>4.690000<\/td>\n",
       "      <td>0.965000<\/td>\n",
       "      <td>2.780000<\/td>\n",
       "      <td>673.500000<\/td>\n",
       "      <td>380.250000<\/td>\n",
       "      <td>5.546050<\/td>\n",
       "      <td>4.558250<\/td>\n",
       "      <td>0.931250<\/td>\n",
       "      <td>7.728400<\/td>\n",
       "      <td>4.536045e+05<\/td>\n",
       "    <\/tr>\n",
       "    <tr>\n",
       "      <th>75%<\/th>\n",
       "      <td>13.677500<\/td>\n",
       "      <td>3.082500<\/td>\n",
       "      <td>2.557500<\/td>\n",
       "      <td>21.500000<\/td>\n",
       "      <td>107.000000<\/td>\n",
       "      <td>2.800000<\/td>\n",
       "      <td>2.875000<\/td>\n",
       "      <td>0.437500<\/td>\n",
       "      <td>1.950000<\/td>\n",
       "      <td>6.200000<\/td>\n",
       "      <td>1.120000<\/td>\n",
       "      <td>3.170000<\/td>\n",
       "      <td>985.000000<\/td>\n",
       "      <td>462.250000<\/td>\n",
       "      <td>7.840000<\/td>\n",
       "      <td>8.265700<\/td>\n",
       "      <td>1.254400<\/td>\n",
       "      <td>10.048900<\/td>\n",
       "      <td>9.702250e+05<\/td>\n",
       "    <\/tr>\n",
       "    <tr>\n",
       "      <th>max<\/th>\n",
       "      <td>14.830000<\/td>\n",
       "      <td>5.800000<\/td>\n",
       "      <td>3.230000<\/td>\n",
       "      <td>30.000000<\/td>\n",
       "      <td>162.000000<\/td>\n",
       "      <td>3.880000<\/td>\n",
       "      <td>5.080000<\/td>\n",
       "      <td>0.660000<\/td>\n",
       "      <td>3.580000<\/td>\n",
       "      <td>13.000000<\/td>\n",
       "      <td>1.710000<\/td>\n",
       "      <td>4.000000<\/td>\n",
       "      <td>1680.000000<\/td>\n",
       "      <td>900.000000<\/td>\n",
       "      <td>15.054400<\/td>\n",
       "      <td>25.806400<\/td>\n",
       "      <td>2.924100<\/td>\n",
       "      <td>16.000000<\/td>\n",
       "      <td>2.822400e+06<\/td>\n",
       "    <\/tr>\n",
       "  <\/tbody>\n",
       "<\/table>\n",
       "<\/div>"
      ]
     },
     "metadata":{
      
     },
     "output_type":"display_data"
    }
   ],
   "metadata":{
    "datalore":{
     "node_id":"TKZCcMnlQzkfh86J3Gjxnr",
     "type":"CODE",
     "hide_input_from_viewers":true,
     "hide_output_from_viewers":true
    }
   }
  }
 ],
 "metadata":{
  "kernelspec":{
   "display_name":"Python",
   "language":"python",
   "name":"python"
  },
  "datalore":{
   "version":1,
   "computation_mode":"JUPYTER",
   "package_manager":"pip",
   "base_environment":"default",
   "packages":[
    
   ]
  }
 },
 "nbformat":4,
 "nbformat_minor":4
}