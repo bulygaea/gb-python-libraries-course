{
 "cells":[
  {
   "cell_type":"code",
   "source":[
    "import numpy as np\n",
    "import pandas as pd\n",
    "import matplotlib.pyplot as plt\n",
    "from sklearn.model_selection import train_test_split"
   ],
   "execution_count":1,
   "outputs":[
    
   ],
   "metadata":{
    "datalore":{
     "node_id":"rwwt6ZMIfgzsho18908qc7",
     "type":"CODE",
     "hide_input_from_viewers":false,
     "hide_output_from_viewers":false,
     "report_properties":{
      
     }
    }
   }
  },
  {
   "cell_type":"markdown",
   "source":[
    "#  Предобработка данных"
   ],
   "attachments":{
    
   },
   "metadata":{
    "datalore":{
     "node_id":"EGggX2joCOQdBoPNK4yp6x",
     "type":"MD",
     "hide_input_from_viewers":true,
     "hide_output_from_viewers":true
    }
   }
  },
  {
   "cell_type":"markdown",
   "source":[
    "1. Считаем данные из таблиц"
   ],
   "attachments":{
    
   },
   "metadata":{
    "datalore":{
     "node_id":"fBDw4MdmpUtcb2HyxfeuKn",
     "type":"MD",
     "hide_input_from_viewers":true,
     "hide_output_from_viewers":true
    }
   }
  },
  {
   "cell_type":"code",
   "source":[
    "train_data = pd.read_csv('\/data\/notebook_files\/train.csv')\n",
    "test_data = pd.read_csv('\/data\/notebook_files\/test.csv')"
   ],
   "execution_count":2,
   "outputs":[
    
   ],
   "metadata":{
    "datalore":{
     "node_id":"2ts5X5RNcQMsWHUTSqnYHC",
     "type":"CODE",
     "hide_input_from_viewers":false,
     "hide_output_from_viewers":false,
     "report_properties":{
      
     }
    }
   }
  },
  {
   "cell_type":"markdown",
   "source":[
    "2. Проведем первичный анализ: рассмотрим первые 5 строк в таблицах, изучим информацию о таблицах"
   ],
   "attachments":{
    
   },
   "metadata":{
    "datalore":{
     "node_id":"ZRrAnuZ3xZVpScnjCjwzXx",
     "type":"MD",
     "hide_input_from_viewers":true,
     "hide_output_from_viewers":true
    }
   }
  },
  {
   "cell_type":"code",
   "source":[
    "train_data.head()"
   ],
   "execution_count":3,
   "outputs":[
    {
     "data":{
      "text\/html":[
       "<div>\n",
       "<style scoped>\n",
       "    .dataframe tbody tr th:only-of-type {\n",
       "        vertical-align: middle;\n",
       "    }\n",
       "\n",
       "    .dataframe tbody tr th {\n",
       "        vertical-align: top;\n",
       "    }\n",
       "\n",
       "    .dataframe thead th {\n",
       "        text-align: right;\n",
       "    }\n",
       "<\/style>\n",
       "<table border=\"1\" class=\"dataframe\">\n",
       "  <thead>\n",
       "    <tr style=\"text-align: right;\">\n",
       "      <th><\/th>\n",
       "      <th>Id<\/th>\n",
       "      <th>DistrictId<\/th>\n",
       "      <th>Rooms<\/th>\n",
       "      <th>Square<\/th>\n",
       "      <th>LifeSquare<\/th>\n",
       "      <th>KitchenSquare<\/th>\n",
       "      <th>Floor<\/th>\n",
       "      <th>HouseFloor<\/th>\n",
       "      <th>HouseYear<\/th>\n",
       "      <th>Ecology_1<\/th>\n",
       "      <th>Ecology_2<\/th>\n",
       "      <th>Ecology_3<\/th>\n",
       "      <th>Social_1<\/th>\n",
       "      <th>Social_2<\/th>\n",
       "      <th>Social_3<\/th>\n",
       "      <th>Healthcare_1<\/th>\n",
       "      <th>Healthcare_2<\/th>\n",
       "      <th>Shops_1<\/th>\n",
       "      <th>Shops_2<\/th>\n",
       "      <th>Price<\/th>\n",
       "    <\/tr>\n",
       "  <\/thead>\n",
       "  <tbody>\n",
       "    <tr>\n",
       "      <th>0<\/th>\n",
       "      <td>14038<\/td>\n",
       "      <td>35<\/td>\n",
       "      <td>2.0<\/td>\n",
       "      <td>47.981561<\/td>\n",
       "      <td>29.442751<\/td>\n",
       "      <td>6.0<\/td>\n",
       "      <td>7<\/td>\n",
       "      <td>9.0<\/td>\n",
       "      <td>1969<\/td>\n",
       "      <td>0.089040<\/td>\n",
       "      <td>B<\/td>\n",
       "      <td>B<\/td>\n",
       "      <td>33<\/td>\n",
       "      <td>7976<\/td>\n",
       "      <td>5<\/td>\n",
       "      <td>NaN<\/td>\n",
       "      <td>0<\/td>\n",
       "      <td>11<\/td>\n",
       "      <td>B<\/td>\n",
       "      <td>184966.930730<\/td>\n",
       "    <\/tr>\n",
       "    <tr>\n",
       "      <th>1<\/th>\n",
       "      <td>15053<\/td>\n",
       "      <td>41<\/td>\n",
       "      <td>3.0<\/td>\n",
       "      <td>65.683640<\/td>\n",
       "      <td>40.049543<\/td>\n",
       "      <td>8.0<\/td>\n",
       "      <td>7<\/td>\n",
       "      <td>9.0<\/td>\n",
       "      <td>1978<\/td>\n",
       "      <td>0.000070<\/td>\n",
       "      <td>B<\/td>\n",
       "      <td>B<\/td>\n",
       "      <td>46<\/td>\n",
       "      <td>10309<\/td>\n",
       "      <td>1<\/td>\n",
       "      <td>240.0<\/td>\n",
       "      <td>1<\/td>\n",
       "      <td>16<\/td>\n",
       "      <td>B<\/td>\n",
       "      <td>300009.450063<\/td>\n",
       "    <\/tr>\n",
       "    <tr>\n",
       "      <th>2<\/th>\n",
       "      <td>4765<\/td>\n",
       "      <td>53<\/td>\n",
       "      <td>2.0<\/td>\n",
       "      <td>44.947953<\/td>\n",
       "      <td>29.197612<\/td>\n",
       "      <td>0.0<\/td>\n",
       "      <td>8<\/td>\n",
       "      <td>12.0<\/td>\n",
       "      <td>1968<\/td>\n",
       "      <td>0.049637<\/td>\n",
       "      <td>B<\/td>\n",
       "      <td>B<\/td>\n",
       "      <td>34<\/td>\n",
       "      <td>7759<\/td>\n",
       "      <td>0<\/td>\n",
       "      <td>229.0<\/td>\n",
       "      <td>1<\/td>\n",
       "      <td>3<\/td>\n",
       "      <td>B<\/td>\n",
       "      <td>220925.908524<\/td>\n",
       "    <\/tr>\n",
       "    <tr>\n",
       "      <th>3<\/th>\n",
       "      <td>5809<\/td>\n",
       "      <td>58<\/td>\n",
       "      <td>2.0<\/td>\n",
       "      <td>53.352981<\/td>\n",
       "      <td>52.731512<\/td>\n",
       "      <td>9.0<\/td>\n",
       "      <td>8<\/td>\n",
       "      <td>17.0<\/td>\n",
       "      <td>1977<\/td>\n",
       "      <td>0.437885<\/td>\n",
       "      <td>B<\/td>\n",
       "      <td>B<\/td>\n",
       "      <td>23<\/td>\n",
       "      <td>5735<\/td>\n",
       "      <td>3<\/td>\n",
       "      <td>1084.0<\/td>\n",
       "      <td>0<\/td>\n",
       "      <td>5<\/td>\n",
       "      <td>B<\/td>\n",
       "      <td>175616.227217<\/td>\n",
       "    <\/tr>\n",
       "    <tr>\n",
       "      <th>4<\/th>\n",
       "      <td>10783<\/td>\n",
       "      <td>99<\/td>\n",
       "      <td>1.0<\/td>\n",
       "      <td>39.649192<\/td>\n",
       "      <td>23.776169<\/td>\n",
       "      <td>7.0<\/td>\n",
       "      <td>11<\/td>\n",
       "      <td>12.0<\/td>\n",
       "      <td>1976<\/td>\n",
       "      <td>0.012339<\/td>\n",
       "      <td>B<\/td>\n",
       "      <td>B<\/td>\n",
       "      <td>35<\/td>\n",
       "      <td>5776<\/td>\n",
       "      <td>1<\/td>\n",
       "      <td>2078.0<\/td>\n",
       "      <td>2<\/td>\n",
       "      <td>4<\/td>\n",
       "      <td>B<\/td>\n",
       "      <td>150226.531644<\/td>\n",
       "    <\/tr>\n",
       "  <\/tbody>\n",
       "<\/table>\n",
       "<\/div>"
      ]
     },
     "metadata":{
      
     },
     "output_type":"display_data"
    }
   ],
   "metadata":{
    "datalore":{
     "node_id":"gjnp8fXkGtUxBYWuvcbziN",
     "type":"CODE",
     "hide_input_from_viewers":false,
     "hide_output_from_viewers":false,
     "report_properties":{
      
     }
    }
   }
  },
  {
   "cell_type":"code",
   "source":[
    "test_data.head()"
   ],
   "execution_count":4,
   "outputs":[
    {
     "data":{
      "text\/html":[
       "<div>\n",
       "<style scoped>\n",
       "    .dataframe tbody tr th:only-of-type {\n",
       "        vertical-align: middle;\n",
       "    }\n",
       "\n",
       "    .dataframe tbody tr th {\n",
       "        vertical-align: top;\n",
       "    }\n",
       "\n",
       "    .dataframe thead th {\n",
       "        text-align: right;\n",
       "    }\n",
       "<\/style>\n",
       "<table border=\"1\" class=\"dataframe\">\n",
       "  <thead>\n",
       "    <tr style=\"text-align: right;\">\n",
       "      <th><\/th>\n",
       "      <th>Id<\/th>\n",
       "      <th>DistrictId<\/th>\n",
       "      <th>Rooms<\/th>\n",
       "      <th>Square<\/th>\n",
       "      <th>LifeSquare<\/th>\n",
       "      <th>KitchenSquare<\/th>\n",
       "      <th>Floor<\/th>\n",
       "      <th>HouseFloor<\/th>\n",
       "      <th>HouseYear<\/th>\n",
       "      <th>Ecology_1<\/th>\n",
       "      <th>Ecology_2<\/th>\n",
       "      <th>Ecology_3<\/th>\n",
       "      <th>Social_1<\/th>\n",
       "      <th>Social_2<\/th>\n",
       "      <th>Social_3<\/th>\n",
       "      <th>Healthcare_1<\/th>\n",
       "      <th>Healthcare_2<\/th>\n",
       "      <th>Shops_1<\/th>\n",
       "      <th>Shops_2<\/th>\n",
       "    <\/tr>\n",
       "  <\/thead>\n",
       "  <tbody>\n",
       "    <tr>\n",
       "      <th>0<\/th>\n",
       "      <td>725<\/td>\n",
       "      <td>58<\/td>\n",
       "      <td>2.0<\/td>\n",
       "      <td>49.882643<\/td>\n",
       "      <td>33.432782<\/td>\n",
       "      <td>6.0<\/td>\n",
       "      <td>6<\/td>\n",
       "      <td>14.0<\/td>\n",
       "      <td>1972<\/td>\n",
       "      <td>0.310199<\/td>\n",
       "      <td>B<\/td>\n",
       "      <td>B<\/td>\n",
       "      <td>11<\/td>\n",
       "      <td>2748<\/td>\n",
       "      <td>1<\/td>\n",
       "      <td>NaN<\/td>\n",
       "      <td>0<\/td>\n",
       "      <td>0<\/td>\n",
       "      <td>B<\/td>\n",
       "    <\/tr>\n",
       "    <tr>\n",
       "      <th>1<\/th>\n",
       "      <td>15856<\/td>\n",
       "      <td>74<\/td>\n",
       "      <td>2.0<\/td>\n",
       "      <td>69.263183<\/td>\n",
       "      <td>NaN<\/td>\n",
       "      <td>1.0<\/td>\n",
       "      <td>6<\/td>\n",
       "      <td>1.0<\/td>\n",
       "      <td>1977<\/td>\n",
       "      <td>0.075779<\/td>\n",
       "      <td>B<\/td>\n",
       "      <td>B<\/td>\n",
       "      <td>6<\/td>\n",
       "      <td>1437<\/td>\n",
       "      <td>3<\/td>\n",
       "      <td>NaN<\/td>\n",
       "      <td>0<\/td>\n",
       "      <td>2<\/td>\n",
       "      <td>B<\/td>\n",
       "    <\/tr>\n",
       "    <tr>\n",
       "      <th>2<\/th>\n",
       "      <td>5480<\/td>\n",
       "      <td>190<\/td>\n",
       "      <td>1.0<\/td>\n",
       "      <td>13.597819<\/td>\n",
       "      <td>15.948246<\/td>\n",
       "      <td>12.0<\/td>\n",
       "      <td>2<\/td>\n",
       "      <td>5.0<\/td>\n",
       "      <td>1909<\/td>\n",
       "      <td>0.000000<\/td>\n",
       "      <td>B<\/td>\n",
       "      <td>B<\/td>\n",
       "      <td>30<\/td>\n",
       "      <td>7538<\/td>\n",
       "      <td>87<\/td>\n",
       "      <td>4702.0<\/td>\n",
       "      <td>5<\/td>\n",
       "      <td>5<\/td>\n",
       "      <td>B<\/td>\n",
       "    <\/tr>\n",
       "    <tr>\n",
       "      <th>3<\/th>\n",
       "      <td>15664<\/td>\n",
       "      <td>47<\/td>\n",
       "      <td>2.0<\/td>\n",
       "      <td>73.046609<\/td>\n",
       "      <td>51.940842<\/td>\n",
       "      <td>9.0<\/td>\n",
       "      <td>22<\/td>\n",
       "      <td>22.0<\/td>\n",
       "      <td>2007<\/td>\n",
       "      <td>0.101872<\/td>\n",
       "      <td>B<\/td>\n",
       "      <td>B<\/td>\n",
       "      <td>23<\/td>\n",
       "      <td>4583<\/td>\n",
       "      <td>3<\/td>\n",
       "      <td>NaN<\/td>\n",
       "      <td>3<\/td>\n",
       "      <td>3<\/td>\n",
       "      <td>B<\/td>\n",
       "    <\/tr>\n",
       "    <tr>\n",
       "      <th>4<\/th>\n",
       "      <td>14275<\/td>\n",
       "      <td>27<\/td>\n",
       "      <td>1.0<\/td>\n",
       "      <td>47.527111<\/td>\n",
       "      <td>43.387569<\/td>\n",
       "      <td>1.0<\/td>\n",
       "      <td>17<\/td>\n",
       "      <td>17.0<\/td>\n",
       "      <td>2017<\/td>\n",
       "      <td>0.072158<\/td>\n",
       "      <td>B<\/td>\n",
       "      <td>B<\/td>\n",
       "      <td>2<\/td>\n",
       "      <td>629<\/td>\n",
       "      <td>1<\/td>\n",
       "      <td>NaN<\/td>\n",
       "      <td>0<\/td>\n",
       "      <td>0<\/td>\n",
       "      <td>A<\/td>\n",
       "    <\/tr>\n",
       "  <\/tbody>\n",
       "<\/table>\n",
       "<\/div>"
      ]
     },
     "metadata":{
      
     },
     "output_type":"display_data"
    }
   ],
   "metadata":{
    "datalore":{
     "node_id":"UcX7fVPQDpjpTAAwExMEGJ",
     "type":"CODE",
     "hide_input_from_viewers":false,
     "hide_output_from_viewers":false,
     "report_properties":{
      
     }
    }
   }
  },
  {
   "cell_type":"code",
   "source":[
    "train_data.info()"
   ],
   "execution_count":5,
   "outputs":[
    {
     "name":"stdout",
     "text":[
      "<class 'pandas.core.frame.DataFrame'>\n",
      "RangeIndex: 10000 entries, 0 to 9999\n",
      "Data columns (total 20 columns):\n",
      " #   Column         Non-Null Count  Dtype  \n",
      "---  ------         --------------  -----  \n",
      " 0   Id             10000 non-null  int64  \n",
      " 1   DistrictId     10000 non-null  int64  \n",
      " 2   Rooms          10000 non-null  float64\n",
      " 3   Square         10000 non-null  float64\n",
      " 4   LifeSquare     7887 non-null   float64\n",
      " 5   KitchenSquare  10000 non-null  float64\n",
      " 6   Floor          10000 non-null  int64  \n",
      " 7   HouseFloor     10000 non-null  float64\n",
      " 8   HouseYear      10000 non-null  int64  \n",
      " 9   Ecology_1      10000 non-null  float64\n",
      " 10  Ecology_2      10000 non-null  object \n",
      " 11  Ecology_3      10000 non-null  object \n",
      " 12  Social_1       10000 non-null  int64  \n",
      " 13  Social_2       10000 non-null  int64  \n",
      " 14  Social_3       10000 non-null  int64  \n",
      " 15  Healthcare_1   5202 non-null   float64\n",
      " 16  Healthcare_2   10000 non-null  int64  \n",
      " 17  Shops_1        10000 non-null  int64  \n",
      " 18  Shops_2        10000 non-null  object \n",
      " 19  Price          10000 non-null  float64\n",
      "dtypes: float64(8), int64(9), object(3)\n",
      "memory usage: 1.5+ MB\n"
     ],
     "output_type":"stream"
    }
   ],
   "metadata":{
    "datalore":{
     "node_id":"lZ0bQzvLnRyVEGMacAW0Kl",
     "type":"CODE",
     "hide_input_from_viewers":true,
     "hide_output_from_viewers":true
    }
   }
  },
  {
   "cell_type":"code",
   "source":[
    "test_data.info()"
   ],
   "execution_count":6,
   "outputs":[
    {
     "name":"stdout",
     "text":[
      "<class 'pandas.core.frame.DataFrame'>\n",
      "RangeIndex: 5000 entries, 0 to 4999\n",
      "Data columns (total 19 columns):\n",
      " #   Column         Non-Null Count  Dtype  \n",
      "---  ------         --------------  -----  \n",
      " 0   Id             5000 non-null   int64  \n",
      " 1   DistrictId     5000 non-null   int64  \n",
      " 2   Rooms          5000 non-null   float64\n",
      " 3   Square         5000 non-null   float64\n",
      " 4   LifeSquare     3959 non-null   float64\n",
      " 5   KitchenSquare  5000 non-null   float64\n",
      " 6   Floor          5000 non-null   int64  \n",
      " 7   HouseFloor     5000 non-null   float64\n",
      " 8   HouseYear      5000 non-null   int64  \n",
      " 9   Ecology_1      5000 non-null   float64\n",
      " 10  Ecology_2      5000 non-null   object \n",
      " 11  Ecology_3      5000 non-null   object \n",
      " 12  Social_1       5000 non-null   int64  \n",
      " 13  Social_2       5000 non-null   int64  \n",
      " 14  Social_3       5000 non-null   int64  \n",
      " 15  Healthcare_1   2623 non-null   float64\n",
      " 16  Healthcare_2   5000 non-null   int64  \n",
      " 17  Shops_1        5000 non-null   int64  \n",
      " 18  Shops_2        5000 non-null   object \n",
      "dtypes: float64(7), int64(9), object(3)\n",
      "memory usage: 742.3+ KB\n"
     ],
     "output_type":"stream"
    }
   ],
   "metadata":{
    "datalore":{
     "node_id":"6Elrj9IEiJFoyiGRPmtZhm",
     "type":"CODE",
     "hide_input_from_viewers":true,
     "hide_output_from_viewers":true
    }
   }
  },
  {
   "cell_type":"markdown",
   "source":[
    "3. Посмотрим, есть ли в тренировочных данных строки, где данные - это нули и NULL-значения. Удалим, если они есть"
   ],
   "attachments":{
    
   },
   "metadata":{
    "datalore":{
     "node_id":"J6T7q0xAtT9O0DFS2Gv5CQ",
     "type":"MD",
     "hide_input_from_viewers":true,
     "hide_output_from_viewers":true
    }
   }
  },
  {
   "cell_type":"code",
   "source":[
    "drop_index = []\n",
    "count = 0\n",
    "for i in train_data.index:\n",
    "    count1 = train_data.iloc[i].isnull().value_counts()\n",
    "    count2 = (train_data.iloc[i] == 0).value_counts()\n",
    "    if True in count1:\n",
    "        count = count1[True]\n",
    "    if True in count2:\n",
    "        count += count2[True]\n",
    "    if count > 9:\n",
    "        print(count)\n",
    "        drop_index.append(i)\n",
    "    count = 0\n",
    "print(drop_index)"
   ],
   "execution_count":7,
   "outputs":[
    {
     "name":"stdout",
     "text":[
      "[]\n"
     ],
     "output_type":"stream"
    }
   ],
   "metadata":{
    "datalore":{
     "node_id":"QjLorLrZviUFUNAtyhOiSS",
     "type":"CODE",
     "hide_input_from_viewers":false,
     "hide_output_from_viewers":false,
     "report_properties":{
      
     }
    }
   }
  },
  {
   "cell_type":"code",
   "source":[
    "train_data = train_data.drop(drop_index)"
   ],
   "execution_count":8,
   "outputs":[
    
   ],
   "metadata":{
    "datalore":{
     "node_id":"D7qfLGLDujyAkLzA3DT72P",
     "type":"CODE",
     "hide_input_from_viewers":false,
     "hide_output_from_viewers":false,
     "report_properties":{
      
     }
    }
   }
  },
  {
   "cell_type":"markdown",
   "source":[
    "4. Изучив информацию о таблицах, видим, что в некоторых столбцах много NULL данных. Заполним их средними значениями"
   ],
   "attachments":{
    
   },
   "metadata":{
    "datalore":{
     "node_id":"nBVJXp4fM7tH2djFhJIx5f",
     "type":"MD",
     "hide_input_from_viewers":true,
     "hide_output_from_viewers":true
    }
   }
  },
  {
   "cell_type":"code",
   "source":[
    "test_edited = test_data\n",
    "train_edited = train_data\n",
    "\n",
    "def nan_filler(data):\n",
    "    for label, content in data.items():\n",
    "        if pd.api.types.is_numeric_dtype(content):\n",
    "            data[label] = content.fillna(content.median())\n",
    "\n",
    "nan_filler(test_edited)\n",
    "nan_filler(train_edited)"
   ],
   "execution_count":9,
   "outputs":[
    
   ],
   "metadata":{
    "datalore":{
     "node_id":"uqRmx0dDhuddwMhcVxDDOV",
     "type":"CODE",
     "hide_input_from_viewers":false,
     "hide_output_from_viewers":false,
     "report_properties":{
      
     }
    }
   }
  },
  {
   "cell_type":"markdown",
   "source":[
    "5. Рассмотрим статистику по данным"
   ],
   "attachments":{
    
   },
   "metadata":{
    "datalore":{
     "node_id":"Zt9vBdyAEQumV9vlr7x0nh",
     "type":"MD",
     "hide_input_from_viewers":true,
     "hide_output_from_viewers":true
    }
   }
  },
  {
   "cell_type":"code",
   "source":[
    "train_edited.describe()"
   ],
   "execution_count":10,
   "outputs":[
    {
     "data":{
      "text\/html":[
       "<div>\n",
       "<style scoped>\n",
       "    .dataframe tbody tr th:only-of-type {\n",
       "        vertical-align: middle;\n",
       "    }\n",
       "\n",
       "    .dataframe tbody tr th {\n",
       "        vertical-align: top;\n",
       "    }\n",
       "\n",
       "    .dataframe thead th {\n",
       "        text-align: right;\n",
       "    }\n",
       "<\/style>\n",
       "<table border=\"1\" class=\"dataframe\">\n",
       "  <thead>\n",
       "    <tr style=\"text-align: right;\">\n",
       "      <th><\/th>\n",
       "      <th>Id<\/th>\n",
       "      <th>DistrictId<\/th>\n",
       "      <th>Rooms<\/th>\n",
       "      <th>Square<\/th>\n",
       "      <th>LifeSquare<\/th>\n",
       "      <th>KitchenSquare<\/th>\n",
       "      <th>Floor<\/th>\n",
       "      <th>HouseFloor<\/th>\n",
       "      <th>HouseYear<\/th>\n",
       "      <th>Ecology_1<\/th>\n",
       "      <th>Social_1<\/th>\n",
       "      <th>Social_2<\/th>\n",
       "      <th>Social_3<\/th>\n",
       "      <th>Healthcare_1<\/th>\n",
       "      <th>Healthcare_2<\/th>\n",
       "      <th>Shops_1<\/th>\n",
       "      <th>Price<\/th>\n",
       "    <\/tr>\n",
       "  <\/thead>\n",
       "  <tbody>\n",
       "    <tr>\n",
       "      <th>count<\/th>\n",
       "      <td>10000.00000<\/td>\n",
       "      <td>10000.000000<\/td>\n",
       "      <td>10000.000000<\/td>\n",
       "      <td>10000.000000<\/td>\n",
       "      <td>10000.000000<\/td>\n",
       "      <td>10000.000000<\/td>\n",
       "      <td>10000.000000<\/td>\n",
       "      <td>10000.000000<\/td>\n",
       "      <td>1.000000e+04<\/td>\n",
       "      <td>10000.000000<\/td>\n",
       "      <td>10000.000000<\/td>\n",
       "      <td>10000.000000<\/td>\n",
       "      <td>10000.000000<\/td>\n",
       "      <td>10000.000000<\/td>\n",
       "      <td>10000.000000<\/td>\n",
       "      <td>10000.000000<\/td>\n",
       "      <td>10000.000000<\/td>\n",
       "    <\/tr>\n",
       "    <tr>\n",
       "      <th>mean<\/th>\n",
       "      <td>8383.40770<\/td>\n",
       "      <td>50.400800<\/td>\n",
       "      <td>1.890500<\/td>\n",
       "      <td>56.315775<\/td>\n",
       "      <td>36.266040<\/td>\n",
       "      <td>6.273300<\/td>\n",
       "      <td>8.526700<\/td>\n",
       "      <td>12.609400<\/td>\n",
       "      <td>3.990166e+03<\/td>\n",
       "      <td>0.118858<\/td>\n",
       "      <td>24.687000<\/td>\n",
       "      <td>5352.157400<\/td>\n",
       "      <td>8.039200<\/td>\n",
       "      <td>1026.358900<\/td>\n",
       "      <td>1.319500<\/td>\n",
       "      <td>4.231300<\/td>\n",
       "      <td>214138.857399<\/td>\n",
       "    <\/tr>\n",
       "    <tr>\n",
       "      <th>std<\/th>\n",
       "      <td>4859.01902<\/td>\n",
       "      <td>43.587592<\/td>\n",
       "      <td>0.839512<\/td>\n",
       "      <td>21.058732<\/td>\n",
       "      <td>76.609981<\/td>\n",
       "      <td>28.560917<\/td>\n",
       "      <td>5.241148<\/td>\n",
       "      <td>6.775974<\/td>\n",
       "      <td>2.005003e+05<\/td>\n",
       "      <td>0.119025<\/td>\n",
       "      <td>17.532614<\/td>\n",
       "      <td>4006.799803<\/td>\n",
       "      <td>23.831875<\/td>\n",
       "      <td>746.662828<\/td>\n",
       "      <td>1.493601<\/td>\n",
       "      <td>4.806341<\/td>\n",
       "      <td>92872.293865<\/td>\n",
       "    <\/tr>\n",
       "    <tr>\n",
       "      <th>min<\/th>\n",
       "      <td>0.00000<\/td>\n",
       "      <td>0.000000<\/td>\n",
       "      <td>0.000000<\/td>\n",
       "      <td>1.136859<\/td>\n",
       "      <td>0.370619<\/td>\n",
       "      <td>0.000000<\/td>\n",
       "      <td>1.000000<\/td>\n",
       "      <td>0.000000<\/td>\n",
       "      <td>1.910000e+03<\/td>\n",
       "      <td>0.000000<\/td>\n",
       "      <td>0.000000<\/td>\n",
       "      <td>168.000000<\/td>\n",
       "      <td>0.000000<\/td>\n",
       "      <td>0.000000<\/td>\n",
       "      <td>0.000000<\/td>\n",
       "      <td>0.000000<\/td>\n",
       "      <td>59174.778028<\/td>\n",
       "    <\/tr>\n",
       "    <tr>\n",
       "      <th>25%<\/th>\n",
       "      <td>4169.50000<\/td>\n",
       "      <td>20.000000<\/td>\n",
       "      <td>1.000000<\/td>\n",
       "      <td>41.774881<\/td>\n",
       "      <td>25.527399<\/td>\n",
       "      <td>1.000000<\/td>\n",
       "      <td>4.000000<\/td>\n",
       "      <td>9.000000<\/td>\n",
       "      <td>1.974000e+03<\/td>\n",
       "      <td>0.017647<\/td>\n",
       "      <td>6.000000<\/td>\n",
       "      <td>1564.000000<\/td>\n",
       "      <td>0.000000<\/td>\n",
       "      <td>830.000000<\/td>\n",
       "      <td>0.000000<\/td>\n",
       "      <td>1.000000<\/td>\n",
       "      <td>153872.633942<\/td>\n",
       "    <\/tr>\n",
       "    <tr>\n",
       "      <th>50%<\/th>\n",
       "      <td>8394.50000<\/td>\n",
       "      <td>36.000000<\/td>\n",
       "      <td>2.000000<\/td>\n",
       "      <td>52.513310<\/td>\n",
       "      <td>32.781260<\/td>\n",
       "      <td>6.000000<\/td>\n",
       "      <td>7.000000<\/td>\n",
       "      <td>13.000000<\/td>\n",
       "      <td>1.977000e+03<\/td>\n",
       "      <td>0.075424<\/td>\n",
       "      <td>25.000000<\/td>\n",
       "      <td>5285.000000<\/td>\n",
       "      <td>2.000000<\/td>\n",
       "      <td>900.000000<\/td>\n",
       "      <td>1.000000<\/td>\n",
       "      <td>3.000000<\/td>\n",
       "      <td>192269.644879<\/td>\n",
       "    <\/tr>\n",
       "    <tr>\n",
       "      <th>75%<\/th>\n",
       "      <td>12592.50000<\/td>\n",
       "      <td>75.000000<\/td>\n",
       "      <td>2.000000<\/td>\n",
       "      <td>65.900625<\/td>\n",
       "      <td>41.427234<\/td>\n",
       "      <td>9.000000<\/td>\n",
       "      <td>12.000000<\/td>\n",
       "      <td>17.000000<\/td>\n",
       "      <td>2.001000e+03<\/td>\n",
       "      <td>0.195781<\/td>\n",
       "      <td>36.000000<\/td>\n",
       "      <td>7227.000000<\/td>\n",
       "      <td>5.000000<\/td>\n",
       "      <td>990.000000<\/td>\n",
       "      <td>2.000000<\/td>\n",
       "      <td>6.000000<\/td>\n",
       "      <td>249135.462171<\/td>\n",
       "    <\/tr>\n",
       "    <tr>\n",
       "      <th>max<\/th>\n",
       "      <td>16798.00000<\/td>\n",
       "      <td>209.000000<\/td>\n",
       "      <td>19.000000<\/td>\n",
       "      <td>641.065193<\/td>\n",
       "      <td>7480.592129<\/td>\n",
       "      <td>2014.000000<\/td>\n",
       "      <td>42.000000<\/td>\n",
       "      <td>117.000000<\/td>\n",
       "      <td>2.005201e+07<\/td>\n",
       "      <td>0.521867<\/td>\n",
       "      <td>74.000000<\/td>\n",
       "      <td>19083.000000<\/td>\n",
       "      <td>141.000000<\/td>\n",
       "      <td>4849.000000<\/td>\n",
       "      <td>6.000000<\/td>\n",
       "      <td>23.000000<\/td>\n",
       "      <td>633233.466570<\/td>\n",
       "    <\/tr>\n",
       "  <\/tbody>\n",
       "<\/table>\n",
       "<\/div>"
      ]
     },
     "metadata":{
      
     },
     "output_type":"display_data"
    }
   ],
   "metadata":{
    "datalore":{
     "node_id":"OiTBLk9y1nBhuAqbtXvFFb",
     "type":"CODE",
     "hide_input_from_viewers":false,
     "hide_output_from_viewers":false,
     "report_properties":{
      
     }
    }
   }
  },
  {
   "cell_type":"code",
   "source":[
    "test_edited.describe()"
   ],
   "execution_count":11,
   "outputs":[
    {
     "data":{
      "text\/html":[
       "<div>\n",
       "<style scoped>\n",
       "    .dataframe tbody tr th:only-of-type {\n",
       "        vertical-align: middle;\n",
       "    }\n",
       "\n",
       "    .dataframe tbody tr th {\n",
       "        vertical-align: top;\n",
       "    }\n",
       "\n",
       "    .dataframe thead th {\n",
       "        text-align: right;\n",
       "    }\n",
       "<\/style>\n",
       "<table border=\"1\" class=\"dataframe\">\n",
       "  <thead>\n",
       "    <tr style=\"text-align: right;\">\n",
       "      <th><\/th>\n",
       "      <th>Id<\/th>\n",
       "      <th>DistrictId<\/th>\n",
       "      <th>Rooms<\/th>\n",
       "      <th>Square<\/th>\n",
       "      <th>LifeSquare<\/th>\n",
       "      <th>KitchenSquare<\/th>\n",
       "      <th>Floor<\/th>\n",
       "      <th>HouseFloor<\/th>\n",
       "      <th>HouseYear<\/th>\n",
       "      <th>Ecology_1<\/th>\n",
       "      <th>Social_1<\/th>\n",
       "      <th>Social_2<\/th>\n",
       "      <th>Social_3<\/th>\n",
       "      <th>Healthcare_1<\/th>\n",
       "      <th>Healthcare_2<\/th>\n",
       "      <th>Shops_1<\/th>\n",
       "    <\/tr>\n",
       "  <\/thead>\n",
       "  <tbody>\n",
       "    <tr>\n",
       "      <th>count<\/th>\n",
       "      <td>5000.000000<\/td>\n",
       "      <td>5000.000000<\/td>\n",
       "      <td>5000.000000<\/td>\n",
       "      <td>5000.000000<\/td>\n",
       "      <td>5000.000000<\/td>\n",
       "      <td>5000.000000<\/td>\n",
       "      <td>5000.000000<\/td>\n",
       "      <td>5000.000000<\/td>\n",
       "      <td>5000.000000<\/td>\n",
       "      <td>5000.000000<\/td>\n",
       "      <td>5000.000000<\/td>\n",
       "      <td>5000.000000<\/td>\n",
       "      <td>5000.000000<\/td>\n",
       "      <td>5000.000000<\/td>\n",
       "      <td>5000.00000<\/td>\n",
       "      <td>5000.000000<\/td>\n",
       "    <\/tr>\n",
       "    <tr>\n",
       "      <th>mean<\/th>\n",
       "      <td>8412.595400<\/td>\n",
       "      <td>51.279200<\/td>\n",
       "      <td>1.910000<\/td>\n",
       "      <td>56.449500<\/td>\n",
       "      <td>35.485549<\/td>\n",
       "      <td>5.976800<\/td>\n",
       "      <td>8.632000<\/td>\n",
       "      <td>12.601000<\/td>\n",
       "      <td>1984.392600<\/td>\n",
       "      <td>0.119874<\/td>\n",
       "      <td>24.933800<\/td>\n",
       "      <td>5406.900000<\/td>\n",
       "      <td>8.262600<\/td>\n",
       "      <td>1029.396400<\/td>\n",
       "      <td>1.31940<\/td>\n",
       "      <td>4.242800<\/td>\n",
       "    <\/tr>\n",
       "    <tr>\n",
       "      <th>std<\/th>\n",
       "      <td>4832.674037<\/td>\n",
       "      <td>44.179466<\/td>\n",
       "      <td>0.838594<\/td>\n",
       "      <td>19.092787<\/td>\n",
       "      <td>15.915345<\/td>\n",
       "      <td>9.950018<\/td>\n",
       "      <td>5.483228<\/td>\n",
       "      <td>6.789213<\/td>\n",
       "      <td>18.573149<\/td>\n",
       "      <td>0.120070<\/td>\n",
       "      <td>17.532202<\/td>\n",
       "      <td>4026.614773<\/td>\n",
       "      <td>23.863762<\/td>\n",
       "      <td>766.595258<\/td>\n",
       "      <td>1.47994<\/td>\n",
       "      <td>4.777365<\/td>\n",
       "    <\/tr>\n",
       "    <tr>\n",
       "      <th>min<\/th>\n",
       "      <td>1.000000<\/td>\n",
       "      <td>0.000000<\/td>\n",
       "      <td>0.000000<\/td>\n",
       "      <td>1.378543<\/td>\n",
       "      <td>0.333490<\/td>\n",
       "      <td>0.000000<\/td>\n",
       "      <td>1.000000<\/td>\n",
       "      <td>0.000000<\/td>\n",
       "      <td>1908.000000<\/td>\n",
       "      <td>0.000000<\/td>\n",
       "      <td>0.000000<\/td>\n",
       "      <td>168.000000<\/td>\n",
       "      <td>0.000000<\/td>\n",
       "      <td>0.000000<\/td>\n",
       "      <td>0.00000<\/td>\n",
       "      <td>0.000000<\/td>\n",
       "    <\/tr>\n",
       "    <tr>\n",
       "      <th>25%<\/th>\n",
       "      <td>4221.750000<\/td>\n",
       "      <td>21.000000<\/td>\n",
       "      <td>1.000000<\/td>\n",
       "      <td>41.906231<\/td>\n",
       "      <td>25.850152<\/td>\n",
       "      <td>1.000000<\/td>\n",
       "      <td>4.000000<\/td>\n",
       "      <td>9.000000<\/td>\n",
       "      <td>1973.000000<\/td>\n",
       "      <td>0.019509<\/td>\n",
       "      <td>6.000000<\/td>\n",
       "      <td>1564.000000<\/td>\n",
       "      <td>0.000000<\/td>\n",
       "      <td>810.000000<\/td>\n",
       "      <td>0.00000<\/td>\n",
       "      <td>1.000000<\/td>\n",
       "    <\/tr>\n",
       "    <tr>\n",
       "      <th>50%<\/th>\n",
       "      <td>8320.500000<\/td>\n",
       "      <td>37.000000<\/td>\n",
       "      <td>2.000000<\/td>\n",
       "      <td>52.921340<\/td>\n",
       "      <td>32.925087<\/td>\n",
       "      <td>6.000000<\/td>\n",
       "      <td>7.000000<\/td>\n",
       "      <td>12.000000<\/td>\n",
       "      <td>1977.000000<\/td>\n",
       "      <td>0.072158<\/td>\n",
       "      <td>25.000000<\/td>\n",
       "      <td>5285.000000<\/td>\n",
       "      <td>2.000000<\/td>\n",
       "      <td>900.000000<\/td>\n",
       "      <td>1.00000<\/td>\n",
       "      <td>3.000000<\/td>\n",
       "    <\/tr>\n",
       "    <tr>\n",
       "      <th>75%<\/th>\n",
       "      <td>12598.250000<\/td>\n",
       "      <td>77.000000<\/td>\n",
       "      <td>2.000000<\/td>\n",
       "      <td>66.285129<\/td>\n",
       "      <td>41.769526<\/td>\n",
       "      <td>9.000000<\/td>\n",
       "      <td>12.000000<\/td>\n",
       "      <td>17.000000<\/td>\n",
       "      <td>2000.000000<\/td>\n",
       "      <td>0.195781<\/td>\n",
       "      <td>36.000000<\/td>\n",
       "      <td>7287.000000<\/td>\n",
       "      <td>5.000000<\/td>\n",
       "      <td>990.000000<\/td>\n",
       "      <td>2.00000<\/td>\n",
       "      <td>6.000000<\/td>\n",
       "    <\/tr>\n",
       "    <tr>\n",
       "      <th>max<\/th>\n",
       "      <td>16795.000000<\/td>\n",
       "      <td>212.000000<\/td>\n",
       "      <td>17.000000<\/td>\n",
       "      <td>223.453689<\/td>\n",
       "      <td>303.071094<\/td>\n",
       "      <td>620.000000<\/td>\n",
       "      <td>78.000000<\/td>\n",
       "      <td>99.000000<\/td>\n",
       "      <td>2020.000000<\/td>\n",
       "      <td>0.521867<\/td>\n",
       "      <td>74.000000<\/td>\n",
       "      <td>19083.000000<\/td>\n",
       "      <td>141.000000<\/td>\n",
       "      <td>4849.000000<\/td>\n",
       "      <td>6.00000<\/td>\n",
       "      <td>23.000000<\/td>\n",
       "    <\/tr>\n",
       "  <\/tbody>\n",
       "<\/table>\n",
       "<\/div>"
      ]
     },
     "metadata":{
      
     },
     "output_type":"display_data"
    }
   ],
   "metadata":{
    "datalore":{
     "node_id":"NRcfQn0ZCSFVyj6WDqFAsu",
     "type":"CODE",
     "hide_input_from_viewers":false,
     "hide_output_from_viewers":false,
     "report_properties":{
      
     }
    }
   }
  },
  {
   "cell_type":"markdown",
   "source":[
    "6. Заметим, что минимальное значение признака Количество комнат - ноль. Выведем на экран эти строки. В них нулевые значения только в столбце Rooms, поэтому можно считать, что в целом строки имеют значение в обучении"
   ],
   "attachments":{
    
   },
   "metadata":{
    "datalore":{
     "node_id":"0IqLnxR88FtvWPhozamj5E",
     "type":"MD",
     "hide_input_from_viewers":true,
     "hide_output_from_viewers":true
    }
   }
  },
  {
   "cell_type":"code",
   "source":[
    "train_edited[train_edited.Rooms == 0]"
   ],
   "execution_count":12,
   "outputs":[
    {
     "data":{
      "text\/html":[
       "<div>\n",
       "<style scoped>\n",
       "    .dataframe tbody tr th:only-of-type {\n",
       "        vertical-align: middle;\n",
       "    }\n",
       "\n",
       "    .dataframe tbody tr th {\n",
       "        vertical-align: top;\n",
       "    }\n",
       "\n",
       "    .dataframe thead th {\n",
       "        text-align: right;\n",
       "    }\n",
       "<\/style>\n",
       "<table border=\"1\" class=\"dataframe\">\n",
       "  <thead>\n",
       "    <tr style=\"text-align: right;\">\n",
       "      <th><\/th>\n",
       "      <th>Id<\/th>\n",
       "      <th>DistrictId<\/th>\n",
       "      <th>Rooms<\/th>\n",
       "      <th>Square<\/th>\n",
       "      <th>LifeSquare<\/th>\n",
       "      <th>KitchenSquare<\/th>\n",
       "      <th>Floor<\/th>\n",
       "      <th>HouseFloor<\/th>\n",
       "      <th>HouseYear<\/th>\n",
       "      <th>Ecology_1<\/th>\n",
       "      <th>Ecology_2<\/th>\n",
       "      <th>Ecology_3<\/th>\n",
       "      <th>Social_1<\/th>\n",
       "      <th>Social_2<\/th>\n",
       "      <th>Social_3<\/th>\n",
       "      <th>Healthcare_1<\/th>\n",
       "      <th>Healthcare_2<\/th>\n",
       "      <th>Shops_1<\/th>\n",
       "      <th>Shops_2<\/th>\n",
       "      <th>Price<\/th>\n",
       "    <\/tr>\n",
       "  <\/thead>\n",
       "  <tbody>\n",
       "    <tr>\n",
       "      <th>1397<\/th>\n",
       "      <td>12638<\/td>\n",
       "      <td>27<\/td>\n",
       "      <td>0.0<\/td>\n",
       "      <td>138.427694<\/td>\n",
       "      <td>136.215499<\/td>\n",
       "      <td>0.0<\/td>\n",
       "      <td>4<\/td>\n",
       "      <td>3.0<\/td>\n",
       "      <td>2016<\/td>\n",
       "      <td>0.075424<\/td>\n",
       "      <td>B<\/td>\n",
       "      <td>B<\/td>\n",
       "      <td>11<\/td>\n",
       "      <td>3097<\/td>\n",
       "      <td>0<\/td>\n",
       "      <td>900.0<\/td>\n",
       "      <td>0<\/td>\n",
       "      <td>0<\/td>\n",
       "      <td>B<\/td>\n",
       "      <td>268394.744389<\/td>\n",
       "    <\/tr>\n",
       "    <tr>\n",
       "      <th>1981<\/th>\n",
       "      <td>7917<\/td>\n",
       "      <td>27<\/td>\n",
       "      <td>0.0<\/td>\n",
       "      <td>212.932361<\/td>\n",
       "      <td>211.231125<\/td>\n",
       "      <td>0.0<\/td>\n",
       "      <td>2<\/td>\n",
       "      <td>3.0<\/td>\n",
       "      <td>2008<\/td>\n",
       "      <td>0.211401<\/td>\n",
       "      <td>B<\/td>\n",
       "      <td>B<\/td>\n",
       "      <td>9<\/td>\n",
       "      <td>1892<\/td>\n",
       "      <td>0<\/td>\n",
       "      <td>900.0<\/td>\n",
       "      <td>0<\/td>\n",
       "      <td>1<\/td>\n",
       "      <td>B<\/td>\n",
       "      <td>302211.260887<\/td>\n",
       "    <\/tr>\n",
       "    <tr>\n",
       "      <th>2269<\/th>\n",
       "      <td>7317<\/td>\n",
       "      <td>27<\/td>\n",
       "      <td>0.0<\/td>\n",
       "      <td>41.790881<\/td>\n",
       "      <td>32.781260<\/td>\n",
       "      <td>0.0<\/td>\n",
       "      <td>13<\/td>\n",
       "      <td>0.0<\/td>\n",
       "      <td>1977<\/td>\n",
       "      <td>0.211401<\/td>\n",
       "      <td>B<\/td>\n",
       "      <td>B<\/td>\n",
       "      <td>9<\/td>\n",
       "      <td>1892<\/td>\n",
       "      <td>0<\/td>\n",
       "      <td>900.0<\/td>\n",
       "      <td>0<\/td>\n",
       "      <td>1<\/td>\n",
       "      <td>B<\/td>\n",
       "      <td>98129.976788<\/td>\n",
       "    <\/tr>\n",
       "    <tr>\n",
       "      <th>3911<\/th>\n",
       "      <td>770<\/td>\n",
       "      <td>28<\/td>\n",
       "      <td>0.0<\/td>\n",
       "      <td>49.483501<\/td>\n",
       "      <td>32.781260<\/td>\n",
       "      <td>0.0<\/td>\n",
       "      <td>16<\/td>\n",
       "      <td>0.0<\/td>\n",
       "      <td>2015<\/td>\n",
       "      <td>0.118537<\/td>\n",
       "      <td>B<\/td>\n",
       "      <td>B<\/td>\n",
       "      <td>30<\/td>\n",
       "      <td>6207<\/td>\n",
       "      <td>1<\/td>\n",
       "      <td>1183.0<\/td>\n",
       "      <td>1<\/td>\n",
       "      <td>0<\/td>\n",
       "      <td>B<\/td>\n",
       "      <td>217009.338463<\/td>\n",
       "    <\/tr>\n",
       "    <tr>\n",
       "      <th>4366<\/th>\n",
       "      <td>456<\/td>\n",
       "      <td>6<\/td>\n",
       "      <td>0.0<\/td>\n",
       "      <td>81.491446<\/td>\n",
       "      <td>32.781260<\/td>\n",
       "      <td>0.0<\/td>\n",
       "      <td>4<\/td>\n",
       "      <td>0.0<\/td>\n",
       "      <td>1977<\/td>\n",
       "      <td>0.243205<\/td>\n",
       "      <td>B<\/td>\n",
       "      <td>B<\/td>\n",
       "      <td>5<\/td>\n",
       "      <td>1564<\/td>\n",
       "      <td>0<\/td>\n",
       "      <td>540.0<\/td>\n",
       "      <td>0<\/td>\n",
       "      <td>0<\/td>\n",
       "      <td>B<\/td>\n",
       "      <td>212864.799112<\/td>\n",
       "    <\/tr>\n",
       "    <tr>\n",
       "      <th>4853<\/th>\n",
       "      <td>3224<\/td>\n",
       "      <td>27<\/td>\n",
       "      <td>0.0<\/td>\n",
       "      <td>2.377248<\/td>\n",
       "      <td>0.873147<\/td>\n",
       "      <td>0.0<\/td>\n",
       "      <td>1<\/td>\n",
       "      <td>0.0<\/td>\n",
       "      <td>1977<\/td>\n",
       "      <td>0.017647<\/td>\n",
       "      <td>B<\/td>\n",
       "      <td>B<\/td>\n",
       "      <td>2<\/td>\n",
       "      <td>469<\/td>\n",
       "      <td>0<\/td>\n",
       "      <td>900.0<\/td>\n",
       "      <td>0<\/td>\n",
       "      <td>0<\/td>\n",
       "      <td>B<\/td>\n",
       "      <td>126596.941798<\/td>\n",
       "    <\/tr>\n",
       "    <tr>\n",
       "      <th>6149<\/th>\n",
       "      <td>3159<\/td>\n",
       "      <td>88<\/td>\n",
       "      <td>0.0<\/td>\n",
       "      <td>38.697117<\/td>\n",
       "      <td>19.345131<\/td>\n",
       "      <td>9.0<\/td>\n",
       "      <td>9<\/td>\n",
       "      <td>16.0<\/td>\n",
       "      <td>1982<\/td>\n",
       "      <td>0.127376<\/td>\n",
       "      <td>B<\/td>\n",
       "      <td>B<\/td>\n",
       "      <td>43<\/td>\n",
       "      <td>8429<\/td>\n",
       "      <td>3<\/td>\n",
       "      <td>900.0<\/td>\n",
       "      <td>3<\/td>\n",
       "      <td>9<\/td>\n",
       "      <td>B<\/td>\n",
       "      <td>158998.110646<\/td>\n",
       "    <\/tr>\n",
       "    <tr>\n",
       "      <th>8834<\/th>\n",
       "      <td>9443<\/td>\n",
       "      <td>27<\/td>\n",
       "      <td>0.0<\/td>\n",
       "      <td>87.762616<\/td>\n",
       "      <td>85.125471<\/td>\n",
       "      <td>0.0<\/td>\n",
       "      <td>5<\/td>\n",
       "      <td>15.0<\/td>\n",
       "      <td>1977<\/td>\n",
       "      <td>0.211401<\/td>\n",
       "      <td>B<\/td>\n",
       "      <td>B<\/td>\n",
       "      <td>9<\/td>\n",
       "      <td>1892<\/td>\n",
       "      <td>0<\/td>\n",
       "      <td>900.0<\/td>\n",
       "      <td>0<\/td>\n",
       "      <td>1<\/td>\n",
       "      <td>B<\/td>\n",
       "      <td>219281.918007<\/td>\n",
       "    <\/tr>\n",
       "  <\/tbody>\n",
       "<\/table>\n",
       "<\/div>"
      ]
     },
     "metadata":{
      
     },
     "output_type":"display_data"
    }
   ],
   "metadata":{
    "datalore":{
     "node_id":"DvEsFuZqDSqoJuwbVZuO7k",
     "type":"CODE",
     "hide_input_from_viewers":false,
     "hide_output_from_viewers":false,
     "report_properties":{
      
     }
    }
   }
  },
  {
   "cell_type":"markdown",
   "source":[
    "7. Попробуем посчитать количество нулевых значений в зависимости от столбца и заполним их медианным значением"
   ],
   "attachments":{
    
   },
   "metadata":{
    "datalore":{
     "node_id":"Gh1IQjACWIghQBTvneEACA",
     "type":"MD",
     "hide_input_from_viewers":true,
     "hide_output_from_viewers":true
    }
   }
  },
  {
   "cell_type":"code",
   "source":[
    "def count_zeros(data):\n",
    "    zeros_dict = dict()\n",
    "    for label, content in data.items():\n",
    "        count = data[data[label] == 0][label].count()\n",
    "        zeros_dict[label] = count \/ data.shape[0] * 100\n",
    "    return zeros_dict\n",
    "\n",
    "def fill_zeros(data):\n",
    "    for label, content in data.items():\n",
    "        if pd.api.types.is_numeric_dtype(content) and label in ['Rooms', 'LifeSquare', 'KitchenSquare', 'Floor', 'HouseFloor', 'HouseYear']:\n",
    "            data[label] = content.replace(0, content.median())\n",
    "    for i in data.index:\n",
    "        if data.iloc[i].Square == 0:\n",
    "            data.iloc[i].Square = data.iloc[i].LifeSquare + data.iloc[i].KitchenSquare"
   ],
   "execution_count":13,
   "outputs":[
    
   ],
   "metadata":{
    "datalore":{
     "node_id":"HNSan2Dqk70mliREY9St1m",
     "type":"CODE",
     "hide_input_from_viewers":false,
     "hide_output_from_viewers":false,
     "report_properties":{
      
     }
    }
   }
  },
  {
   "cell_type":"code",
   "source":[
    "train_zeros = count_zeros(train_edited)\n",
    "test_zeros = count_zeros(test_edited)\n",
    "\n",
    "labels = train_zeros.keys()\n",
    "x_labels = np.arange(len(labels)-1)\n",
    "\n",
    "fig, ax = plt.subplots(figsize=(21, 7))\n",
    "train_ax = ax.bar(x_labels - 0.25, list(train_zeros.values())[:-1], width=0.4, label='train')\n",
    "test_ax = ax.bar(x_labels + 0.25, test_zeros.values(), width=0.4, label='test')\n",
    "\n",
    "ax.set_ylim(0, 100)\n",
    "ax.set_xticks(x_labels, list(labels)[:-1])\n",
    "\n",
    "ax.bar_label(train_ax)\n",
    "ax.bar_label(test_ax)\n",
    "\n",
    "ax.legend()\n",
    "\n",
    "plt.show()"
   ],
   "execution_count":14,
   "outputs":[
    {
     "data":{
      "image\/png":"[encoded data removed]"
     },
     "metadata":{
      "image\/png":{
       
      }
     },
     "output_type":"display_data"
    }
   ],
   "metadata":{
    "datalore":{
     "node_id":"P0AcI4CwbtsUkeGWgI2WA3",
     "type":"CODE",
     "hide_input_from_viewers":false,
     "hide_output_from_viewers":false,
     "report_properties":{
      
     }
    }
   }
  },
  {
   "cell_type":"code",
   "source":[
    "train_edited = train_edited.drop(['Healthcare_2'], axis=1) if 'Healthcare_2' in train_edited.columns else train_edited\n",
    "fill_zeros(train_edited)\n",
    "test_edited = test_edited.drop(['Healthcare_2'], axis=1) if 'Healthcare_2' in test_edited.columns else test_edited\n",
    "fill_zeros(test_edited)"
   ],
   "execution_count":15,
   "outputs":[
    
   ],
   "metadata":{
    "datalore":{
     "node_id":"cghkBOJgHelxGxfnvkGfsC",
     "type":"CODE",
     "hide_input_from_viewers":false,
     "hide_output_from_viewers":false,
     "report_properties":{
      
     }
    }
   }
  },
  {
   "cell_type":"code",
   "source":[
    "train_zeros = count_zeros(train_edited)\n",
    "test_zeros = count_zeros(test_edited)\n",
    "\n",
    "labels = train_zeros.keys()\n",
    "x_labels = np.arange(len(labels)-1)\n",
    "\n",
    "fig, ax = plt.subplots(figsize=(21, 7))\n",
    "train_ax = ax.bar(x_labels - 0.25, list(train_zeros.values())[:-1], width=0.4, label='train')\n",
    "test_ax = ax.bar(x_labels + 0.25, test_zeros.values(), width=0.4, label='test')\n",
    "\n",
    "ax.set_ylim(0, 100)\n",
    "ax.set_xticks(x_labels, list(labels)[:-1])\n",
    "\n",
    "ax.bar_label(train_ax)\n",
    "ax.bar_label(test_ax)\n",
    "\n",
    "ax.legend()\n",
    "\n",
    "plt.show()"
   ],
   "execution_count":16,
   "outputs":[
    {
     "data":{
      "image\/png":"[encoded data removed]"
     },
     "metadata":{
      "image\/png":{
       
      }
     },
     "output_type":"display_data"
    }
   ],
   "metadata":{
    "datalore":{
     "node_id":"0q03AqkHXM2ppANg9jBzHP",
     "type":"CODE",
     "hide_input_from_viewers":false,
     "hide_output_from_viewers":false,
     "report_properties":{
      
     }
    }
   }
  },
  {
   "cell_type":"markdown",
   "source":[
    "8. Рассмотрим данные типа object и заменим их на целочисленный тип"
   ],
   "attachments":{
    
   },
   "metadata":{
    "datalore":{
     "node_id":"mevvOFF3kTvYztU96qOVfU",
     "type":"MD",
     "hide_input_from_viewers":true,
     "hide_output_from_viewers":true
    }
   }
  },
  {
   "cell_type":"code",
   "source":[
    "train_edited.describe(include='object')"
   ],
   "execution_count":17,
   "outputs":[
    {
     "data":{
      "text\/html":[
       "<div>\n",
       "<style scoped>\n",
       "    .dataframe tbody tr th:only-of-type {\n",
       "        vertical-align: middle;\n",
       "    }\n",
       "\n",
       "    .dataframe tbody tr th {\n",
       "        vertical-align: top;\n",
       "    }\n",
       "\n",
       "    .dataframe thead th {\n",
       "        text-align: right;\n",
       "    }\n",
       "<\/style>\n",
       "<table border=\"1\" class=\"dataframe\">\n",
       "  <thead>\n",
       "    <tr style=\"text-align: right;\">\n",
       "      <th><\/th>\n",
       "      <th>Ecology_2<\/th>\n",
       "      <th>Ecology_3<\/th>\n",
       "      <th>Shops_2<\/th>\n",
       "    <\/tr>\n",
       "  <\/thead>\n",
       "  <tbody>\n",
       "    <tr>\n",
       "      <th>count<\/th>\n",
       "      <td>10000<\/td>\n",
       "      <td>10000<\/td>\n",
       "      <td>10000<\/td>\n",
       "    <\/tr>\n",
       "    <tr>\n",
       "      <th>unique<\/th>\n",
       "      <td>2<\/td>\n",
       "      <td>2<\/td>\n",
       "      <td>2<\/td>\n",
       "    <\/tr>\n",
       "    <tr>\n",
       "      <th>top<\/th>\n",
       "      <td>B<\/td>\n",
       "      <td>B<\/td>\n",
       "      <td>B<\/td>\n",
       "    <\/tr>\n",
       "    <tr>\n",
       "      <th>freq<\/th>\n",
       "      <td>9903<\/td>\n",
       "      <td>9725<\/td>\n",
       "      <td>9175<\/td>\n",
       "    <\/tr>\n",
       "  <\/tbody>\n",
       "<\/table>\n",
       "<\/div>"
      ]
     },
     "metadata":{
      
     },
     "output_type":"display_data"
    }
   ],
   "metadata":{
    "datalore":{
     "node_id":"RCui584VPsNR30ajoW7Bcx",
     "type":"CODE",
     "hide_input_from_viewers":false,
     "hide_output_from_viewers":false,
     "report_properties":{
      
     }
    }
   }
  },
  {
   "cell_type":"code",
   "source":[
    "test_edited.describe(include='object')"
   ],
   "execution_count":18,
   "outputs":[
    {
     "data":{
      "text\/html":[
       "<div>\n",
       "<style scoped>\n",
       "    .dataframe tbody tr th:only-of-type {\n",
       "        vertical-align: middle;\n",
       "    }\n",
       "\n",
       "    .dataframe tbody tr th {\n",
       "        vertical-align: top;\n",
       "    }\n",
       "\n",
       "    .dataframe thead th {\n",
       "        text-align: right;\n",
       "    }\n",
       "<\/style>\n",
       "<table border=\"1\" class=\"dataframe\">\n",
       "  <thead>\n",
       "    <tr style=\"text-align: right;\">\n",
       "      <th><\/th>\n",
       "      <th>Ecology_2<\/th>\n",
       "      <th>Ecology_3<\/th>\n",
       "      <th>Shops_2<\/th>\n",
       "    <\/tr>\n",
       "  <\/thead>\n",
       "  <tbody>\n",
       "    <tr>\n",
       "      <th>count<\/th>\n",
       "      <td>5000<\/td>\n",
       "      <td>5000<\/td>\n",
       "      <td>5000<\/td>\n",
       "    <\/tr>\n",
       "    <tr>\n",
       "      <th>unique<\/th>\n",
       "      <td>2<\/td>\n",
       "      <td>2<\/td>\n",
       "      <td>2<\/td>\n",
       "    <\/tr>\n",
       "    <tr>\n",
       "      <th>top<\/th>\n",
       "      <td>B<\/td>\n",
       "      <td>B<\/td>\n",
       "      <td>B<\/td>\n",
       "    <\/tr>\n",
       "    <tr>\n",
       "      <th>freq<\/th>\n",
       "      <td>4952<\/td>\n",
       "      <td>4851<\/td>\n",
       "      <td>4588<\/td>\n",
       "    <\/tr>\n",
       "  <\/tbody>\n",
       "<\/table>\n",
       "<\/div>"
      ]
     },
     "metadata":{
      
     },
     "output_type":"display_data"
    }
   ],
   "metadata":{
    "datalore":{
     "node_id":"h0nvhjFs9Rj1lcXMe5zQah",
     "type":"CODE",
     "hide_input_from_viewers":false,
     "hide_output_from_viewers":false,
     "report_properties":{
      
     }
    }
   }
  },
  {
   "cell_type":"code",
   "source":[
    "def replace_object_values(data):\n",
    "    for label, content in data.items():\n",
    "        if pd.api.types.is_object_dtype(content):\n",
    "            unique_values = list(content.unique())\n",
    "            for value in unique_values:\n",
    "                content = content.replace(value, unique_values.index(value))\n",
    "            data[label] = content\n",
    "\n",
    "replace_object_values(train_edited)\n",
    "replace_object_values(test_edited)"
   ],
   "execution_count":19,
   "outputs":[
    
   ],
   "metadata":{
    "datalore":{
     "node_id":"y9HEENbpqQaklTibIDZgGf",
     "type":"CODE",
     "hide_input_from_viewers":false,
     "hide_output_from_viewers":false,
     "report_properties":{
      
     }
    }
   }
  },
  {
   "cell_type":"markdown",
   "source":[
    "9. Рассчитаем корреляцию признаков и удалим сильно коррелирующие"
   ],
   "attachments":{
    
   },
   "metadata":{
    "datalore":{
     "node_id":"Cb78pBUFpebwzhhEjw03RZ",
     "type":"MD",
     "hide_input_from_viewers":true,
     "hide_output_from_viewers":true
    }
   }
  },
  {
   "cell_type":"code",
   "source":[
    "train_edited.corr()"
   ],
   "execution_count":20,
   "outputs":[
    {
     "data":{
      "text\/html":[
       "<div>\n",
       "<style scoped>\n",
       "    .dataframe tbody tr th:only-of-type {\n",
       "        vertical-align: middle;\n",
       "    }\n",
       "\n",
       "    .dataframe tbody tr th {\n",
       "        vertical-align: top;\n",
       "    }\n",
       "\n",
       "    .dataframe thead th {\n",
       "        text-align: right;\n",
       "    }\n",
       "<\/style>\n",
       "<table border=\"1\" class=\"dataframe\">\n",
       "  <thead>\n",
       "    <tr style=\"text-align: right;\">\n",
       "      <th><\/th>\n",
       "      <th>Id<\/th>\n",
       "      <th>DistrictId<\/th>\n",
       "      <th>Rooms<\/th>\n",
       "      <th>Square<\/th>\n",
       "      <th>LifeSquare<\/th>\n",
       "      <th>KitchenSquare<\/th>\n",
       "      <th>Floor<\/th>\n",
       "      <th>HouseFloor<\/th>\n",
       "      <th>HouseYear<\/th>\n",
       "      <th>Ecology_1<\/th>\n",
       "      <th>Ecology_2<\/th>\n",
       "      <th>Ecology_3<\/th>\n",
       "      <th>Social_1<\/th>\n",
       "      <th>Social_2<\/th>\n",
       "      <th>Social_3<\/th>\n",
       "      <th>Healthcare_1<\/th>\n",
       "      <th>Shops_1<\/th>\n",
       "      <th>Shops_2<\/th>\n",
       "      <th>Price<\/th>\n",
       "    <\/tr>\n",
       "  <\/thead>\n",
       "  <tbody>\n",
       "    <tr>\n",
       "      <th>Id<\/th>\n",
       "      <td>1.000000<\/td>\n",
       "      <td>0.012973<\/td>\n",
       "      <td>-0.006947<\/td>\n",
       "      <td>-0.010071<\/td>\n",
       "      <td>0.016718<\/td>\n",
       "      <td>0.019223<\/td>\n",
       "      <td>0.001348<\/td>\n",
       "      <td>-0.012545<\/td>\n",
       "      <td>0.005004<\/td>\n",
       "      <td>0.018097<\/td>\n",
       "      <td>-0.003099<\/td>\n",
       "      <td>0.005408<\/td>\n",
       "      <td>-0.000772<\/td>\n",
       "      <td>-0.002033<\/td>\n",
       "      <td>-0.009358<\/td>\n",
       "      <td>-0.002851<\/td>\n",
       "      <td>-0.008718<\/td>\n",
       "      <td>-0.003645<\/td>\n",
       "      <td>0.009880<\/td>\n",
       "    <\/tr>\n",
       "    <tr>\n",
       "      <th>DistrictId<\/th>\n",
       "      <td>0.012973<\/td>\n",
       "      <td>1.000000<\/td>\n",
       "      <td>0.070776<\/td>\n",
       "      <td>-0.026613<\/td>\n",
       "      <td>-0.011847<\/td>\n",
       "      <td>0.033648<\/td>\n",
       "      <td>-0.120373<\/td>\n",
       "      <td>-0.171518<\/td>\n",
       "      <td>0.013430<\/td>\n",
       "      <td>0.065294<\/td>\n",
       "      <td>0.093406<\/td>\n",
       "      <td>0.027902<\/td>\n",
       "      <td>0.246463<\/td>\n",
       "      <td>0.167479<\/td>\n",
       "      <td>0.136095<\/td>\n",
       "      <td>0.265185<\/td>\n",
       "      <td>0.174214<\/td>\n",
       "      <td>0.021018<\/td>\n",
       "      <td>0.265100<\/td>\n",
       "    <\/tr>\n",
       "    <tr>\n",
       "      <th>Rooms<\/th>\n",
       "      <td>-0.006947<\/td>\n",
       "      <td>0.070776<\/td>\n",
       "      <td>1.000000<\/td>\n",
       "      <td>0.666533<\/td>\n",
       "      <td>0.121588<\/td>\n",
       "      <td>0.003195<\/td>\n",
       "      <td>-0.001314<\/td>\n",
       "      <td>-0.036850<\/td>\n",
       "      <td>-0.010652<\/td>\n",
       "      <td>-0.031880<\/td>\n",
       "      <td>0.001786<\/td>\n",
       "      <td>0.005600<\/td>\n",
       "      <td>0.075052<\/td>\n",
       "      <td>0.070445<\/td>\n",
       "      <td>0.012233<\/td>\n",
       "      <td>0.036011<\/td>\n",
       "      <td>0.052642<\/td>\n",
       "      <td>-0.000426<\/td>\n",
       "      <td>0.551126<\/td>\n",
       "    <\/tr>\n",
       "    <tr>\n",
       "      <th>Square<\/th>\n",
       "      <td>-0.010071<\/td>\n",
       "      <td>-0.026613<\/td>\n",
       "      <td>0.666533<\/td>\n",
       "      <td>1.000000<\/td>\n",
       "      <td>0.166509<\/td>\n",
       "      <td>0.010994<\/td>\n",
       "      <td>0.114791<\/td>\n",
       "      <td>0.104173<\/td>\n",
       "      <td>-0.009032<\/td>\n",
       "      <td>-0.064479<\/td>\n",
       "      <td>-0.029926<\/td>\n",
       "      <td>-0.022748<\/td>\n",
       "      <td>-0.070690<\/td>\n",
       "      <td>-0.043120<\/td>\n",
       "      <td>0.035241<\/td>\n",
       "      <td>-0.034853<\/td>\n",
       "      <td>0.021357<\/td>\n",
       "      <td>0.049380<\/td>\n",
       "      <td>0.520075<\/td>\n",
       "    <\/tr>\n",
       "    <tr>\n",
       "      <th>LifeSquare<\/th>\n",
       "      <td>0.016718<\/td>\n",
       "      <td>-0.011847<\/td>\n",
       "      <td>0.121588<\/td>\n",
       "      <td>0.166509<\/td>\n",
       "      <td>1.000000<\/td>\n",
       "      <td>0.001521<\/td>\n",
       "      <td>0.017942<\/td>\n",
       "      <td>0.021550<\/td>\n",
       "      <td>-0.002087<\/td>\n",
       "      <td>-0.019765<\/td>\n",
       "      <td>-0.005733<\/td>\n",
       "      <td>-0.006513<\/td>\n",
       "      <td>-0.030938<\/td>\n",
       "      <td>-0.025559<\/td>\n",
       "      <td>0.007896<\/td>\n",
       "      <td>-0.006226<\/td>\n",
       "      <td>-0.003355<\/td>\n",
       "      <td>0.001697<\/td>\n",
       "      <td>0.078331<\/td>\n",
       "    <\/tr>\n",
       "    <tr>\n",
       "      <th>KitchenSquare<\/th>\n",
       "      <td>0.019223<\/td>\n",
       "      <td>0.033648<\/td>\n",
       "      <td>0.003195<\/td>\n",
       "      <td>0.010994<\/td>\n",
       "      <td>0.001521<\/td>\n",
       "      <td>1.000000<\/td>\n",
       "      <td>-0.008900<\/td>\n",
       "      <td>-0.006194<\/td>\n",
       "      <td>0.000813<\/td>\n",
       "      <td>-0.005851<\/td>\n",
       "      <td>-0.001506<\/td>\n",
       "      <td>0.005466<\/td>\n",
       "      <td>0.030714<\/td>\n",
       "      <td>0.026523<\/td>\n",
       "      <td>-0.017840<\/td>\n",
       "      <td>0.005619<\/td>\n",
       "      <td>0.003248<\/td>\n",
       "      <td>0.023657<\/td>\n",
       "      <td>0.023729<\/td>\n",
       "    <\/tr>\n",
       "    <tr>\n",
       "      <th>Floor<\/th>\n",
       "      <td>0.001348<\/td>\n",
       "      <td>-0.120373<\/td>\n",
       "      <td>-0.001314<\/td>\n",
       "      <td>0.114791<\/td>\n",
       "      <td>0.017942<\/td>\n",
       "      <td>-0.008900<\/td>\n",
       "      <td>1.000000<\/td>\n",
       "      <td>0.445779<\/td>\n",
       "      <td>0.000928<\/td>\n",
       "      <td>-0.016133<\/td>\n",
       "      <td>-0.049661<\/td>\n",
       "      <td>-0.025767<\/td>\n",
       "      <td>-0.044914<\/td>\n",
       "      <td>-0.016560<\/td>\n",
       "      <td>-0.002237<\/td>\n",
       "      <td>-0.106125<\/td>\n",
       "      <td>0.024264<\/td>\n",
       "      <td>0.013626<\/td>\n",
       "      <td>0.128715<\/td>\n",
       "    <\/tr>\n",
       "    <tr>\n",
       "      <th>HouseFloor<\/th>\n",
       "      <td>-0.012545<\/td>\n",
       "      <td>-0.171518<\/td>\n",
       "      <td>-0.036850<\/td>\n",
       "      <td>0.104173<\/td>\n",
       "      <td>0.021550<\/td>\n",
       "      <td>-0.006194<\/td>\n",
       "      <td>0.445779<\/td>\n",
       "      <td>1.000000<\/td>\n",
       "      <td>-0.001453<\/td>\n",
       "      <td>-0.019938<\/td>\n",
       "      <td>-0.067781<\/td>\n",
       "      <td>-0.018863<\/td>\n",
       "      <td>-0.068701<\/td>\n",
       "      <td>-0.034052<\/td>\n",
       "      <td>-0.017172<\/td>\n",
       "      <td>-0.117241<\/td>\n",
       "      <td>0.000926<\/td>\n",
       "      <td>-0.001707<\/td>\n",
       "      <td>0.087143<\/td>\n",
       "    <\/tr>\n",
       "    <tr>\n",
       "      <th>HouseYear<\/th>\n",
       "      <td>0.005004<\/td>\n",
       "      <td>0.013430<\/td>\n",
       "      <td>-0.010652<\/td>\n",
       "      <td>-0.009032<\/td>\n",
       "      <td>-0.002087<\/td>\n",
       "      <td>0.000813<\/td>\n",
       "      <td>0.000928<\/td>\n",
       "      <td>-0.001453<\/td>\n",
       "      <td>1.000000<\/td>\n",
       "      <td>0.001465<\/td>\n",
       "      <td>-0.000997<\/td>\n",
       "      <td>-0.001686<\/td>\n",
       "      <td>0.003026<\/td>\n",
       "      <td>0.001970<\/td>\n",
       "      <td>0.000819<\/td>\n",
       "      <td>-0.010250<\/td>\n",
       "      <td>0.003681<\/td>\n",
       "      <td>-0.002994<\/td>\n",
       "      <td>0.004305<\/td>\n",
       "    <\/tr>\n",
       "    <tr>\n",
       "      <th>Ecology_1<\/th>\n",
       "      <td>0.018097<\/td>\n",
       "      <td>0.065294<\/td>\n",
       "      <td>-0.031880<\/td>\n",
       "      <td>-0.064479<\/td>\n",
       "      <td>-0.019765<\/td>\n",
       "      <td>-0.005851<\/td>\n",
       "      <td>-0.016133<\/td>\n",
       "      <td>-0.019938<\/td>\n",
       "      <td>0.001465<\/td>\n",
       "      <td>1.000000<\/td>\n",
       "      <td>0.110725<\/td>\n",
       "      <td>0.223197<\/td>\n",
       "      <td>0.026464<\/td>\n",
       "      <td>0.009264<\/td>\n",
       "      <td>-0.124068<\/td>\n",
       "      <td>0.004375<\/td>\n",
       "      <td>-0.076749<\/td>\n",
       "      <td>-0.079809<\/td>\n",
       "      <td>-0.058381<\/td>\n",
       "    <\/tr>\n",
       "    <tr>\n",
       "      <th>Ecology_2<\/th>\n",
       "      <td>-0.003099<\/td>\n",
       "      <td>0.093406<\/td>\n",
       "      <td>0.001786<\/td>\n",
       "      <td>-0.029926<\/td>\n",
       "      <td>-0.005733<\/td>\n",
       "      <td>-0.001506<\/td>\n",
       "      <td>-0.049661<\/td>\n",
       "      <td>-0.067781<\/td>\n",
       "      <td>-0.000997<\/td>\n",
       "      <td>0.110725<\/td>\n",
       "      <td>1.000000<\/td>\n",
       "      <td>-0.016643<\/td>\n",
       "      <td>0.066017<\/td>\n",
       "      <td>0.012709<\/td>\n",
       "      <td>-0.008512<\/td>\n",
       "      <td>0.046609<\/td>\n",
       "      <td>-0.051892<\/td>\n",
       "      <td>0.022242<\/td>\n",
       "      <td>-0.022379<\/td>\n",
       "    <\/tr>\n",
       "    <tr>\n",
       "      <th>Ecology_3<\/th>\n",
       "      <td>0.005408<\/td>\n",
       "      <td>0.027902<\/td>\n",
       "      <td>0.005600<\/td>\n",
       "      <td>-0.022748<\/td>\n",
       "      <td>-0.006513<\/td>\n",
       "      <td>0.005466<\/td>\n",
       "      <td>-0.025767<\/td>\n",
       "      <td>-0.018863<\/td>\n",
       "      <td>-0.001686<\/td>\n",
       "      <td>0.223197<\/td>\n",
       "      <td>-0.016643<\/td>\n",
       "      <td>1.000000<\/td>\n",
       "      <td>0.037777<\/td>\n",
       "      <td>-0.007394<\/td>\n",
       "      <td>-0.014595<\/td>\n",
       "      <td>0.137952<\/td>\n",
       "      <td>-0.001859<\/td>\n",
       "      <td>-0.050425<\/td>\n",
       "      <td>0.052585<\/td>\n",
       "    <\/tr>\n",
       "    <tr>\n",
       "      <th>Social_1<\/th>\n",
       "      <td>-0.000772<\/td>\n",
       "      <td>0.246463<\/td>\n",
       "      <td>0.075052<\/td>\n",
       "      <td>-0.070690<\/td>\n",
       "      <td>-0.030938<\/td>\n",
       "      <td>0.030714<\/td>\n",
       "      <td>-0.044914<\/td>\n",
       "      <td>-0.068701<\/td>\n",
       "      <td>0.003026<\/td>\n",
       "      <td>0.026464<\/td>\n",
       "      <td>0.066017<\/td>\n",
       "      <td>0.037777<\/td>\n",
       "      <td>1.000000<\/td>\n",
       "      <td>0.955988<\/td>\n",
       "      <td>0.023721<\/td>\n",
       "      <td>0.075903<\/td>\n",
       "      <td>0.526272<\/td>\n",
       "      <td>-0.144644<\/td>\n",
       "      <td>0.263286<\/td>\n",
       "    <\/tr>\n",
       "    <tr>\n",
       "      <th>Social_2<\/th>\n",
       "      <td>-0.002033<\/td>\n",
       "      <td>0.167479<\/td>\n",
       "      <td>0.070445<\/td>\n",
       "      <td>-0.043120<\/td>\n",
       "      <td>-0.025559<\/td>\n",
       "      <td>0.026523<\/td>\n",
       "      <td>-0.016560<\/td>\n",
       "      <td>-0.034052<\/td>\n",
       "      <td>0.001970<\/td>\n",
       "      <td>0.009264<\/td>\n",
       "      <td>0.012709<\/td>\n",
       "      <td>-0.007394<\/td>\n",
       "      <td>0.955988<\/td>\n",
       "      <td>1.000000<\/td>\n",
       "      <td>0.073379<\/td>\n",
       "      <td>0.048138<\/td>\n",
       "      <td>0.559163<\/td>\n",
       "      <td>-0.143777<\/td>\n",
       "      <td>0.239226<\/td>\n",
       "    <\/tr>\n",
       "    <tr>\n",
       "      <th>Social_3<\/th>\n",
       "      <td>-0.009358<\/td>\n",
       "      <td>0.136095<\/td>\n",
       "      <td>0.012233<\/td>\n",
       "      <td>0.035241<\/td>\n",
       "      <td>0.007896<\/td>\n",
       "      <td>-0.017840<\/td>\n",
       "      <td>-0.002237<\/td>\n",
       "      <td>-0.017172<\/td>\n",
       "      <td>0.000819<\/td>\n",
       "      <td>-0.124068<\/td>\n",
       "      <td>-0.008512<\/td>\n",
       "      <td>-0.014595<\/td>\n",
       "      <td>0.023721<\/td>\n",
       "      <td>0.073379<\/td>\n",
       "      <td>1.000000<\/td>\n",
       "      <td>0.164168<\/td>\n",
       "      <td>0.662113<\/td>\n",
       "      <td>-0.082810<\/td>\n",
       "      <td>0.074878<\/td>\n",
       "    <\/tr>\n",
       "    <tr>\n",
       "      <th>Healthcare_1<\/th>\n",
       "      <td>-0.002851<\/td>\n",
       "      <td>0.265185<\/td>\n",
       "      <td>0.036011<\/td>\n",
       "      <td>-0.034853<\/td>\n",
       "      <td>-0.006226<\/td>\n",
       "      <td>0.005619<\/td>\n",
       "      <td>-0.106125<\/td>\n",
       "      <td>-0.117241<\/td>\n",
       "      <td>-0.010250<\/td>\n",
       "      <td>0.004375<\/td>\n",
       "      <td>0.046609<\/td>\n",
       "      <td>0.137952<\/td>\n",
       "      <td>0.075903<\/td>\n",
       "      <td>0.048138<\/td>\n",
       "      <td>0.164168<\/td>\n",
       "      <td>1.000000<\/td>\n",
       "      <td>0.074953<\/td>\n",
       "      <td>-0.018911<\/td>\n",
       "      <td>0.128059<\/td>\n",
       "    <\/tr>\n",
       "    <tr>\n",
       "      <th>Shops_1<\/th>\n",
       "      <td>-0.008718<\/td>\n",
       "      <td>0.174214<\/td>\n",
       "      <td>0.052642<\/td>\n",
       "      <td>0.021357<\/td>\n",
       "      <td>-0.003355<\/td>\n",
       "      <td>0.003248<\/td>\n",
       "      <td>0.024264<\/td>\n",
       "      <td>0.000926<\/td>\n",
       "      <td>0.003681<\/td>\n",
       "      <td>-0.076749<\/td>\n",
       "      <td>-0.051892<\/td>\n",
       "      <td>-0.001859<\/td>\n",
       "      <td>0.526272<\/td>\n",
       "      <td>0.559163<\/td>\n",
       "      <td>0.662113<\/td>\n",
       "      <td>0.074953<\/td>\n",
       "      <td>1.000000<\/td>\n",
       "      <td>-0.139065<\/td>\n",
       "      <td>0.180876<\/td>\n",
       "    <\/tr>\n",
       "    <tr>\n",
       "      <th>Shops_2<\/th>\n",
       "      <td>-0.003645<\/td>\n",
       "      <td>0.021018<\/td>\n",
       "      <td>-0.000426<\/td>\n",
       "      <td>0.049380<\/td>\n",
       "      <td>0.001697<\/td>\n",
       "      <td>0.023657<\/td>\n",
       "      <td>0.013626<\/td>\n",
       "      <td>-0.001707<\/td>\n",
       "      <td>-0.002994<\/td>\n",
       "      <td>-0.079809<\/td>\n",
       "      <td>0.022242<\/td>\n",
       "      <td>-0.050425<\/td>\n",
       "      <td>-0.144644<\/td>\n",
       "      <td>-0.143777<\/td>\n",
       "      <td>-0.082810<\/td>\n",
       "      <td>-0.018911<\/td>\n",
       "      <td>-0.139065<\/td>\n",
       "      <td>1.000000<\/td>\n",
       "      <td>-0.070388<\/td>\n",
       "    <\/tr>\n",
       "    <tr>\n",
       "      <th>Price<\/th>\n",
       "      <td>0.009880<\/td>\n",
       "      <td>0.265100<\/td>\n",
       "      <td>0.551126<\/td>\n",
       "      <td>0.520075<\/td>\n",
       "      <td>0.078331<\/td>\n",
       "      <td>0.023729<\/td>\n",
       "      <td>0.128715<\/td>\n",
       "      <td>0.087143<\/td>\n",
       "      <td>0.004305<\/td>\n",
       "      <td>-0.058381<\/td>\n",
       "      <td>-0.022379<\/td>\n",
       "      <td>0.052585<\/td>\n",
       "      <td>0.263286<\/td>\n",
       "      <td>0.239226<\/td>\n",
       "      <td>0.074878<\/td>\n",
       "      <td>0.128059<\/td>\n",
       "      <td>0.180876<\/td>\n",
       "      <td>-0.070388<\/td>\n",
       "      <td>1.000000<\/td>\n",
       "    <\/tr>\n",
       "  <\/tbody>\n",
       "<\/table>\n",
       "<\/div>"
      ]
     },
     "metadata":{
      
     },
     "output_type":"display_data"
    }
   ],
   "metadata":{
    "datalore":{
     "node_id":"RDU8idVZsaXtfJrjVb98Cj",
     "type":"CODE",
     "hide_input_from_viewers":false,
     "hide_output_from_viewers":false,
     "report_properties":{
      
     }
    }
   }
  },
  {
   "cell_type":"code",
   "source":[
    "test_edited.corr()"
   ],
   "execution_count":21,
   "outputs":[
    {
     "data":{
      "text\/html":[
       "<div>\n",
       "<style scoped>\n",
       "    .dataframe tbody tr th:only-of-type {\n",
       "        vertical-align: middle;\n",
       "    }\n",
       "\n",
       "    .dataframe tbody tr th {\n",
       "        vertical-align: top;\n",
       "    }\n",
       "\n",
       "    .dataframe thead th {\n",
       "        text-align: right;\n",
       "    }\n",
       "<\/style>\n",
       "<table border=\"1\" class=\"dataframe\">\n",
       "  <thead>\n",
       "    <tr style=\"text-align: right;\">\n",
       "      <th><\/th>\n",
       "      <th>Id<\/th>\n",
       "      <th>DistrictId<\/th>\n",
       "      <th>Rooms<\/th>\n",
       "      <th>Square<\/th>\n",
       "      <th>LifeSquare<\/th>\n",
       "      <th>KitchenSquare<\/th>\n",
       "      <th>Floor<\/th>\n",
       "      <th>HouseFloor<\/th>\n",
       "      <th>HouseYear<\/th>\n",
       "      <th>Ecology_1<\/th>\n",
       "      <th>Ecology_2<\/th>\n",
       "      <th>Ecology_3<\/th>\n",
       "      <th>Social_1<\/th>\n",
       "      <th>Social_2<\/th>\n",
       "      <th>Social_3<\/th>\n",
       "      <th>Healthcare_1<\/th>\n",
       "      <th>Shops_1<\/th>\n",
       "      <th>Shops_2<\/th>\n",
       "    <\/tr>\n",
       "  <\/thead>\n",
       "  <tbody>\n",
       "    <tr>\n",
       "      <th>Id<\/th>\n",
       "      <td>1.000000<\/td>\n",
       "      <td>-0.018301<\/td>\n",
       "      <td>-0.006449<\/td>\n",
       "      <td>0.003529<\/td>\n",
       "      <td>0.031798<\/td>\n",
       "      <td>0.007471<\/td>\n",
       "      <td>-0.001000<\/td>\n",
       "      <td>0.004710<\/td>\n",
       "      <td>-0.002269<\/td>\n",
       "      <td>-0.002440<\/td>\n",
       "      <td>-0.001053<\/td>\n",
       "      <td>-0.004558<\/td>\n",
       "      <td>-0.025933<\/td>\n",
       "      <td>-0.021284<\/td>\n",
       "      <td>0.007603<\/td>\n",
       "      <td>-0.015769<\/td>\n",
       "      <td>-0.010774<\/td>\n",
       "      <td>-0.024510<\/td>\n",
       "    <\/tr>\n",
       "    <tr>\n",
       "      <th>DistrictId<\/th>\n",
       "      <td>-0.018301<\/td>\n",
       "      <td>1.000000<\/td>\n",
       "      <td>0.048480<\/td>\n",
       "      <td>-0.037734<\/td>\n",
       "      <td>-0.035415<\/td>\n",
       "      <td>0.058469<\/td>\n",
       "      <td>-0.130514<\/td>\n",
       "      <td>-0.172175<\/td>\n",
       "      <td>-0.210673<\/td>\n",
       "      <td>0.080369<\/td>\n",
       "      <td>0.086715<\/td>\n",
       "      <td>0.051160<\/td>\n",
       "      <td>0.221359<\/td>\n",
       "      <td>0.145558<\/td>\n",
       "      <td>0.131288<\/td>\n",
       "      <td>0.269519<\/td>\n",
       "      <td>0.157297<\/td>\n",
       "      <td>0.019741<\/td>\n",
       "    <\/tr>\n",
       "    <tr>\n",
       "      <th>Rooms<\/th>\n",
       "      <td>-0.006449<\/td>\n",
       "      <td>0.048480<\/td>\n",
       "      <td>1.000000<\/td>\n",
       "      <td>0.739951<\/td>\n",
       "      <td>0.517028<\/td>\n",
       "      <td>0.048677<\/td>\n",
       "      <td>-0.022912<\/td>\n",
       "      <td>-0.016454<\/td>\n",
       "      <td>-0.022472<\/td>\n",
       "      <td>-0.011814<\/td>\n",
       "      <td>-0.018900<\/td>\n",
       "      <td>0.004621<\/td>\n",
       "      <td>0.069809<\/td>\n",
       "      <td>0.067837<\/td>\n",
       "      <td>-0.007153<\/td>\n",
       "      <td>0.021736<\/td>\n",
       "      <td>0.036502<\/td>\n",
       "      <td>-0.020188<\/td>\n",
       "    <\/tr>\n",
       "    <tr>\n",
       "      <th>Square<\/th>\n",
       "      <td>0.003529<\/td>\n",
       "      <td>-0.037734<\/td>\n",
       "      <td>0.739951<\/td>\n",
       "      <td>1.000000<\/td>\n",
       "      <td>0.617746<\/td>\n",
       "      <td>0.051622<\/td>\n",
       "      <td>0.112994<\/td>\n",
       "      <td>0.156745<\/td>\n",
       "      <td>0.221221<\/td>\n",
       "      <td>-0.055763<\/td>\n",
       "      <td>-0.047730<\/td>\n",
       "      <td>-0.042064<\/td>\n",
       "      <td>-0.086439<\/td>\n",
       "      <td>-0.052063<\/td>\n",
       "      <td>0.003502<\/td>\n",
       "      <td>-0.053984<\/td>\n",
       "      <td>-0.010220<\/td>\n",
       "      <td>0.013676<\/td>\n",
       "    <\/tr>\n",
       "    <tr>\n",
       "      <th>LifeSquare<\/th>\n",
       "      <td>0.031798<\/td>\n",
       "      <td>-0.035415<\/td>\n",
       "      <td>0.517028<\/td>\n",
       "      <td>0.617746<\/td>\n",
       "      <td>1.000000<\/td>\n",
       "      <td>0.036397<\/td>\n",
       "      <td>0.061179<\/td>\n",
       "      <td>0.104199<\/td>\n",
       "      <td>0.199143<\/td>\n",
       "      <td>-0.043860<\/td>\n",
       "      <td>-0.038785<\/td>\n",
       "      <td>-0.037133<\/td>\n",
       "      <td>-0.073546<\/td>\n",
       "      <td>-0.055187<\/td>\n",
       "      <td>0.019068<\/td>\n",
       "      <td>-0.038017<\/td>\n",
       "      <td>-0.002682<\/td>\n",
       "      <td>-0.005744<\/td>\n",
       "    <\/tr>\n",
       "    <tr>\n",
       "      <th>KitchenSquare<\/th>\n",
       "      <td>0.007471<\/td>\n",
       "      <td>0.058469<\/td>\n",
       "      <td>0.048677<\/td>\n",
       "      <td>0.051622<\/td>\n",
       "      <td>0.036397<\/td>\n",
       "      <td>1.000000<\/td>\n",
       "      <td>-0.005082<\/td>\n",
       "      <td>0.058495<\/td>\n",
       "      <td>0.068695<\/td>\n",
       "      <td>0.005025<\/td>\n",
       "      <td>0.004139<\/td>\n",
       "      <td>0.017555<\/td>\n",
       "      <td>0.100130<\/td>\n",
       "      <td>0.092744<\/td>\n",
       "      <td>-0.046455<\/td>\n",
       "      <td>0.018741<\/td>\n",
       "      <td>0.011005<\/td>\n",
       "      <td>0.008735<\/td>\n",
       "    <\/tr>\n",
       "    <tr>\n",
       "      <th>Floor<\/th>\n",
       "      <td>-0.001000<\/td>\n",
       "      <td>-0.130514<\/td>\n",
       "      <td>-0.022912<\/td>\n",
       "      <td>0.112994<\/td>\n",
       "      <td>0.061179<\/td>\n",
       "      <td>-0.005082<\/td>\n",
       "      <td>1.000000<\/td>\n",
       "      <td>0.492989<\/td>\n",
       "      <td>0.280718<\/td>\n",
       "      <td>-0.027548<\/td>\n",
       "      <td>-0.024069<\/td>\n",
       "      <td>-0.039081<\/td>\n",
       "      <td>-0.041018<\/td>\n",
       "      <td>-0.005598<\/td>\n",
       "      <td>0.007108<\/td>\n",
       "      <td>-0.095512<\/td>\n",
       "      <td>0.042854<\/td>\n",
       "      <td>0.000082<\/td>\n",
       "    <\/tr>\n",
       "    <tr>\n",
       "      <th>HouseFloor<\/th>\n",
       "      <td>0.004710<\/td>\n",
       "      <td>-0.172175<\/td>\n",
       "      <td>-0.016454<\/td>\n",
       "      <td>0.156745<\/td>\n",
       "      <td>0.104199<\/td>\n",
       "      <td>0.058495<\/td>\n",
       "      <td>0.492989<\/td>\n",
       "      <td>1.000000<\/td>\n",
       "      <td>0.424599<\/td>\n",
       "      <td>-0.048648<\/td>\n",
       "      <td>-0.054208<\/td>\n",
       "      <td>-0.032442<\/td>\n",
       "      <td>-0.078353<\/td>\n",
       "      <td>-0.039683<\/td>\n",
       "      <td>-0.039413<\/td>\n",
       "      <td>-0.131581<\/td>\n",
       "      <td>-0.007258<\/td>\n",
       "      <td>-0.018121<\/td>\n",
       "    <\/tr>\n",
       "    <tr>\n",
       "      <th>HouseYear<\/th>\n",
       "      <td>-0.002269<\/td>\n",
       "      <td>-0.210673<\/td>\n",
       "      <td>-0.022472<\/td>\n",
       "      <td>0.221221<\/td>\n",
       "      <td>0.199143<\/td>\n",
       "      <td>0.068695<\/td>\n",
       "      <td>0.280718<\/td>\n",
       "      <td>0.424599<\/td>\n",
       "      <td>1.000000<\/td>\n",
       "      <td>-0.074931<\/td>\n",
       "      <td>-0.061059<\/td>\n",
       "      <td>-0.067357<\/td>\n",
       "      <td>-0.057470<\/td>\n",
       "      <td>0.006975<\/td>\n",
       "      <td>-0.074811<\/td>\n",
       "      <td>-0.206200<\/td>\n",
       "      <td>-0.017997<\/td>\n",
       "      <td>0.039606<\/td>\n",
       "    <\/tr>\n",
       "    <tr>\n",
       "      <th>Ecology_1<\/th>\n",
       "      <td>-0.002440<\/td>\n",
       "      <td>0.080369<\/td>\n",
       "      <td>-0.011814<\/td>\n",
       "      <td>-0.055763<\/td>\n",
       "      <td>-0.043860<\/td>\n",
       "      <td>0.005025<\/td>\n",
       "      <td>-0.027548<\/td>\n",
       "      <td>-0.048648<\/td>\n",
       "      <td>-0.074931<\/td>\n",
       "      <td>1.000000<\/td>\n",
       "      <td>0.114785<\/td>\n",
       "      <td>0.193213<\/td>\n",
       "      <td>0.016759<\/td>\n",
       "      <td>0.001057<\/td>\n",
       "      <td>-0.120340<\/td>\n",
       "      <td>0.019421<\/td>\n",
       "      <td>-0.075825<\/td>\n",
       "      <td>-0.077424<\/td>\n",
       "    <\/tr>\n",
       "    <tr>\n",
       "      <th>Ecology_2<\/th>\n",
       "      <td>-0.001053<\/td>\n",
       "      <td>0.086715<\/td>\n",
       "      <td>-0.018900<\/td>\n",
       "      <td>-0.047730<\/td>\n",
       "      <td>-0.038785<\/td>\n",
       "      <td>0.004139<\/td>\n",
       "      <td>-0.024069<\/td>\n",
       "      <td>-0.054208<\/td>\n",
       "      <td>-0.061059<\/td>\n",
       "      <td>0.114785<\/td>\n",
       "      <td>1.000000<\/td>\n",
       "      <td>-0.017255<\/td>\n",
       "      <td>0.056533<\/td>\n",
       "      <td>0.006186<\/td>\n",
       "      <td>-0.010625<\/td>\n",
       "      <td>0.038241<\/td>\n",
       "      <td>-0.053954<\/td>\n",
       "      <td>0.037631<\/td>\n",
       "    <\/tr>\n",
       "    <tr>\n",
       "      <th>Ecology_3<\/th>\n",
       "      <td>-0.004558<\/td>\n",
       "      <td>0.051160<\/td>\n",
       "      <td>0.004621<\/td>\n",
       "      <td>-0.042064<\/td>\n",
       "      <td>-0.037133<\/td>\n",
       "      <td>0.017555<\/td>\n",
       "      <td>-0.039081<\/td>\n",
       "      <td>-0.032442<\/td>\n",
       "      <td>-0.067357<\/td>\n",
       "      <td>0.193213<\/td>\n",
       "      <td>-0.017255<\/td>\n",
       "      <td>1.000000<\/td>\n",
       "      <td>0.043335<\/td>\n",
       "      <td>-0.003886<\/td>\n",
       "      <td>-0.009865<\/td>\n",
       "      <td>0.121026<\/td>\n",
       "      <td>-0.010632<\/td>\n",
       "      <td>-0.052519<\/td>\n",
       "    <\/tr>\n",
       "    <tr>\n",
       "      <th>Social_1<\/th>\n",
       "      <td>-0.025933<\/td>\n",
       "      <td>0.221359<\/td>\n",
       "      <td>0.069809<\/td>\n",
       "      <td>-0.086439<\/td>\n",
       "      <td>-0.073546<\/td>\n",
       "      <td>0.100130<\/td>\n",
       "      <td>-0.041018<\/td>\n",
       "      <td>-0.078353<\/td>\n",
       "      <td>-0.057470<\/td>\n",
       "      <td>0.016759<\/td>\n",
       "      <td>0.056533<\/td>\n",
       "      <td>0.043335<\/td>\n",
       "      <td>1.000000<\/td>\n",
       "      <td>0.955823<\/td>\n",
       "      <td>0.019577<\/td>\n",
       "      <td>0.054092<\/td>\n",
       "      <td>0.528970<\/td>\n",
       "      <td>-0.128775<\/td>\n",
       "    <\/tr>\n",
       "    <tr>\n",
       "      <th>Social_2<\/th>\n",
       "      <td>-0.021284<\/td>\n",
       "      <td>0.145558<\/td>\n",
       "      <td>0.067837<\/td>\n",
       "      <td>-0.052063<\/td>\n",
       "      <td>-0.055187<\/td>\n",
       "      <td>0.092744<\/td>\n",
       "      <td>-0.005598<\/td>\n",
       "      <td>-0.039683<\/td>\n",
       "      <td>0.006975<\/td>\n",
       "      <td>0.001057<\/td>\n",
       "      <td>0.006186<\/td>\n",
       "      <td>-0.003886<\/td>\n",
       "      <td>0.955823<\/td>\n",
       "      <td>1.000000<\/td>\n",
       "      <td>0.065041<\/td>\n",
       "      <td>0.028186<\/td>\n",
       "      <td>0.560142<\/td>\n",
       "      <td>-0.131595<\/td>\n",
       "    <\/tr>\n",
       "    <tr>\n",
       "      <th>Social_3<\/th>\n",
       "      <td>0.007603<\/td>\n",
       "      <td>0.131288<\/td>\n",
       "      <td>-0.007153<\/td>\n",
       "      <td>0.003502<\/td>\n",
       "      <td>0.019068<\/td>\n",
       "      <td>-0.046455<\/td>\n",
       "      <td>0.007108<\/td>\n",
       "      <td>-0.039413<\/td>\n",
       "      <td>-0.074811<\/td>\n",
       "      <td>-0.120340<\/td>\n",
       "      <td>-0.010625<\/td>\n",
       "      <td>-0.009865<\/td>\n",
       "      <td>0.019577<\/td>\n",
       "      <td>0.065041<\/td>\n",
       "      <td>1.000000<\/td>\n",
       "      <td>0.162540<\/td>\n",
       "      <td>0.648509<\/td>\n",
       "      <td>-0.085569<\/td>\n",
       "    <\/tr>\n",
       "    <tr>\n",
       "      <th>Healthcare_1<\/th>\n",
       "      <td>-0.015769<\/td>\n",
       "      <td>0.269519<\/td>\n",
       "      <td>0.021736<\/td>\n",
       "      <td>-0.053984<\/td>\n",
       "      <td>-0.038017<\/td>\n",
       "      <td>0.018741<\/td>\n",
       "      <td>-0.095512<\/td>\n",
       "      <td>-0.131581<\/td>\n",
       "      <td>-0.206200<\/td>\n",
       "      <td>0.019421<\/td>\n",
       "      <td>0.038241<\/td>\n",
       "      <td>0.121026<\/td>\n",
       "      <td>0.054092<\/td>\n",
       "      <td>0.028186<\/td>\n",
       "      <td>0.162540<\/td>\n",
       "      <td>1.000000<\/td>\n",
       "      <td>0.087356<\/td>\n",
       "      <td>-0.019583<\/td>\n",
       "    <\/tr>\n",
       "    <tr>\n",
       "      <th>Shops_1<\/th>\n",
       "      <td>-0.010774<\/td>\n",
       "      <td>0.157297<\/td>\n",
       "      <td>0.036502<\/td>\n",
       "      <td>-0.010220<\/td>\n",
       "      <td>-0.002682<\/td>\n",
       "      <td>0.011005<\/td>\n",
       "      <td>0.042854<\/td>\n",
       "      <td>-0.007258<\/td>\n",
       "      <td>-0.017997<\/td>\n",
       "      <td>-0.075825<\/td>\n",
       "      <td>-0.053954<\/td>\n",
       "      <td>-0.010632<\/td>\n",
       "      <td>0.528970<\/td>\n",
       "      <td>0.560142<\/td>\n",
       "      <td>0.648509<\/td>\n",
       "      <td>0.087356<\/td>\n",
       "      <td>1.000000<\/td>\n",
       "      <td>-0.130038<\/td>\n",
       "    <\/tr>\n",
       "    <tr>\n",
       "      <th>Shops_2<\/th>\n",
       "      <td>-0.024510<\/td>\n",
       "      <td>0.019741<\/td>\n",
       "      <td>-0.020188<\/td>\n",
       "      <td>0.013676<\/td>\n",
       "      <td>-0.005744<\/td>\n",
       "      <td>0.008735<\/td>\n",
       "      <td>0.000082<\/td>\n",
       "      <td>-0.018121<\/td>\n",
       "      <td>0.039606<\/td>\n",
       "      <td>-0.077424<\/td>\n",
       "      <td>0.037631<\/td>\n",
       "      <td>-0.052519<\/td>\n",
       "      <td>-0.128775<\/td>\n",
       "      <td>-0.131595<\/td>\n",
       "      <td>-0.085569<\/td>\n",
       "      <td>-0.019583<\/td>\n",
       "      <td>-0.130038<\/td>\n",
       "      <td>1.000000<\/td>\n",
       "    <\/tr>\n",
       "  <\/tbody>\n",
       "<\/table>\n",
       "<\/div>"
      ]
     },
     "metadata":{
      
     },
     "output_type":"display_data"
    }
   ],
   "metadata":{
    "datalore":{
     "node_id":"mQYMXokDXUTWZWavajz3G2",
     "type":"CODE",
     "hide_input_from_viewers":false,
     "hide_output_from_viewers":false,
     "report_properties":{
      
     }
    }
   }
  },
  {
   "cell_type":"code",
   "source":[
    "train_edited = train_edited.drop(['Social_2'], axis=1) if 'Social_2' in train_edited.columns else train_edited\n",
    "test_edited = test_edited.drop(['Social_2'], axis=1) if 'Social_2' in test_edited.columns else test_edited"
   ],
   "execution_count":22,
   "outputs":[
    
   ],
   "metadata":{
    "datalore":{
     "node_id":"8hNEqQ6HBVkyAmSFhznCeK",
     "type":"CODE",
     "hide_input_from_viewers":false,
     "hide_output_from_viewers":false,
     "report_properties":{
      
     }
    }
   }
  },
  {
   "cell_type":"markdown",
   "source":[
    "10. Разделим все тренировочные данные на тренировочные и валидационные"
   ],
   "attachments":{
    
   },
   "metadata":{
    "datalore":{
     "node_id":"jtuoAtIkXACnGN1HA3JfAQ",
     "type":"MD",
     "hide_input_from_viewers":true,
     "hide_output_from_viewers":true
    }
   }
  },
  {
   "cell_type":"code",
   "source":[
    "X = train_edited.drop(['Id', 'Price'], axis=1)\n",
    "y = train_edited['Price']\n",
    "\n",
    "X_train, X_val, y_train, y_val = train_test_split(X, y, test_size=0.2)\n",
    "X_train.shape, y_train.shape"
   ],
   "execution_count":23,
   "outputs":[
    {
     "data":{
      "text\/plain":[
       "((8000, 16), (8000,))"
      ]
     },
     "metadata":{
      
     },
     "output_type":"display_data"
    }
   ],
   "metadata":{
    "datalore":{
     "node_id":"2Wj4Hc6MSx353yKEkuoh7Z",
     "type":"CODE",
     "hide_input_from_viewers":false,
     "hide_output_from_viewers":false,
     "report_properties":{
      
     }
    }
   }
  },
  {
   "cell_type":"markdown",
   "source":[
    "# Обучение модели"
   ],
   "attachments":{
    
   },
   "metadata":{
    "datalore":{
     "node_id":"SEELIxk9YtkINQXJKvcNFQ",
     "type":"MD",
     "hide_input_from_viewers":true,
     "hide_output_from_viewers":true
    }
   }
  },
  {
   "cell_type":"markdown",
   "source":[
    "1. Воспользуемся алгоритмом RandomForestRegressor для обучения модели"
   ],
   "attachments":{
    
   },
   "metadata":{
    "datalore":{
     "node_id":"piAsQJqBxKgaWoi2ieaZQM",
     "type":"MD",
     "hide_input_from_viewers":true,
     "hide_output_from_viewers":true
    }
   }
  },
  {
   "cell_type":"code",
   "source":[
    "from sklearn.ensemble import RandomForestRegressor"
   ],
   "execution_count":24,
   "outputs":[
    
   ],
   "metadata":{
    "datalore":{
     "node_id":"SbrioEeMet36cAaFGprhqt",
     "type":"CODE",
     "hide_input_from_viewers":false,
     "hide_output_from_viewers":false,
     "report_properties":{
      
     }
    }
   }
  },
  {
   "cell_type":"code",
   "source":[
    "random_forest = RandomForestRegressor(criterion='absolute_error', max_depth=12, random_state=42)\n",
    "random_forest.fit(X_train, y_train)"
   ],
   "execution_count":25,
   "outputs":[
    {
     "data":{
      "text\/plain":[
       "RandomForestRegressor(criterion='absolute_error', max_depth=12, random_state=42)"
      ]
     },
     "metadata":{
      
     },
     "output_type":"display_data"
    }
   ],
   "metadata":{
    "datalore":{
     "node_id":"0TJaOdTIYIBaTUIHt1fcto",
     "type":"CODE",
     "hide_input_from_viewers":false,
     "hide_output_from_viewers":false,
     "report_properties":{
      
     }
    }
   }
  },
  {
   "cell_type":"markdown",
   "source":[
    "2. Проверим работу модели на валидационных данных"
   ],
   "attachments":{
    
   },
   "metadata":{
    "datalore":{
     "node_id":"KTgnkySVcDo4SvVL0aB1AK",
     "type":"MD",
     "hide_input_from_viewers":true,
     "hide_output_from_viewers":true
    }
   }
  },
  {
   "cell_type":"code",
   "source":[
    "random_forest.score(X_val, y_val.values)"
   ],
   "execution_count":26,
   "outputs":[
    {
     "data":{
      "text\/plain":[
       "0.747522544832254"
      ]
     },
     "metadata":{
      
     },
     "output_type":"display_data"
    }
   ],
   "metadata":{
    "datalore":{
     "node_id":"At4ySuO6ThGYBRLYnsXCeE",
     "type":"CODE",
     "hide_input_from_viewers":false,
     "hide_output_from_viewers":false,
     "report_properties":{
      
     }
    }
   }
  },
  {
   "cell_type":"code",
   "source":[
    "X_test = test_edited.drop('Id', axis=1)"
   ],
   "execution_count":27,
   "outputs":[
    
   ],
   "metadata":{
    "datalore":{
     "node_id":"VqFdkJGNP1V2erExhkI3DV",
     "type":"CODE",
     "hide_input_from_viewers":false,
     "hide_output_from_viewers":false,
     "report_properties":{
      
     }
    }
   }
  },
  {
   "cell_type":"markdown",
   "source":[
    "3. Предскажем цены на недвижимость для тестовых данных"
   ],
   "attachments":{
    
   },
   "metadata":{
    "datalore":{
     "node_id":"EOkYQ7uS3o53cjUpLTjpVK",
     "type":"MD",
     "hide_input_from_viewers":true,
     "hide_output_from_viewers":true
    }
   }
  },
  {
   "cell_type":"code",
   "source":[
    "prediction_df = pd.DataFrame({'Id': test_edited['Id'],\n",
    "                              'Price': random_forest.predict(X_test)})"
   ],
   "execution_count":28,
   "outputs":[
    
   ],
   "metadata":{
    "datalore":{
     "node_id":"xIhLi5WweYBVSyp2N1qghw",
     "type":"CODE",
     "hide_input_from_viewers":false,
     "hide_output_from_viewers":false,
     "report_properties":{
      
     }
    }
   }
  },
  {
   "cell_type":"code",
   "source":[
    "prediction_df.to_csv('EBulyga_predictions.csv', index=False)"
   ],
   "execution_count":29,
   "outputs":[
    
   ],
   "metadata":{
    "datalore":{
     "node_id":"lVoSQTpwLdtAXF4D3wcNtc",
     "type":"CODE",
     "hide_input_from_viewers":false,
     "hide_output_from_viewers":false,
     "report_properties":{
      
     }
    }
   }
  }
 ],
 "metadata":{
  "kernelspec":{
   "display_name":"Python",
   "language":"python",
   "name":"python"
  },
  "datalore":{
   "version":1,
   "computation_mode":"JUPYTER",
   "package_manager":"pip",
   "base_environment":"default",
   "packages":[
    
   ]
  }
 },
 "nbformat":4,
 "nbformat_minor":4
}